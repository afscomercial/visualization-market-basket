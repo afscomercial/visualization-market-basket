{
  "cells": [
    {
      "cell_type": "markdown",
      "metadata": {
        "id": "-gD58edvB-5G"
      },
      "source": [
        "# INSTACART MARKET BASKET ANALYSIS\n",
        "\n",
        "**Group members:**\n",
        "* Andres Salguero - C0932873\n",
        "* Andrea Franco - C0931897\n",
        "* Uma Varadaraj - C0935831\n",
        "* Pallavi Sathyanarayana - C0935830\n",
        "* Amritakaur badhan - C0928455"
      ]
    },
    {
      "cell_type": "markdown",
      "metadata": {
        "id": "Jl4lpjcYB-5J"
      },
      "source": [
        "**LINK TO THE STREAMLIT DEPLOYMENT:** https://visualization-market-basket-ycseb47iyjoqg725bbudet.streamlit.app/"
      ]
    },
    {
      "cell_type": "markdown",
      "metadata": {
        "id": "PAN7iTGzB-5K"
      },
      "source": [
        "# Abstract"
      ]
    },
    {
      "cell_type": "markdown",
      "metadata": {
        "id": "3amyM9f0B-5K"
      },
      "source": [
        "Due to the high complexity of the retail sector dynamics and the high competition between brands to become the preferred option of costumers, it becomes a priority to came with new strategies to efficiently analyze retail data and get insights so the companies can perform informed decision-making.\n",
        "The following project aims to discover relationships among different products and get insights of customer purchasing patterns and predicting the product’s reordering behavior by processing and analyzing the Instacart Market Basket Analysis dataset which contains more than 3 million grocery orders from over 200,000 users and allow future work to calculate the probability of the user purchasing a product from a category after buying from another. This analysis will provide the actionable insights regarding customer preferences and co-purchasing tendencies.\n",
        "\n",
        "Preprocessing and feature engineering were performed to ensure that the dataset is ready for further association rules and data modeling that will result in personalized marketing strategies, enhancing inventory management and improving overall operational efficiency in the industry, showing the potential of advanced methodologies like data analytics to increase business growth.\n"
      ]
    },
    {
      "cell_type": "markdown",
      "metadata": {
        "id": "e5VYClkKB-5L"
      },
      "source": [
        "# Introduction"
      ]
    },
    {
      "cell_type": "markdown",
      "metadata": {
        "id": "xPxvGC24B-5L"
      },
      "source": [
        "In the modern retail sector, understanding customer purchasing habits and predicting product reordering trends is very important to improve inventory management, increase customer satisfaction, and gain revenue. Predict the probability of a costumer reordering a product using business project-driven advanced statistical data methodologies are pivotal to optimize inventories, enhance customer satisfaction, and improve revenue.\n",
        "\n",
        "The following sections of the project covers data preprocessing, cleaning and analysis of the dataset behind the to identify patterns with the data.\n"
      ]
    },
    {
      "cell_type": "markdown",
      "metadata": {
        "id": "sr-o_XyXB-5L"
      },
      "source": [
        "# Dataset Details"
      ]
    },
    {
      "cell_type": "markdown",
      "metadata": {
        "id": "J-ENKJcAB-5M"
      },
      "source": [
        "The [Instacart Dataset](https://www.kaggle.com/c/instacart-market-basket-analysis/overview) is a open sourced dataset that contains more than 3 Million Instacart Orders from the Instacart delivery app, and a grocery ordering website published in a Kaggle competition which goal is to make it easy for customers to order their favorite grocery products at their comfort level.\n",
        "\n",
        "The dataset originally is divided into 5 main csv files with information about:\n",
        "\n",
        "* aisles\n",
        "* departments\n",
        "* order-products relations\n",
        "* orders\n",
        "* products\n",
        "\n",
        "Those dataset were merged into a single dataset  and sampled to get only 80,000 samples to perform the analysis more easily and using the available computational resources."
      ]
    },
    {
      "cell_type": "markdown",
      "metadata": {
        "id": "AaQarYpxB-5M"
      },
      "source": [
        "# Libraries"
      ]
    },
    {
      "cell_type": "code",
      "execution_count": null,
      "metadata": {
        "id": "2TSHs-q-B-5M"
      },
      "outputs": [],
      "source": [
        "import pandas as pd\n",
        "import matplotlib.pyplot as plt\n",
        "import numpy as np\n",
        "import seaborn as sns"
      ]
    },
    {
      "cell_type": "markdown",
      "metadata": {
        "id": "CjweCa2kB-5N"
      },
      "source": [
        "# Dataset Merging"
      ]
    },
    {
      "cell_type": "code",
      "execution_count": null,
      "metadata": {
        "id": "UsFJ9ZL4QEn1"
      },
      "outputs": [],
      "source": [
        "path = '/datasets/original/'"
      ]
    },
    {
      "cell_type": "code",
      "execution_count": null,
      "metadata": {
        "id": "gCoQg6fnPu7n"
      },
      "outputs": [],
      "source": [
        "aisles_df = pd.read_csv(path +\"aisles.csv\")\n",
        "order_prods_prior_df = pd.read_csv(path +\"order_products__prior.csv\")\n",
        "order_prods_train_df = pd.read_csv(path +\"order_products__train.csv\")\n",
        "orders_df = pd.read_csv(path +\"orders.csv\")\n",
        "products_df = pd.read_csv(path +\"products.csv\")"
      ]
    },
    {
      "cell_type": "code",
      "execution_count": null,
      "metadata": {
        "colab": {
          "base_uri": "https://localhost:8080/"
        },
        "id": "-RVzJCgOPu7o",
        "outputId": "5b595a63-8ad0-4250-9604-6684511f9b89"
      },
      "outputs": [
        {
          "name": "stdout",
          "output_type": "stream",
          "text": [
            "aisles shape:  (134, 2)\n",
            "order_prods_prior shape:  (32434489, 4)\n",
            "order_prods_train shape:  (1384617, 4)\n",
            "orders shape:  (3421083, 7)\n",
            "products shape:  (49688, 4)\n"
          ]
        }
      ],
      "source": [
        "print(\"aisles shape: \", aisles_df.shape)\n",
        "print(\"order_prods_prior shape: \", order_prods_prior_df.shape)\n",
        "print(\"order_prods_train shape: \", order_prods_train_df.shape)\n",
        "print(\"orders shape: \", orders_df.shape)\n",
        "print(\"products shape: \", products_df.shape)"
      ]
    },
    {
      "cell_type": "code",
      "execution_count": null,
      "metadata": {
        "id": "U8zZ5jzFPu7p",
        "outputId": "9c4f2ea7-a3c0-487f-f060-55f81a6ea739"
      },
      "outputs": [
        {
          "data": {
            "text/html": [
              "<div>\n",
              "<style scoped>\n",
              "    .dataframe tbody tr th:only-of-type {\n",
              "        vertical-align: middle;\n",
              "    }\n",
              "\n",
              "    .dataframe tbody tr th {\n",
              "        vertical-align: top;\n",
              "    }\n",
              "\n",
              "    .dataframe thead th {\n",
              "        text-align: right;\n",
              "    }\n",
              "</style>\n",
              "<table border=\"1\" class=\"dataframe\">\n",
              "  <thead>\n",
              "    <tr style=\"text-align: right;\">\n",
              "      <th></th>\n",
              "      <th>aisle_id</th>\n",
              "      <th>aisle</th>\n",
              "    </tr>\n",
              "  </thead>\n",
              "  <tbody>\n",
              "    <tr>\n",
              "      <th>0</th>\n",
              "      <td>1</td>\n",
              "      <td>prepared soups salads</td>\n",
              "    </tr>\n",
              "    <tr>\n",
              "      <th>1</th>\n",
              "      <td>2</td>\n",
              "      <td>specialty cheeses</td>\n",
              "    </tr>\n",
              "    <tr>\n",
              "      <th>2</th>\n",
              "      <td>3</td>\n",
              "      <td>energy granola bars</td>\n",
              "    </tr>\n",
              "    <tr>\n",
              "      <th>3</th>\n",
              "      <td>4</td>\n",
              "      <td>instant foods</td>\n",
              "    </tr>\n",
              "    <tr>\n",
              "      <th>4</th>\n",
              "      <td>5</td>\n",
              "      <td>marinades meat preparation</td>\n",
              "    </tr>\n",
              "  </tbody>\n",
              "</table>\n",
              "</div>"
            ],
            "text/plain": [
              "   aisle_id                       aisle\n",
              "0         1       prepared soups salads\n",
              "1         2           specialty cheeses\n",
              "2         3         energy granola bars\n",
              "3         4               instant foods\n",
              "4         5  marinades meat preparation"
            ]
          },
          "execution_count": 6,
          "metadata": {},
          "output_type": "execute_result"
        }
      ],
      "source": [
        "aisles_df.head()"
      ]
    },
    {
      "cell_type": "markdown",
      "metadata": {
        "id": "dq9sl_p-Pu7p"
      },
      "source": [
        "Reduce the number of aisles"
      ]
    },
    {
      "cell_type": "code",
      "execution_count": null,
      "metadata": {
        "id": "Bv_5EbiZPu7q",
        "outputId": "246fbbc4-0850-4546-9e3b-28ebd9b53322"
      },
      "outputs": [
        {
          "data": {
            "text/plain": [
              "array(['prepared soups salads', 'specialty cheeses',\n",
              "       'energy granola bars', 'instant foods',\n",
              "       'marinades meat preparation', 'other', 'packaged meat',\n",
              "       'bakery desserts', 'pasta sauce', 'kitchen supplies',\n",
              "       'cold flu allergy', 'fresh pasta', 'prepared meals',\n",
              "       'tofu meat alternatives', 'packaged seafood', 'fresh herbs',\n",
              "       'baking ingredients', 'bulk dried fruits vegetables',\n",
              "       'oils vinegars', 'oral hygiene', 'packaged cheese', 'hair care',\n",
              "       'popcorn jerky', 'fresh fruits', 'soap', 'coffee', 'beers coolers',\n",
              "       'red wines', 'honeys syrups nectars', 'latino foods',\n",
              "       'refrigerated', 'packaged produce', 'kosher foods',\n",
              "       'frozen meat seafood', 'poultry counter', 'butter',\n",
              "       'ice cream ice', 'frozen meals', 'seafood counter',\n",
              "       'dog food care', 'cat food care', 'frozen vegan vegetarian',\n",
              "       'buns rolls', 'eye ear care', 'candy chocolate', 'mint gum',\n",
              "       'vitamins supplements', 'breakfast bars pastries',\n",
              "       'packaged poultry', 'fruit vegetable snacks',\n",
              "       'preserved dips spreads', 'frozen breakfast', 'cream',\n",
              "       'paper goods', 'shave needs', 'diapers wipes', 'granola',\n",
              "       'frozen breads doughs', 'canned meals beans', 'trash bags liners',\n",
              "       'cookies cakes', 'white wines', 'grains rice dried goods',\n",
              "       'energy sports drinks', 'protein meal replacements', 'asian foods',\n",
              "       'fresh dips tapenades', 'bulk grains rice dried goods',\n",
              "       'soup broth bouillon', 'digestion',\n",
              "       'refrigerated pudding desserts', 'condiments', 'facial care',\n",
              "       'dish detergents', 'laundry', 'indian foods', 'soft drinks',\n",
              "       'crackers', 'frozen pizza', 'deodorants',\n",
              "       'canned jarred vegetables', 'baby accessories', 'fresh vegetables',\n",
              "       'milk', 'food storage', 'eggs', 'more household', 'spreads',\n",
              "       'salad dressing toppings', 'cocoa drink mixes', 'soy lactosefree',\n",
              "       'baby food formula', 'breakfast bakery', 'tea',\n",
              "       'canned meat seafood', 'lunch meat', 'baking supplies decor',\n",
              "       'juice nectars', 'canned fruit applesauce', 'missing',\n",
              "       'air fresheners candles', 'baby bath body care',\n",
              "       'ice cream toppings', 'spices seasonings',\n",
              "       'doughs gelatins bake mixes', 'hot dogs bacon sausage',\n",
              "       'chips pretzels', 'other creams cheeses', 'skin care',\n",
              "       'pickled goods olives', 'plates bowls cups flatware', 'bread',\n",
              "       'frozen juice', 'cleaning products',\n",
              "       'water seltzer sparkling water', 'frozen produce',\n",
              "       'nuts seeds dried fruit', 'first aid', 'frozen dessert', 'yogurt',\n",
              "       'cereal', 'meat counter', 'packaged vegetables fruits', 'spirits',\n",
              "       'trail mix snack mix', 'feminine care', 'body lotions soap',\n",
              "       'tortillas flat bread', 'frozen appetizers sides',\n",
              "       'hot cereal pancake mixes', 'dry pasta', 'beauty',\n",
              "       'muscles joints pain relief', 'specialty wines champagnes'],\n",
              "      dtype=object)"
            ]
          },
          "execution_count": 7,
          "metadata": {},
          "output_type": "execute_result"
        }
      ],
      "source": [
        "aisles_df['aisle'].unique()"
      ]
    },
    {
      "cell_type": "markdown",
      "metadata": {
        "id": "qam5Sqq-Pu7q"
      },
      "source": [
        "Map into 5 big categories"
      ]
    },
    {
      "cell_type": "code",
      "execution_count": null,
      "metadata": {
        "id": "O3E4obEAPu7q"
      },
      "outputs": [],
      "source": [
        "def categorize_aisle(aisle):\n",
        "    fresh_foods = ['fresh fruits', 'fresh vegetables', 'fresh herbs', 'poultry counter', 'seafood counter', 'meat counter', 'fresh dips tapenades']\n",
        "    packaged_foods = ['energy granola bars', 'instant foods', 'bakery desserts', 'pasta sauce', 'baking ingredients', 'bulk dried fruits vegetables', 'popcorn jerky', 'candy chocolate', 'cookies cakes', 'crackers', 'chips pretzels', 'cereal', 'dry pasta', 'grains rice dried goods', 'packaged vegetables fruits', 'trail mix snack mix', 'soup broth bouillon', 'canned meals beans', 'canned jarred vegetables', 'canned meat seafood', 'canned fruit applesauce', 'spices seasonings', 'condiments', 'granola', 'preserved dips spreads', 'salad dressing toppings']\n",
        "    beverages = ['coffee', 'tea', 'juice nectars', 'soft drinks', 'water seltzer sparkling water', 'energy sports drinks', 'protein meal replacements', 'beers coolers', 'red wines', 'white wines', 'spirits', 'specialty wines champagnes', 'cocoa drink mixes', 'frozen juice']\n",
        "    household_care = ['kitchen supplies', 'oral hygiene', 'soap', 'paper goods', 'shave needs', 'diapers wipes', 'trash bags liners', 'eye ear care', 'vitamins supplements', 'facial care', 'dish detergents', 'laundry', 'deodorants', 'air fresheners candles', 'baby bath body care', 'skin care', 'plates bowls cups flatware', 'cleaning products', 'first aid', 'feminine care', 'body lotions soap', 'muscles joints pain relief', 'beauty']\n",
        "    frozen_refrigerated = ['frozen meat seafood', 'frozen meals', 'frozen vegan vegetarian', 'frozen breads doughs', 'frozen breakfast', 'ice cream ice', 'ice cream toppings', 'refrigerated', 'milk', 'yogurt', 'butter', 'cream', 'soy lactosefree', 'refrigerated pudding desserts', 'frozen produce', 'frozen pizza', 'frozen appetizers sides', 'frozen dessert']\n",
        "\n",
        "    if aisle in fresh_foods:\n",
        "        return 'Fresh Foods'\n",
        "    elif aisle in packaged_foods:\n",
        "        return 'Packaged Foods'\n",
        "    elif aisle in beverages:\n",
        "        return 'Beverages'\n",
        "    elif aisle in household_care:\n",
        "        return 'Household & Personal Care'\n",
        "    elif aisle in frozen_refrigerated:\n",
        "        return 'Frozen & Refrigerated Items'\n",
        "    else:\n",
        "        return 'Other'\n",
        "\n",
        "# Apply the function to your dataframe\n",
        "aisles_df['aisle_category'] = aisles_df['aisle'].apply(categorize_aisle)\n"
      ]
    },
    {
      "cell_type": "code",
      "execution_count": null,
      "metadata": {
        "id": "TBZwoZmRPu7r",
        "outputId": "b8868450-d073-453d-8794-1f523b10cf45"
      },
      "outputs": [
        {
          "data": {
            "text/html": [
              "<div>\n",
              "<style scoped>\n",
              "    .dataframe tbody tr th:only-of-type {\n",
              "        vertical-align: middle;\n",
              "    }\n",
              "\n",
              "    .dataframe tbody tr th {\n",
              "        vertical-align: top;\n",
              "    }\n",
              "\n",
              "    .dataframe thead th {\n",
              "        text-align: right;\n",
              "    }\n",
              "</style>\n",
              "<table border=\"1\" class=\"dataframe\">\n",
              "  <thead>\n",
              "    <tr style=\"text-align: right;\">\n",
              "      <th></th>\n",
              "      <th>aisle_id</th>\n",
              "      <th>aisle</th>\n",
              "      <th>aisle_category</th>\n",
              "    </tr>\n",
              "  </thead>\n",
              "  <tbody>\n",
              "    <tr>\n",
              "      <th>0</th>\n",
              "      <td>1</td>\n",
              "      <td>prepared soups salads</td>\n",
              "      <td>Other</td>\n",
              "    </tr>\n",
              "    <tr>\n",
              "      <th>1</th>\n",
              "      <td>2</td>\n",
              "      <td>specialty cheeses</td>\n",
              "      <td>Other</td>\n",
              "    </tr>\n",
              "    <tr>\n",
              "      <th>2</th>\n",
              "      <td>3</td>\n",
              "      <td>energy granola bars</td>\n",
              "      <td>Packaged Foods</td>\n",
              "    </tr>\n",
              "    <tr>\n",
              "      <th>3</th>\n",
              "      <td>4</td>\n",
              "      <td>instant foods</td>\n",
              "      <td>Packaged Foods</td>\n",
              "    </tr>\n",
              "    <tr>\n",
              "      <th>4</th>\n",
              "      <td>5</td>\n",
              "      <td>marinades meat preparation</td>\n",
              "      <td>Other</td>\n",
              "    </tr>\n",
              "  </tbody>\n",
              "</table>\n",
              "</div>"
            ],
            "text/plain": [
              "   aisle_id                       aisle  aisle_category\n",
              "0         1       prepared soups salads           Other\n",
              "1         2           specialty cheeses           Other\n",
              "2         3         energy granola bars  Packaged Foods\n",
              "3         4               instant foods  Packaged Foods\n",
              "4         5  marinades meat preparation           Other"
            ]
          },
          "execution_count": 9,
          "metadata": {},
          "output_type": "execute_result"
        }
      ],
      "source": [
        "aisles_df.head()"
      ]
    },
    {
      "cell_type": "code",
      "execution_count": null,
      "metadata": {
        "id": "sjnO-C9YPu7r",
        "outputId": "56081460-4ca8-4d6d-98b3-3b04c6de741a"
      },
      "outputs": [
        {
          "data": {
            "text/plain": [
              "aisle_category\n",
              "Other                          46\n",
              "Packaged Foods                 26\n",
              "Household & Personal Care      23\n",
              "Frozen & Refrigerated Items    18\n",
              "Beverages                      14\n",
              "Fresh Foods                     7\n",
              "Name: count, dtype: int64"
            ]
          },
          "execution_count": 10,
          "metadata": {},
          "output_type": "execute_result"
        }
      ],
      "source": [
        "aisles_df['aisle_category'].value_counts()"
      ]
    },
    {
      "cell_type": "code",
      "execution_count": null,
      "metadata": {
        "id": "vj3F8CJ9Pu7r",
        "outputId": "03da47f2-f3ee-4ded-f9f0-0d1b0abcc650"
      },
      "outputs": [
        {
          "data": {
            "text/html": [
              "<div>\n",
              "<style scoped>\n",
              "    .dataframe tbody tr th:only-of-type {\n",
              "        vertical-align: middle;\n",
              "    }\n",
              "\n",
              "    .dataframe tbody tr th {\n",
              "        vertical-align: top;\n",
              "    }\n",
              "\n",
              "    .dataframe thead th {\n",
              "        text-align: right;\n",
              "    }\n",
              "</style>\n",
              "<table border=\"1\" class=\"dataframe\">\n",
              "  <thead>\n",
              "    <tr style=\"text-align: right;\">\n",
              "      <th></th>\n",
              "      <th>order_id</th>\n",
              "      <th>product_id</th>\n",
              "      <th>add_to_cart_order</th>\n",
              "      <th>reordered</th>\n",
              "    </tr>\n",
              "  </thead>\n",
              "  <tbody>\n",
              "    <tr>\n",
              "      <th>0</th>\n",
              "      <td>2</td>\n",
              "      <td>33120</td>\n",
              "      <td>1</td>\n",
              "      <td>1</td>\n",
              "    </tr>\n",
              "    <tr>\n",
              "      <th>1</th>\n",
              "      <td>2</td>\n",
              "      <td>28985</td>\n",
              "      <td>2</td>\n",
              "      <td>1</td>\n",
              "    </tr>\n",
              "    <tr>\n",
              "      <th>2</th>\n",
              "      <td>2</td>\n",
              "      <td>9327</td>\n",
              "      <td>3</td>\n",
              "      <td>0</td>\n",
              "    </tr>\n",
              "    <tr>\n",
              "      <th>3</th>\n",
              "      <td>2</td>\n",
              "      <td>45918</td>\n",
              "      <td>4</td>\n",
              "      <td>1</td>\n",
              "    </tr>\n",
              "    <tr>\n",
              "      <th>4</th>\n",
              "      <td>2</td>\n",
              "      <td>30035</td>\n",
              "      <td>5</td>\n",
              "      <td>0</td>\n",
              "    </tr>\n",
              "  </tbody>\n",
              "</table>\n",
              "</div>"
            ],
            "text/plain": [
              "   order_id  product_id  add_to_cart_order  reordered\n",
              "0         2       33120                  1          1\n",
              "1         2       28985                  2          1\n",
              "2         2        9327                  3          0\n",
              "3         2       45918                  4          1\n",
              "4         2       30035                  5          0"
            ]
          },
          "execution_count": 11,
          "metadata": {},
          "output_type": "execute_result"
        }
      ],
      "source": [
        "order_prods_prior_df.head()"
      ]
    },
    {
      "cell_type": "code",
      "execution_count": null,
      "metadata": {
        "id": "0S3DNZOaPu7r",
        "outputId": "b3a425e6-9ba3-42bb-d49d-bcca476456a6"
      },
      "outputs": [
        {
          "data": {
            "text/html": [
              "<div>\n",
              "<style scoped>\n",
              "    .dataframe tbody tr th:only-of-type {\n",
              "        vertical-align: middle;\n",
              "    }\n",
              "\n",
              "    .dataframe tbody tr th {\n",
              "        vertical-align: top;\n",
              "    }\n",
              "\n",
              "    .dataframe thead th {\n",
              "        text-align: right;\n",
              "    }\n",
              "</style>\n",
              "<table border=\"1\" class=\"dataframe\">\n",
              "  <thead>\n",
              "    <tr style=\"text-align: right;\">\n",
              "      <th></th>\n",
              "      <th>order_id</th>\n",
              "      <th>user_id</th>\n",
              "      <th>eval_set</th>\n",
              "      <th>order_number</th>\n",
              "      <th>order_dow</th>\n",
              "      <th>order_hour_of_day</th>\n",
              "      <th>days_since_prior_order</th>\n",
              "    </tr>\n",
              "  </thead>\n",
              "  <tbody>\n",
              "    <tr>\n",
              "      <th>0</th>\n",
              "      <td>2539329</td>\n",
              "      <td>1</td>\n",
              "      <td>prior</td>\n",
              "      <td>1</td>\n",
              "      <td>2</td>\n",
              "      <td>8</td>\n",
              "      <td>NaN</td>\n",
              "    </tr>\n",
              "    <tr>\n",
              "      <th>1</th>\n",
              "      <td>2398795</td>\n",
              "      <td>1</td>\n",
              "      <td>prior</td>\n",
              "      <td>2</td>\n",
              "      <td>3</td>\n",
              "      <td>7</td>\n",
              "      <td>15.0</td>\n",
              "    </tr>\n",
              "    <tr>\n",
              "      <th>2</th>\n",
              "      <td>473747</td>\n",
              "      <td>1</td>\n",
              "      <td>prior</td>\n",
              "      <td>3</td>\n",
              "      <td>3</td>\n",
              "      <td>12</td>\n",
              "      <td>21.0</td>\n",
              "    </tr>\n",
              "    <tr>\n",
              "      <th>3</th>\n",
              "      <td>2254736</td>\n",
              "      <td>1</td>\n",
              "      <td>prior</td>\n",
              "      <td>4</td>\n",
              "      <td>4</td>\n",
              "      <td>7</td>\n",
              "      <td>29.0</td>\n",
              "    </tr>\n",
              "    <tr>\n",
              "      <th>4</th>\n",
              "      <td>431534</td>\n",
              "      <td>1</td>\n",
              "      <td>prior</td>\n",
              "      <td>5</td>\n",
              "      <td>4</td>\n",
              "      <td>15</td>\n",
              "      <td>28.0</td>\n",
              "    </tr>\n",
              "  </tbody>\n",
              "</table>\n",
              "</div>"
            ],
            "text/plain": [
              "   order_id  user_id eval_set  order_number  order_dow  order_hour_of_day  \\\n",
              "0   2539329        1    prior             1          2                  8   \n",
              "1   2398795        1    prior             2          3                  7   \n",
              "2    473747        1    prior             3          3                 12   \n",
              "3   2254736        1    prior             4          4                  7   \n",
              "4    431534        1    prior             5          4                 15   \n",
              "\n",
              "   days_since_prior_order  \n",
              "0                     NaN  \n",
              "1                    15.0  \n",
              "2                    21.0  \n",
              "3                    29.0  \n",
              "4                    28.0  "
            ]
          },
          "execution_count": 12,
          "metadata": {},
          "output_type": "execute_result"
        }
      ],
      "source": [
        "orders_df.head()"
      ]
    },
    {
      "cell_type": "code",
      "execution_count": null,
      "metadata": {
        "id": "e2trulvaPu7s",
        "outputId": "aee2c9c9-4b41-4071-a9da-f25c755451c2"
      },
      "outputs": [
        {
          "data": {
            "text/html": [
              "<div>\n",
              "<style scoped>\n",
              "    .dataframe tbody tr th:only-of-type {\n",
              "        vertical-align: middle;\n",
              "    }\n",
              "\n",
              "    .dataframe tbody tr th {\n",
              "        vertical-align: top;\n",
              "    }\n",
              "\n",
              "    .dataframe thead th {\n",
              "        text-align: right;\n",
              "    }\n",
              "</style>\n",
              "<table border=\"1\" class=\"dataframe\">\n",
              "  <thead>\n",
              "    <tr style=\"text-align: right;\">\n",
              "      <th></th>\n",
              "      <th>product_id</th>\n",
              "      <th>product_name</th>\n",
              "      <th>aisle_id</th>\n",
              "      <th>department_id</th>\n",
              "    </tr>\n",
              "  </thead>\n",
              "  <tbody>\n",
              "    <tr>\n",
              "      <th>0</th>\n",
              "      <td>1</td>\n",
              "      <td>Chocolate Sandwich Cookies</td>\n",
              "      <td>61</td>\n",
              "      <td>19</td>\n",
              "    </tr>\n",
              "    <tr>\n",
              "      <th>1</th>\n",
              "      <td>2</td>\n",
              "      <td>All-Seasons Salt</td>\n",
              "      <td>104</td>\n",
              "      <td>13</td>\n",
              "    </tr>\n",
              "    <tr>\n",
              "      <th>2</th>\n",
              "      <td>3</td>\n",
              "      <td>Robust Golden Unsweetened Oolong Tea</td>\n",
              "      <td>94</td>\n",
              "      <td>7</td>\n",
              "    </tr>\n",
              "    <tr>\n",
              "      <th>3</th>\n",
              "      <td>4</td>\n",
              "      <td>Smart Ones Classic Favorites Mini Rigatoni Wit...</td>\n",
              "      <td>38</td>\n",
              "      <td>1</td>\n",
              "    </tr>\n",
              "    <tr>\n",
              "      <th>4</th>\n",
              "      <td>5</td>\n",
              "      <td>Green Chile Anytime Sauce</td>\n",
              "      <td>5</td>\n",
              "      <td>13</td>\n",
              "    </tr>\n",
              "  </tbody>\n",
              "</table>\n",
              "</div>"
            ],
            "text/plain": [
              "   product_id                                       product_name  aisle_id  \\\n",
              "0           1                         Chocolate Sandwich Cookies        61   \n",
              "1           2                                   All-Seasons Salt       104   \n",
              "2           3               Robust Golden Unsweetened Oolong Tea        94   \n",
              "3           4  Smart Ones Classic Favorites Mini Rigatoni Wit...        38   \n",
              "4           5                          Green Chile Anytime Sauce         5   \n",
              "\n",
              "   department_id  \n",
              "0             19  \n",
              "1             13  \n",
              "2              7  \n",
              "3              1  \n",
              "4             13  "
            ]
          },
          "execution_count": 13,
          "metadata": {},
          "output_type": "execute_result"
        }
      ],
      "source": [
        "products_df.head()"
      ]
    },
    {
      "cell_type": "code",
      "execution_count": null,
      "metadata": {
        "colab": {
          "base_uri": "https://localhost:8080/",
          "height": 206
        },
        "id": "KCpakpelPu7s",
        "outputId": "151efe95-0fe7-4ce0-fffe-2f80941200d6"
      },
      "outputs": [
        {
          "data": {
            "application/vnd.google.colaboratory.intrinsic+json": {
              "summary": "{\n  \"name\": \"departments_df\",\n  \"rows\": 21,\n  \"fields\": [\n    {\n      \"column\": \"department_id\",\n      \"properties\": {\n        \"dtype\": \"number\",\n        \"std\": 6,\n        \"min\": 1,\n        \"max\": 21,\n        \"num_unique_values\": 21,\n        \"samples\": [\n          1,\n          18,\n          16\n        ],\n        \"semantic_type\": \"\",\n        \"description\": \"\"\n      }\n    },\n    {\n      \"column\": \"department\",\n      \"properties\": {\n        \"dtype\": \"string\",\n        \"num_unique_values\": 21,\n        \"samples\": [\n          \"frozen\",\n          \"babies\",\n          \"dairy eggs\"\n        ],\n        \"semantic_type\": \"\",\n        \"description\": \"\"\n      }\n    }\n  ]\n}",
              "type": "dataframe",
              "variable_name": "departments_df"
            },
            "text/html": [
              "\n",
              "  <div id=\"df-2e49c8a1-6530-446f-a3a5-a3f307300c52\" class=\"colab-df-container\">\n",
              "    <div>\n",
              "<style scoped>\n",
              "    .dataframe tbody tr th:only-of-type {\n",
              "        vertical-align: middle;\n",
              "    }\n",
              "\n",
              "    .dataframe tbody tr th {\n",
              "        vertical-align: top;\n",
              "    }\n",
              "\n",
              "    .dataframe thead th {\n",
              "        text-align: right;\n",
              "    }\n",
              "</style>\n",
              "<table border=\"1\" class=\"dataframe\">\n",
              "  <thead>\n",
              "    <tr style=\"text-align: right;\">\n",
              "      <th></th>\n",
              "      <th>department_id</th>\n",
              "      <th>department</th>\n",
              "    </tr>\n",
              "  </thead>\n",
              "  <tbody>\n",
              "    <tr>\n",
              "      <th>0</th>\n",
              "      <td>1</td>\n",
              "      <td>frozen</td>\n",
              "    </tr>\n",
              "    <tr>\n",
              "      <th>1</th>\n",
              "      <td>2</td>\n",
              "      <td>other</td>\n",
              "    </tr>\n",
              "    <tr>\n",
              "      <th>2</th>\n",
              "      <td>3</td>\n",
              "      <td>bakery</td>\n",
              "    </tr>\n",
              "    <tr>\n",
              "      <th>3</th>\n",
              "      <td>4</td>\n",
              "      <td>produce</td>\n",
              "    </tr>\n",
              "    <tr>\n",
              "      <th>4</th>\n",
              "      <td>5</td>\n",
              "      <td>alcohol</td>\n",
              "    </tr>\n",
              "  </tbody>\n",
              "</table>\n",
              "</div>\n",
              "    <div class=\"colab-df-buttons\">\n",
              "\n",
              "  <div class=\"colab-df-container\">\n",
              "    <button class=\"colab-df-convert\" onclick=\"convertToInteractive('df-2e49c8a1-6530-446f-a3a5-a3f307300c52')\"\n",
              "            title=\"Convert this dataframe to an interactive table.\"\n",
              "            style=\"display:none;\">\n",
              "\n",
              "  <svg xmlns=\"http://www.w3.org/2000/svg\" height=\"24px\" viewBox=\"0 -960 960 960\">\n",
              "    <path d=\"M120-120v-720h720v720H120Zm60-500h600v-160H180v160Zm220 220h160v-160H400v160Zm0 220h160v-160H400v160ZM180-400h160v-160H180v160Zm440 0h160v-160H620v160ZM180-180h160v-160H180v160Zm440 0h160v-160H620v160Z\"/>\n",
              "  </svg>\n",
              "    </button>\n",
              "\n",
              "  <style>\n",
              "    .colab-df-container {\n",
              "      display:flex;\n",
              "      gap: 12px;\n",
              "    }\n",
              "\n",
              "    .colab-df-convert {\n",
              "      background-color: #E8F0FE;\n",
              "      border: none;\n",
              "      border-radius: 50%;\n",
              "      cursor: pointer;\n",
              "      display: none;\n",
              "      fill: #1967D2;\n",
              "      height: 32px;\n",
              "      padding: 0 0 0 0;\n",
              "      width: 32px;\n",
              "    }\n",
              "\n",
              "    .colab-df-convert:hover {\n",
              "      background-color: #E2EBFA;\n",
              "      box-shadow: 0px 1px 2px rgba(60, 64, 67, 0.3), 0px 1px 3px 1px rgba(60, 64, 67, 0.15);\n",
              "      fill: #174EA6;\n",
              "    }\n",
              "\n",
              "    .colab-df-buttons div {\n",
              "      margin-bottom: 4px;\n",
              "    }\n",
              "\n",
              "    [theme=dark] .colab-df-convert {\n",
              "      background-color: #3B4455;\n",
              "      fill: #D2E3FC;\n",
              "    }\n",
              "\n",
              "    [theme=dark] .colab-df-convert:hover {\n",
              "      background-color: #434B5C;\n",
              "      box-shadow: 0px 1px 3px 1px rgba(0, 0, 0, 0.15);\n",
              "      filter: drop-shadow(0px 1px 2px rgba(0, 0, 0, 0.3));\n",
              "      fill: #FFFFFF;\n",
              "    }\n",
              "  </style>\n",
              "\n",
              "    <script>\n",
              "      const buttonEl =\n",
              "        document.querySelector('#df-2e49c8a1-6530-446f-a3a5-a3f307300c52 button.colab-df-convert');\n",
              "      buttonEl.style.display =\n",
              "        google.colab.kernel.accessAllowed ? 'block' : 'none';\n",
              "\n",
              "      async function convertToInteractive(key) {\n",
              "        const element = document.querySelector('#df-2e49c8a1-6530-446f-a3a5-a3f307300c52');\n",
              "        const dataTable =\n",
              "          await google.colab.kernel.invokeFunction('convertToInteractive',\n",
              "                                                    [key], {});\n",
              "        if (!dataTable) return;\n",
              "\n",
              "        const docLinkHtml = 'Like what you see? Visit the ' +\n",
              "          '<a target=\"_blank\" href=https://colab.research.google.com/notebooks/data_table.ipynb>data table notebook</a>'\n",
              "          + ' to learn more about interactive tables.';\n",
              "        element.innerHTML = '';\n",
              "        dataTable['output_type'] = 'display_data';\n",
              "        await google.colab.output.renderOutput(dataTable, element);\n",
              "        const docLink = document.createElement('div');\n",
              "        docLink.innerHTML = docLinkHtml;\n",
              "        element.appendChild(docLink);\n",
              "      }\n",
              "    </script>\n",
              "  </div>\n",
              "\n",
              "\n",
              "<div id=\"df-2153744a-c187-4891-b46f-bb779fd6fd4e\">\n",
              "  <button class=\"colab-df-quickchart\" onclick=\"quickchart('df-2153744a-c187-4891-b46f-bb779fd6fd4e')\"\n",
              "            title=\"Suggest charts\"\n",
              "            style=\"display:none;\">\n",
              "\n",
              "<svg xmlns=\"http://www.w3.org/2000/svg\" height=\"24px\"viewBox=\"0 0 24 24\"\n",
              "     width=\"24px\">\n",
              "    <g>\n",
              "        <path d=\"M19 3H5c-1.1 0-2 .9-2 2v14c0 1.1.9 2 2 2h14c1.1 0 2-.9 2-2V5c0-1.1-.9-2-2-2zM9 17H7v-7h2v7zm4 0h-2V7h2v10zm4 0h-2v-4h2v4z\"/>\n",
              "    </g>\n",
              "</svg>\n",
              "  </button>\n",
              "\n",
              "<style>\n",
              "  .colab-df-quickchart {\n",
              "      --bg-color: #E8F0FE;\n",
              "      --fill-color: #1967D2;\n",
              "      --hover-bg-color: #E2EBFA;\n",
              "      --hover-fill-color: #174EA6;\n",
              "      --disabled-fill-color: #AAA;\n",
              "      --disabled-bg-color: #DDD;\n",
              "  }\n",
              "\n",
              "  [theme=dark] .colab-df-quickchart {\n",
              "      --bg-color: #3B4455;\n",
              "      --fill-color: #D2E3FC;\n",
              "      --hover-bg-color: #434B5C;\n",
              "      --hover-fill-color: #FFFFFF;\n",
              "      --disabled-bg-color: #3B4455;\n",
              "      --disabled-fill-color: #666;\n",
              "  }\n",
              "\n",
              "  .colab-df-quickchart {\n",
              "    background-color: var(--bg-color);\n",
              "    border: none;\n",
              "    border-radius: 50%;\n",
              "    cursor: pointer;\n",
              "    display: none;\n",
              "    fill: var(--fill-color);\n",
              "    height: 32px;\n",
              "    padding: 0;\n",
              "    width: 32px;\n",
              "  }\n",
              "\n",
              "  .colab-df-quickchart:hover {\n",
              "    background-color: var(--hover-bg-color);\n",
              "    box-shadow: 0 1px 2px rgba(60, 64, 67, 0.3), 0 1px 3px 1px rgba(60, 64, 67, 0.15);\n",
              "    fill: var(--button-hover-fill-color);\n",
              "  }\n",
              "\n",
              "  .colab-df-quickchart-complete:disabled,\n",
              "  .colab-df-quickchart-complete:disabled:hover {\n",
              "    background-color: var(--disabled-bg-color);\n",
              "    fill: var(--disabled-fill-color);\n",
              "    box-shadow: none;\n",
              "  }\n",
              "\n",
              "  .colab-df-spinner {\n",
              "    border: 2px solid var(--fill-color);\n",
              "    border-color: transparent;\n",
              "    border-bottom-color: var(--fill-color);\n",
              "    animation:\n",
              "      spin 1s steps(1) infinite;\n",
              "  }\n",
              "\n",
              "  @keyframes spin {\n",
              "    0% {\n",
              "      border-color: transparent;\n",
              "      border-bottom-color: var(--fill-color);\n",
              "      border-left-color: var(--fill-color);\n",
              "    }\n",
              "    20% {\n",
              "      border-color: transparent;\n",
              "      border-left-color: var(--fill-color);\n",
              "      border-top-color: var(--fill-color);\n",
              "    }\n",
              "    30% {\n",
              "      border-color: transparent;\n",
              "      border-left-color: var(--fill-color);\n",
              "      border-top-color: var(--fill-color);\n",
              "      border-right-color: var(--fill-color);\n",
              "    }\n",
              "    40% {\n",
              "      border-color: transparent;\n",
              "      border-right-color: var(--fill-color);\n",
              "      border-top-color: var(--fill-color);\n",
              "    }\n",
              "    60% {\n",
              "      border-color: transparent;\n",
              "      border-right-color: var(--fill-color);\n",
              "    }\n",
              "    80% {\n",
              "      border-color: transparent;\n",
              "      border-right-color: var(--fill-color);\n",
              "      border-bottom-color: var(--fill-color);\n",
              "    }\n",
              "    90% {\n",
              "      border-color: transparent;\n",
              "      border-bottom-color: var(--fill-color);\n",
              "    }\n",
              "  }\n",
              "</style>\n",
              "\n",
              "  <script>\n",
              "    async function quickchart(key) {\n",
              "      const quickchartButtonEl =\n",
              "        document.querySelector('#' + key + ' button');\n",
              "      quickchartButtonEl.disabled = true;  // To prevent multiple clicks.\n",
              "      quickchartButtonEl.classList.add('colab-df-spinner');\n",
              "      try {\n",
              "        const charts = await google.colab.kernel.invokeFunction(\n",
              "            'suggestCharts', [key], {});\n",
              "      } catch (error) {\n",
              "        console.error('Error during call to suggestCharts:', error);\n",
              "      }\n",
              "      quickchartButtonEl.classList.remove('colab-df-spinner');\n",
              "      quickchartButtonEl.classList.add('colab-df-quickchart-complete');\n",
              "    }\n",
              "    (() => {\n",
              "      let quickchartButtonEl =\n",
              "        document.querySelector('#df-2153744a-c187-4891-b46f-bb779fd6fd4e button');\n",
              "      quickchartButtonEl.style.display =\n",
              "        google.colab.kernel.accessAllowed ? 'block' : 'none';\n",
              "    })();\n",
              "  </script>\n",
              "</div>\n",
              "\n",
              "    </div>\n",
              "  </div>\n"
            ],
            "text/plain": [
              "   department_id department\n",
              "0              1     frozen\n",
              "1              2      other\n",
              "2              3     bakery\n",
              "3              4    produce\n",
              "4              5    alcohol"
            ]
          },
          "execution_count": 9,
          "metadata": {},
          "output_type": "execute_result"
        }
      ],
      "source": [
        "departments_df = pd.read_csv(path+\"departments.csv\")\n",
        "departments_df.head()"
      ]
    },
    {
      "cell_type": "markdown",
      "metadata": {
        "id": "NQ7YVFypPu7t"
      },
      "source": [
        "### Order-Product Details:\n",
        "First, we merge the order_products data with orders to attach order-specific information to each product ordered."
      ]
    },
    {
      "cell_type": "code",
      "execution_count": null,
      "metadata": {
        "id": "-cUhLN1bPu7t"
      },
      "outputs": [],
      "source": [
        "order_products_merged = order_prods_prior_df.merge(orders_df, on='order_id', how='left')"
      ]
    },
    {
      "cell_type": "code",
      "execution_count": null,
      "metadata": {
        "id": "NtDonObuPu7t",
        "outputId": "0dc32fb2-7f3b-47b4-a847-d71a3c6c3c22"
      },
      "outputs": [
        {
          "data": {
            "text/html": [
              "<div>\n",
              "<style scoped>\n",
              "    .dataframe tbody tr th:only-of-type {\n",
              "        vertical-align: middle;\n",
              "    }\n",
              "\n",
              "    .dataframe tbody tr th {\n",
              "        vertical-align: top;\n",
              "    }\n",
              "\n",
              "    .dataframe thead th {\n",
              "        text-align: right;\n",
              "    }\n",
              "</style>\n",
              "<table border=\"1\" class=\"dataframe\">\n",
              "  <thead>\n",
              "    <tr style=\"text-align: right;\">\n",
              "      <th></th>\n",
              "      <th>order_id</th>\n",
              "      <th>product_id</th>\n",
              "      <th>add_to_cart_order</th>\n",
              "      <th>reordered</th>\n",
              "      <th>user_id</th>\n",
              "      <th>eval_set</th>\n",
              "      <th>order_number</th>\n",
              "      <th>order_dow</th>\n",
              "      <th>order_hour_of_day</th>\n",
              "      <th>days_since_prior_order</th>\n",
              "    </tr>\n",
              "  </thead>\n",
              "  <tbody>\n",
              "    <tr>\n",
              "      <th>0</th>\n",
              "      <td>2</td>\n",
              "      <td>33120</td>\n",
              "      <td>1</td>\n",
              "      <td>1</td>\n",
              "      <td>202279</td>\n",
              "      <td>prior</td>\n",
              "      <td>3</td>\n",
              "      <td>5</td>\n",
              "      <td>9</td>\n",
              "      <td>8.0</td>\n",
              "    </tr>\n",
              "    <tr>\n",
              "      <th>1</th>\n",
              "      <td>2</td>\n",
              "      <td>28985</td>\n",
              "      <td>2</td>\n",
              "      <td>1</td>\n",
              "      <td>202279</td>\n",
              "      <td>prior</td>\n",
              "      <td>3</td>\n",
              "      <td>5</td>\n",
              "      <td>9</td>\n",
              "      <td>8.0</td>\n",
              "    </tr>\n",
              "    <tr>\n",
              "      <th>2</th>\n",
              "      <td>2</td>\n",
              "      <td>9327</td>\n",
              "      <td>3</td>\n",
              "      <td>0</td>\n",
              "      <td>202279</td>\n",
              "      <td>prior</td>\n",
              "      <td>3</td>\n",
              "      <td>5</td>\n",
              "      <td>9</td>\n",
              "      <td>8.0</td>\n",
              "    </tr>\n",
              "    <tr>\n",
              "      <th>3</th>\n",
              "      <td>2</td>\n",
              "      <td>45918</td>\n",
              "      <td>4</td>\n",
              "      <td>1</td>\n",
              "      <td>202279</td>\n",
              "      <td>prior</td>\n",
              "      <td>3</td>\n",
              "      <td>5</td>\n",
              "      <td>9</td>\n",
              "      <td>8.0</td>\n",
              "    </tr>\n",
              "    <tr>\n",
              "      <th>4</th>\n",
              "      <td>2</td>\n",
              "      <td>30035</td>\n",
              "      <td>5</td>\n",
              "      <td>0</td>\n",
              "      <td>202279</td>\n",
              "      <td>prior</td>\n",
              "      <td>3</td>\n",
              "      <td>5</td>\n",
              "      <td>9</td>\n",
              "      <td>8.0</td>\n",
              "    </tr>\n",
              "  </tbody>\n",
              "</table>\n",
              "</div>"
            ],
            "text/plain": [
              "   order_id  product_id  add_to_cart_order  reordered  user_id eval_set  \\\n",
              "0         2       33120                  1          1   202279    prior   \n",
              "1         2       28985                  2          1   202279    prior   \n",
              "2         2        9327                  3          0   202279    prior   \n",
              "3         2       45918                  4          1   202279    prior   \n",
              "4         2       30035                  5          0   202279    prior   \n",
              "\n",
              "   order_number  order_dow  order_hour_of_day  days_since_prior_order  \n",
              "0             3          5                  9                     8.0  \n",
              "1             3          5                  9                     8.0  \n",
              "2             3          5                  9                     8.0  \n",
              "3             3          5                  9                     8.0  \n",
              "4             3          5                  9                     8.0  "
            ]
          },
          "execution_count": 16,
          "metadata": {},
          "output_type": "execute_result"
        }
      ],
      "source": [
        "order_products_merged.head()"
      ]
    },
    {
      "cell_type": "markdown",
      "metadata": {
        "id": "7Kx1jvgMPu7t"
      },
      "source": [
        "### Add Product Information:\n",
        "Merge the order_products_merged with products to attach product-specific details."
      ]
    },
    {
      "cell_type": "code",
      "execution_count": null,
      "metadata": {
        "id": "U3STVnxZPu7t"
      },
      "outputs": [],
      "source": [
        "order_products_merged = order_products_merged.merge(products_df, on='product_id', how='left')\n"
      ]
    },
    {
      "cell_type": "code",
      "execution_count": null,
      "metadata": {
        "id": "T2Z3yBFMPu7t",
        "outputId": "705d86a0-1d02-4d8b-b340-310f1f7e8330"
      },
      "outputs": [
        {
          "data": {
            "text/html": [
              "<div>\n",
              "<style scoped>\n",
              "    .dataframe tbody tr th:only-of-type {\n",
              "        vertical-align: middle;\n",
              "    }\n",
              "\n",
              "    .dataframe tbody tr th {\n",
              "        vertical-align: top;\n",
              "    }\n",
              "\n",
              "    .dataframe thead th {\n",
              "        text-align: right;\n",
              "    }\n",
              "</style>\n",
              "<table border=\"1\" class=\"dataframe\">\n",
              "  <thead>\n",
              "    <tr style=\"text-align: right;\">\n",
              "      <th></th>\n",
              "      <th>order_id</th>\n",
              "      <th>product_id</th>\n",
              "      <th>add_to_cart_order</th>\n",
              "      <th>reordered</th>\n",
              "      <th>user_id</th>\n",
              "      <th>eval_set</th>\n",
              "      <th>order_number</th>\n",
              "      <th>order_dow</th>\n",
              "      <th>order_hour_of_day</th>\n",
              "      <th>days_since_prior_order</th>\n",
              "      <th>product_name</th>\n",
              "      <th>aisle_id</th>\n",
              "      <th>department_id</th>\n",
              "    </tr>\n",
              "  </thead>\n",
              "  <tbody>\n",
              "    <tr>\n",
              "      <th>0</th>\n",
              "      <td>2</td>\n",
              "      <td>33120</td>\n",
              "      <td>1</td>\n",
              "      <td>1</td>\n",
              "      <td>202279</td>\n",
              "      <td>prior</td>\n",
              "      <td>3</td>\n",
              "      <td>5</td>\n",
              "      <td>9</td>\n",
              "      <td>8.0</td>\n",
              "      <td>Organic Egg Whites</td>\n",
              "      <td>86</td>\n",
              "      <td>16</td>\n",
              "    </tr>\n",
              "    <tr>\n",
              "      <th>1</th>\n",
              "      <td>2</td>\n",
              "      <td>28985</td>\n",
              "      <td>2</td>\n",
              "      <td>1</td>\n",
              "      <td>202279</td>\n",
              "      <td>prior</td>\n",
              "      <td>3</td>\n",
              "      <td>5</td>\n",
              "      <td>9</td>\n",
              "      <td>8.0</td>\n",
              "      <td>Michigan Organic Kale</td>\n",
              "      <td>83</td>\n",
              "      <td>4</td>\n",
              "    </tr>\n",
              "    <tr>\n",
              "      <th>2</th>\n",
              "      <td>2</td>\n",
              "      <td>9327</td>\n",
              "      <td>3</td>\n",
              "      <td>0</td>\n",
              "      <td>202279</td>\n",
              "      <td>prior</td>\n",
              "      <td>3</td>\n",
              "      <td>5</td>\n",
              "      <td>9</td>\n",
              "      <td>8.0</td>\n",
              "      <td>Garlic Powder</td>\n",
              "      <td>104</td>\n",
              "      <td>13</td>\n",
              "    </tr>\n",
              "    <tr>\n",
              "      <th>3</th>\n",
              "      <td>2</td>\n",
              "      <td>45918</td>\n",
              "      <td>4</td>\n",
              "      <td>1</td>\n",
              "      <td>202279</td>\n",
              "      <td>prior</td>\n",
              "      <td>3</td>\n",
              "      <td>5</td>\n",
              "      <td>9</td>\n",
              "      <td>8.0</td>\n",
              "      <td>Coconut Butter</td>\n",
              "      <td>19</td>\n",
              "      <td>13</td>\n",
              "    </tr>\n",
              "    <tr>\n",
              "      <th>4</th>\n",
              "      <td>2</td>\n",
              "      <td>30035</td>\n",
              "      <td>5</td>\n",
              "      <td>0</td>\n",
              "      <td>202279</td>\n",
              "      <td>prior</td>\n",
              "      <td>3</td>\n",
              "      <td>5</td>\n",
              "      <td>9</td>\n",
              "      <td>8.0</td>\n",
              "      <td>Natural Sweetener</td>\n",
              "      <td>17</td>\n",
              "      <td>13</td>\n",
              "    </tr>\n",
              "  </tbody>\n",
              "</table>\n",
              "</div>"
            ],
            "text/plain": [
              "   order_id  product_id  add_to_cart_order  reordered  user_id eval_set  \\\n",
              "0         2       33120                  1          1   202279    prior   \n",
              "1         2       28985                  2          1   202279    prior   \n",
              "2         2        9327                  3          0   202279    prior   \n",
              "3         2       45918                  4          1   202279    prior   \n",
              "4         2       30035                  5          0   202279    prior   \n",
              "\n",
              "   order_number  order_dow  order_hour_of_day  days_since_prior_order  \\\n",
              "0             3          5                  9                     8.0   \n",
              "1             3          5                  9                     8.0   \n",
              "2             3          5                  9                     8.0   \n",
              "3             3          5                  9                     8.0   \n",
              "4             3          5                  9                     8.0   \n",
              "\n",
              "            product_name  aisle_id  department_id  \n",
              "0     Organic Egg Whites        86             16  \n",
              "1  Michigan Organic Kale        83              4  \n",
              "2          Garlic Powder       104             13  \n",
              "3         Coconut Butter        19             13  \n",
              "4      Natural Sweetener        17             13  "
            ]
          },
          "execution_count": 18,
          "metadata": {},
          "output_type": "execute_result"
        }
      ],
      "source": [
        "order_products_merged.head()"
      ]
    },
    {
      "cell_type": "markdown",
      "metadata": {
        "id": "YgVOJjpEPu7u"
      },
      "source": [
        "### Add Aisle and Department Information:\n",
        "Next, merge order_products_merged with aisles and departments to include aisle and department names."
      ]
    },
    {
      "cell_type": "code",
      "execution_count": null,
      "metadata": {
        "id": "H5yNhDwlPu7u"
      },
      "outputs": [],
      "source": [
        "order_products_merged = order_products_merged.merge(aisles_df, on='aisle_id', how='left')\n",
        "order_products_merged = order_products_merged.merge(departments_df, on='department_id', how='left')\n"
      ]
    },
    {
      "cell_type": "code",
      "execution_count": null,
      "metadata": {
        "id": "xVmrW6K3Pu7u"
      },
      "outputs": [],
      "source": [
        "order_products_merged.head()"
      ]
    },
    {
      "cell_type": "code",
      "execution_count": null,
      "metadata": {
        "id": "FyOb95DQPu7u",
        "outputId": "98c2fa7a-f2f8-49d1-d5ad-075149f2281c"
      },
      "outputs": [
        {
          "name": "stdout",
          "output_type": "stream",
          "text": [
            "<class 'pandas.core.frame.DataFrame'>\n",
            "RangeIndex: 32434489 entries, 0 to 32434488\n",
            "Data columns (total 16 columns):\n",
            " #   Column                  Dtype  \n",
            "---  ------                  -----  \n",
            " 0   order_id                int64  \n",
            " 1   product_id              int64  \n",
            " 2   add_to_cart_order       int64  \n",
            " 3   reordered               int64  \n",
            " 4   user_id                 int64  \n",
            " 5   eval_set                object \n",
            " 6   order_number            int64  \n",
            " 7   order_dow               int64  \n",
            " 8   order_hour_of_day       int64  \n",
            " 9   days_since_prior_order  float64\n",
            " 10  product_name            object \n",
            " 11  aisle_id                int64  \n",
            " 12  department_id           int64  \n",
            " 13  aisle                   object \n",
            " 14  aisle_category          object \n",
            " 15  department              object \n",
            "dtypes: float64(1), int64(10), object(5)\n",
            "memory usage: 3.9+ GB\n"
          ]
        }
      ],
      "source": [
        "order_products_merged.info()"
      ]
    },
    {
      "cell_type": "code",
      "execution_count": null,
      "metadata": {
        "colab": {
          "base_uri": "https://localhost:8080/",
          "height": 586
        },
        "id": "IC9eyi3jPu7u",
        "outputId": "41093d4f-31c5-498f-90d9-15f50ca4eb4d"
      },
      "outputs": [
        {
          "data": {
            "text/html": [
              "<div>\n",
              "<style scoped>\n",
              "    .dataframe tbody tr th:only-of-type {\n",
              "        vertical-align: middle;\n",
              "    }\n",
              "\n",
              "    .dataframe tbody tr th {\n",
              "        vertical-align: top;\n",
              "    }\n",
              "\n",
              "    .dataframe thead th {\n",
              "        text-align: right;\n",
              "    }\n",
              "</style>\n",
              "<table border=\"1\" class=\"dataframe\">\n",
              "  <thead>\n",
              "    <tr style=\"text-align: right;\">\n",
              "      <th></th>\n",
              "      <th>0</th>\n",
              "    </tr>\n",
              "  </thead>\n",
              "  <tbody>\n",
              "    <tr>\n",
              "      <th>order_id</th>\n",
              "      <td>0</td>\n",
              "    </tr>\n",
              "    <tr>\n",
              "      <th>product_id</th>\n",
              "      <td>0</td>\n",
              "    </tr>\n",
              "    <tr>\n",
              "      <th>add_to_cart_order</th>\n",
              "      <td>0</td>\n",
              "    </tr>\n",
              "    <tr>\n",
              "      <th>reordered</th>\n",
              "      <td>0</td>\n",
              "    </tr>\n",
              "    <tr>\n",
              "      <th>user_id</th>\n",
              "      <td>0</td>\n",
              "    </tr>\n",
              "    <tr>\n",
              "      <th>eval_set</th>\n",
              "      <td>0</td>\n",
              "    </tr>\n",
              "    <tr>\n",
              "      <th>order_number</th>\n",
              "      <td>0</td>\n",
              "    </tr>\n",
              "    <tr>\n",
              "      <th>order_dow</th>\n",
              "      <td>0</td>\n",
              "    </tr>\n",
              "    <tr>\n",
              "      <th>order_hour_of_day</th>\n",
              "      <td>0</td>\n",
              "    </tr>\n",
              "    <tr>\n",
              "      <th>days_since_prior_order</th>\n",
              "      <td>2078068</td>\n",
              "    </tr>\n",
              "    <tr>\n",
              "      <th>product_name</th>\n",
              "      <td>0</td>\n",
              "    </tr>\n",
              "    <tr>\n",
              "      <th>aisle_id</th>\n",
              "      <td>0</td>\n",
              "    </tr>\n",
              "    <tr>\n",
              "      <th>department_id</th>\n",
              "      <td>0</td>\n",
              "    </tr>\n",
              "    <tr>\n",
              "      <th>aisle</th>\n",
              "      <td>0</td>\n",
              "    </tr>\n",
              "    <tr>\n",
              "      <th>aisle_category</th>\n",
              "      <td>0</td>\n",
              "    </tr>\n",
              "    <tr>\n",
              "      <th>department</th>\n",
              "      <td>0</td>\n",
              "    </tr>\n",
              "  </tbody>\n",
              "</table>\n",
              "</div><br><label><b>dtype:</b> int64</label>"
            ],
            "text/plain": [
              "order_id                        0\n",
              "product_id                      0\n",
              "add_to_cart_order               0\n",
              "reordered                       0\n",
              "user_id                         0\n",
              "eval_set                        0\n",
              "order_number                    0\n",
              "order_dow                       0\n",
              "order_hour_of_day               0\n",
              "days_since_prior_order    2078068\n",
              "product_name                    0\n",
              "aisle_id                        0\n",
              "department_id                   0\n",
              "aisle                           0\n",
              "aisle_category                  0\n",
              "department                      0\n",
              "dtype: int64"
            ]
          },
          "execution_count": 13,
          "metadata": {},
          "output_type": "execute_result"
        }
      ],
      "source": [
        "order_products_merged.isnull().sum()"
      ]
    },
    {
      "cell_type": "code",
      "execution_count": null,
      "metadata": {
        "colab": {
          "base_uri": "https://localhost:8080/"
        },
        "id": "D_B26qphS3S2",
        "outputId": "b4806c15-f292-4640-ab4b-06169dd70f55"
      },
      "outputs": [
        {
          "data": {
            "text/plain": [
              "Index(['order_id', 'product_id', 'add_to_cart_order', 'reordered', 'user_id',\n",
              "       'eval_set', 'order_number', 'order_dow', 'order_hour_of_day',\n",
              "       'days_since_prior_order', 'product_name', 'aisle_id', 'department_id',\n",
              "       'aisle', 'aisle_category', 'department'],\n",
              "      dtype='object')"
            ]
          },
          "execution_count": 14,
          "metadata": {},
          "output_type": "execute_result"
        }
      ],
      "source": [
        "order_products_merged.columns"
      ]
    },
    {
      "cell_type": "markdown",
      "metadata": {
        "id": "yZAuMFEYVQPb"
      },
      "source": [
        "# Sampling the dataset"
      ]
    },
    {
      "cell_type": "markdown",
      "metadata": {
        "id": "q3jiKLWAVIB8"
      },
      "source": [
        "As the dataset is to large to process, we are sampling and taking 25% of the origninal merged data.\n",
        "\n",
        "To ensure that the 25% sample accurately represents the overall distribution of the original dataset, we use random sampling with replacement. This technique randomly selects rows from the dataset, allowing for the same row to be selected multiple times."
      ]
    },
    {
      "cell_type": "code",
      "execution_count": null,
      "metadata": {
        "id": "vXBqrk3LVHlW"
      },
      "outputs": [],
      "source": [
        "# Sample 0.25% of the data, allowing for replacement\n",
        "sample_df = order_products_merged.sample(frac=0.0025, replace=True)\n",
        "\n",
        "# Save the sample to a new CSV file\n",
        "sample_df.to_csv('sample_dataset_clean.csv', index=False)"
      ]
    },
    {
      "cell_type": "markdown",
      "metadata": {
        "id": "dMGDCeYsVvfz"
      },
      "source": [
        "# Introducing noise in the dataset\n",
        "\n",
        "As the dataset doesn't require too much cleaning besides transforming NaN values of one column to zero, we are introducing artificial noise to simulate real data."
      ]
    },
    {
      "cell_type": "code",
      "execution_count": null,
      "metadata": {
        "id": "XV4fxwStXo1e"
      },
      "outputs": [],
      "source": [
        "sample_df = pd.read_csv('/datasets/sample_dataset_clean.csv')"
      ]
    },
    {
      "cell_type": "code",
      "execution_count": null,
      "metadata": {
        "id": "6hohYSIoWBcs"
      },
      "outputs": [],
      "source": [
        "import numpy as np\n",
        "\n",
        "# 1. Introduce missing values in categorical columns\n",
        "sample_df.loc[np.random.choice(sample_df.index, size=int(0.05*len(sample_df)), replace=False), 'aisle_category'] = np.nan\n",
        "sample_df.loc[np.random.choice(sample_df.index, size=int(0.03*len(sample_df)), replace=False), 'department'] = np.nan\n",
        "\n",
        "# 2. Introduce outliers in numerical columns\n",
        "# Outliers in 'days_since_prior_order'\n",
        "sample_df.loc[np.random.choice(sample_df.index, size=int(0.02*len(sample_df)), replace=False), 'days_since_prior_order'] *= 100\n",
        "\n",
        "# Outliers in 'order_hour_of_day' (making some hours extremely early or late)\n",
        "# Get the random indices first to ensure consistent size\n",
        "random_indices = np.random.choice(sample_df.index, size=int(0.01 * len(sample_df)), replace=False)\n",
        "\n",
        "# Assign using the same indices for both row selection and value generation\n",
        "sample_df.loc[random_indices, 'order_hour_of_day'] = np.random.randint(25, 30, size=len(random_indices))\n",
        "\n",
        "# 3. Convert numerical columns to strings\n",
        "sample_df['order_hour_of_day'] = sample_df['order_hour_of_day'].astype(str)\n",
        "\n",
        "# 4. Introduce non-numeric characters into numeric columns\n",
        "sample_df.loc[np.random.choice(sample_df.index, size=int(0.01*len(sample_df)), replace=False), 'order_hour_of_day'] += 'a'\n",
        "\n",
        "# Save the modified dataset\n",
        "sample_df.to_csv('/datasets/data.csv', index=False)"
      ]
    },
    {
      "cell_type": "code",
      "execution_count": null,
      "metadata": {
        "colab": {
          "base_uri": "https://localhost:8080/"
        },
        "id": "THCcN4khXjuF",
        "outputId": "3a482756-8909-4cf6-f100-463289bd57ec"
      },
      "outputs": [
        {
          "name": "stdout",
          "output_type": "stream",
          "text": [
            "<class 'pandas.core.frame.DataFrame'>\n",
            "RangeIndex: 8108622 entries, 0 to 8108621\n",
            "Data columns (total 16 columns):\n",
            " #   Column                  Dtype  \n",
            "---  ------                  -----  \n",
            " 0   order_id                int64  \n",
            " 1   product_id              int64  \n",
            " 2   add_to_cart_order       int64  \n",
            " 3   reordered               int64  \n",
            " 4   user_id                 int64  \n",
            " 5   eval_set                object \n",
            " 6   order_number            int64  \n",
            " 7   order_dow               int64  \n",
            " 8   order_hour_of_day       object \n",
            " 9   days_since_prior_order  float64\n",
            " 10  product_name            object \n",
            " 11  aisle_id                int64  \n",
            " 12  department_id           int64  \n",
            " 13  aisle                   object \n",
            " 14  aisle_category          object \n",
            " 15  department              object \n",
            "dtypes: float64(1), int64(9), object(6)\n",
            "memory usage: 989.8+ MB\n"
          ]
        }
      ],
      "source": [
        "sample_df.info()"
      ]
    },
    {
      "cell_type": "code",
      "execution_count": null,
      "metadata": {
        "colab": {
          "base_uri": "https://localhost:8080/",
          "height": 586
        },
        "id": "1UmJ7yPTYO6T",
        "outputId": "dbe5fc09-57d8-4ce1-94de-cdfd42bee062"
      },
      "outputs": [
        {
          "data": {
            "text/html": [
              "<div>\n",
              "<style scoped>\n",
              "    .dataframe tbody tr th:only-of-type {\n",
              "        vertical-align: middle;\n",
              "    }\n",
              "\n",
              "    .dataframe tbody tr th {\n",
              "        vertical-align: top;\n",
              "    }\n",
              "\n",
              "    .dataframe thead th {\n",
              "        text-align: right;\n",
              "    }\n",
              "</style>\n",
              "<table border=\"1\" class=\"dataframe\">\n",
              "  <thead>\n",
              "    <tr style=\"text-align: right;\">\n",
              "      <th></th>\n",
              "      <th>0</th>\n",
              "    </tr>\n",
              "  </thead>\n",
              "  <tbody>\n",
              "    <tr>\n",
              "      <th>order_id</th>\n",
              "      <td>0</td>\n",
              "    </tr>\n",
              "    <tr>\n",
              "      <th>product_id</th>\n",
              "      <td>0</td>\n",
              "    </tr>\n",
              "    <tr>\n",
              "      <th>add_to_cart_order</th>\n",
              "      <td>0</td>\n",
              "    </tr>\n",
              "    <tr>\n",
              "      <th>reordered</th>\n",
              "      <td>0</td>\n",
              "    </tr>\n",
              "    <tr>\n",
              "      <th>user_id</th>\n",
              "      <td>0</td>\n",
              "    </tr>\n",
              "    <tr>\n",
              "      <th>eval_set</th>\n",
              "      <td>0</td>\n",
              "    </tr>\n",
              "    <tr>\n",
              "      <th>order_number</th>\n",
              "      <td>0</td>\n",
              "    </tr>\n",
              "    <tr>\n",
              "      <th>order_dow</th>\n",
              "      <td>0</td>\n",
              "    </tr>\n",
              "    <tr>\n",
              "      <th>order_hour_of_day</th>\n",
              "      <td>0</td>\n",
              "    </tr>\n",
              "    <tr>\n",
              "      <th>days_since_prior_order</th>\n",
              "      <td>520158</td>\n",
              "    </tr>\n",
              "    <tr>\n",
              "      <th>product_name</th>\n",
              "      <td>0</td>\n",
              "    </tr>\n",
              "    <tr>\n",
              "      <th>aisle_id</th>\n",
              "      <td>0</td>\n",
              "    </tr>\n",
              "    <tr>\n",
              "      <th>department_id</th>\n",
              "      <td>0</td>\n",
              "    </tr>\n",
              "    <tr>\n",
              "      <th>aisle</th>\n",
              "      <td>0</td>\n",
              "    </tr>\n",
              "    <tr>\n",
              "      <th>aisle_category</th>\n",
              "      <td>405431</td>\n",
              "    </tr>\n",
              "    <tr>\n",
              "      <th>department</th>\n",
              "      <td>243258</td>\n",
              "    </tr>\n",
              "  </tbody>\n",
              "</table>\n",
              "</div><br><label><b>dtype:</b> int64</label>"
            ],
            "text/plain": [
              "order_id                       0\n",
              "product_id                     0\n",
              "add_to_cart_order              0\n",
              "reordered                      0\n",
              "user_id                        0\n",
              "eval_set                       0\n",
              "order_number                   0\n",
              "order_dow                      0\n",
              "order_hour_of_day              0\n",
              "days_since_prior_order    520158\n",
              "product_name                   0\n",
              "aisle_id                       0\n",
              "department_id                  0\n",
              "aisle                          0\n",
              "aisle_category            405431\n",
              "department                243258\n",
              "dtype: int64"
            ]
          },
          "execution_count": 21,
          "metadata": {},
          "output_type": "execute_result"
        }
      ],
      "source": [
        "sample_df.isnull().sum()"
      ]
    },
    {
      "cell_type": "code",
      "execution_count": null,
      "metadata": {
        "colab": {
          "base_uri": "https://localhost:8080/",
          "height": 348
        },
        "id": "vUipJuQFYQzu",
        "outputId": "0a69cec7-e7b5-4869-9a8b-a9efc597c6be"
      },
      "outputs": [
        {
          "data": {
            "application/vnd.google.colaboratory.intrinsic+json": {
              "type": "dataframe",
              "variable_name": "sample_df"
            },
            "text/html": [
              "\n",
              "  <div id=\"df-7f9696ee-662b-4441-96fb-bc98d468dbb9\" class=\"colab-df-container\">\n",
              "    <div>\n",
              "<style scoped>\n",
              "    .dataframe tbody tr th:only-of-type {\n",
              "        vertical-align: middle;\n",
              "    }\n",
              "\n",
              "    .dataframe tbody tr th {\n",
              "        vertical-align: top;\n",
              "    }\n",
              "\n",
              "    .dataframe thead th {\n",
              "        text-align: right;\n",
              "    }\n",
              "</style>\n",
              "<table border=\"1\" class=\"dataframe\">\n",
              "  <thead>\n",
              "    <tr style=\"text-align: right;\">\n",
              "      <th></th>\n",
              "      <th>order_id</th>\n",
              "      <th>product_id</th>\n",
              "      <th>add_to_cart_order</th>\n",
              "      <th>reordered</th>\n",
              "      <th>user_id</th>\n",
              "      <th>eval_set</th>\n",
              "      <th>order_number</th>\n",
              "      <th>order_dow</th>\n",
              "      <th>order_hour_of_day</th>\n",
              "      <th>days_since_prior_order</th>\n",
              "      <th>product_name</th>\n",
              "      <th>aisle_id</th>\n",
              "      <th>department_id</th>\n",
              "      <th>aisle</th>\n",
              "      <th>aisle_category</th>\n",
              "      <th>department</th>\n",
              "    </tr>\n",
              "  </thead>\n",
              "  <tbody>\n",
              "    <tr>\n",
              "      <th>0</th>\n",
              "      <td>382699</td>\n",
              "      <td>43643</td>\n",
              "      <td>10</td>\n",
              "      <td>1</td>\n",
              "      <td>127314</td>\n",
              "      <td>prior</td>\n",
              "      <td>4</td>\n",
              "      <td>5</td>\n",
              "      <td>13</td>\n",
              "      <td>13.0</td>\n",
              "      <td>Organic Strawana Probugs Kefir</td>\n",
              "      <td>120</td>\n",
              "      <td>16</td>\n",
              "      <td>yogurt</td>\n",
              "      <td>Frozen &amp; Refrigerated Items</td>\n",
              "      <td>dairy eggs</td>\n",
              "    </tr>\n",
              "    <tr>\n",
              "      <th>1</th>\n",
              "      <td>1213384</td>\n",
              "      <td>47209</td>\n",
              "      <td>3</td>\n",
              "      <td>1</td>\n",
              "      <td>101075</td>\n",
              "      <td>prior</td>\n",
              "      <td>15</td>\n",
              "      <td>3</td>\n",
              "      <td>8</td>\n",
              "      <td>26.0</td>\n",
              "      <td>Organic Hass Avocado</td>\n",
              "      <td>24</td>\n",
              "      <td>4</td>\n",
              "      <td>fresh fruits</td>\n",
              "      <td>Fresh Foods</td>\n",
              "      <td>produce</td>\n",
              "    </tr>\n",
              "    <tr>\n",
              "      <th>2</th>\n",
              "      <td>952058</td>\n",
              "      <td>17794</td>\n",
              "      <td>1</td>\n",
              "      <td>1</td>\n",
              "      <td>194460</td>\n",
              "      <td>prior</td>\n",
              "      <td>8</td>\n",
              "      <td>1</td>\n",
              "      <td>11</td>\n",
              "      <td>8.0</td>\n",
              "      <td>Carrots</td>\n",
              "      <td>83</td>\n",
              "      <td>4</td>\n",
              "      <td>fresh vegetables</td>\n",
              "      <td>Fresh Foods</td>\n",
              "      <td>produce</td>\n",
              "    </tr>\n",
              "    <tr>\n",
              "      <th>3</th>\n",
              "      <td>2463870</td>\n",
              "      <td>28632</td>\n",
              "      <td>12</td>\n",
              "      <td>0</td>\n",
              "      <td>99016</td>\n",
              "      <td>prior</td>\n",
              "      <td>1</td>\n",
              "      <td>5</td>\n",
              "      <td>9</td>\n",
              "      <td>NaN</td>\n",
              "      <td>Premium Sweet Petites Carrots</td>\n",
              "      <td>123</td>\n",
              "      <td>4</td>\n",
              "      <td>packaged vegetables fruits</td>\n",
              "      <td>Packaged Foods</td>\n",
              "      <td>produce</td>\n",
              "    </tr>\n",
              "    <tr>\n",
              "      <th>4</th>\n",
              "      <td>1558201</td>\n",
              "      <td>46802</td>\n",
              "      <td>11</td>\n",
              "      <td>0</td>\n",
              "      <td>79541</td>\n",
              "      <td>prior</td>\n",
              "      <td>30</td>\n",
              "      <td>2</td>\n",
              "      <td>13</td>\n",
              "      <td>14.0</td>\n",
              "      <td>Pineapple Chunks</td>\n",
              "      <td>116</td>\n",
              "      <td>1</td>\n",
              "      <td>frozen produce</td>\n",
              "      <td>Frozen &amp; Refrigerated Items</td>\n",
              "      <td>frozen</td>\n",
              "    </tr>\n",
              "  </tbody>\n",
              "</table>\n",
              "</div>\n",
              "    <div class=\"colab-df-buttons\">\n",
              "\n",
              "  <div class=\"colab-df-container\">\n",
              "    <button class=\"colab-df-convert\" onclick=\"convertToInteractive('df-7f9696ee-662b-4441-96fb-bc98d468dbb9')\"\n",
              "            title=\"Convert this dataframe to an interactive table.\"\n",
              "            style=\"display:none;\">\n",
              "\n",
              "  <svg xmlns=\"http://www.w3.org/2000/svg\" height=\"24px\" viewBox=\"0 -960 960 960\">\n",
              "    <path d=\"M120-120v-720h720v720H120Zm60-500h600v-160H180v160Zm220 220h160v-160H400v160Zm0 220h160v-160H400v160ZM180-400h160v-160H180v160Zm440 0h160v-160H620v160ZM180-180h160v-160H180v160Zm440 0h160v-160H620v160Z\"/>\n",
              "  </svg>\n",
              "    </button>\n",
              "\n",
              "  <style>\n",
              "    .colab-df-container {\n",
              "      display:flex;\n",
              "      gap: 12px;\n",
              "    }\n",
              "\n",
              "    .colab-df-convert {\n",
              "      background-color: #E8F0FE;\n",
              "      border: none;\n",
              "      border-radius: 50%;\n",
              "      cursor: pointer;\n",
              "      display: none;\n",
              "      fill: #1967D2;\n",
              "      height: 32px;\n",
              "      padding: 0 0 0 0;\n",
              "      width: 32px;\n",
              "    }\n",
              "\n",
              "    .colab-df-convert:hover {\n",
              "      background-color: #E2EBFA;\n",
              "      box-shadow: 0px 1px 2px rgba(60, 64, 67, 0.3), 0px 1px 3px 1px rgba(60, 64, 67, 0.15);\n",
              "      fill: #174EA6;\n",
              "    }\n",
              "\n",
              "    .colab-df-buttons div {\n",
              "      margin-bottom: 4px;\n",
              "    }\n",
              "\n",
              "    [theme=dark] .colab-df-convert {\n",
              "      background-color: #3B4455;\n",
              "      fill: #D2E3FC;\n",
              "    }\n",
              "\n",
              "    [theme=dark] .colab-df-convert:hover {\n",
              "      background-color: #434B5C;\n",
              "      box-shadow: 0px 1px 3px 1px rgba(0, 0, 0, 0.15);\n",
              "      filter: drop-shadow(0px 1px 2px rgba(0, 0, 0, 0.3));\n",
              "      fill: #FFFFFF;\n",
              "    }\n",
              "  </style>\n",
              "\n",
              "    <script>\n",
              "      const buttonEl =\n",
              "        document.querySelector('#df-7f9696ee-662b-4441-96fb-bc98d468dbb9 button.colab-df-convert');\n",
              "      buttonEl.style.display =\n",
              "        google.colab.kernel.accessAllowed ? 'block' : 'none';\n",
              "\n",
              "      async function convertToInteractive(key) {\n",
              "        const element = document.querySelector('#df-7f9696ee-662b-4441-96fb-bc98d468dbb9');\n",
              "        const dataTable =\n",
              "          await google.colab.kernel.invokeFunction('convertToInteractive',\n",
              "                                                    [key], {});\n",
              "        if (!dataTable) return;\n",
              "\n",
              "        const docLinkHtml = 'Like what you see? Visit the ' +\n",
              "          '<a target=\"_blank\" href=https://colab.research.google.com/notebooks/data_table.ipynb>data table notebook</a>'\n",
              "          + ' to learn more about interactive tables.';\n",
              "        element.innerHTML = '';\n",
              "        dataTable['output_type'] = 'display_data';\n",
              "        await google.colab.output.renderOutput(dataTable, element);\n",
              "        const docLink = document.createElement('div');\n",
              "        docLink.innerHTML = docLinkHtml;\n",
              "        element.appendChild(docLink);\n",
              "      }\n",
              "    </script>\n",
              "  </div>\n",
              "\n",
              "\n",
              "<div id=\"df-44318d4b-3888-4d32-9dc5-a0f810b901bb\">\n",
              "  <button class=\"colab-df-quickchart\" onclick=\"quickchart('df-44318d4b-3888-4d32-9dc5-a0f810b901bb')\"\n",
              "            title=\"Suggest charts\"\n",
              "            style=\"display:none;\">\n",
              "\n",
              "<svg xmlns=\"http://www.w3.org/2000/svg\" height=\"24px\"viewBox=\"0 0 24 24\"\n",
              "     width=\"24px\">\n",
              "    <g>\n",
              "        <path d=\"M19 3H5c-1.1 0-2 .9-2 2v14c0 1.1.9 2 2 2h14c1.1 0 2-.9 2-2V5c0-1.1-.9-2-2-2zM9 17H7v-7h2v7zm4 0h-2V7h2v10zm4 0h-2v-4h2v4z\"/>\n",
              "    </g>\n",
              "</svg>\n",
              "  </button>\n",
              "\n",
              "<style>\n",
              "  .colab-df-quickchart {\n",
              "      --bg-color: #E8F0FE;\n",
              "      --fill-color: #1967D2;\n",
              "      --hover-bg-color: #E2EBFA;\n",
              "      --hover-fill-color: #174EA6;\n",
              "      --disabled-fill-color: #AAA;\n",
              "      --disabled-bg-color: #DDD;\n",
              "  }\n",
              "\n",
              "  [theme=dark] .colab-df-quickchart {\n",
              "      --bg-color: #3B4455;\n",
              "      --fill-color: #D2E3FC;\n",
              "      --hover-bg-color: #434B5C;\n",
              "      --hover-fill-color: #FFFFFF;\n",
              "      --disabled-bg-color: #3B4455;\n",
              "      --disabled-fill-color: #666;\n",
              "  }\n",
              "\n",
              "  .colab-df-quickchart {\n",
              "    background-color: var(--bg-color);\n",
              "    border: none;\n",
              "    border-radius: 50%;\n",
              "    cursor: pointer;\n",
              "    display: none;\n",
              "    fill: var(--fill-color);\n",
              "    height: 32px;\n",
              "    padding: 0;\n",
              "    width: 32px;\n",
              "  }\n",
              "\n",
              "  .colab-df-quickchart:hover {\n",
              "    background-color: var(--hover-bg-color);\n",
              "    box-shadow: 0 1px 2px rgba(60, 64, 67, 0.3), 0 1px 3px 1px rgba(60, 64, 67, 0.15);\n",
              "    fill: var(--button-hover-fill-color);\n",
              "  }\n",
              "\n",
              "  .colab-df-quickchart-complete:disabled,\n",
              "  .colab-df-quickchart-complete:disabled:hover {\n",
              "    background-color: var(--disabled-bg-color);\n",
              "    fill: var(--disabled-fill-color);\n",
              "    box-shadow: none;\n",
              "  }\n",
              "\n",
              "  .colab-df-spinner {\n",
              "    border: 2px solid var(--fill-color);\n",
              "    border-color: transparent;\n",
              "    border-bottom-color: var(--fill-color);\n",
              "    animation:\n",
              "      spin 1s steps(1) infinite;\n",
              "  }\n",
              "\n",
              "  @keyframes spin {\n",
              "    0% {\n",
              "      border-color: transparent;\n",
              "      border-bottom-color: var(--fill-color);\n",
              "      border-left-color: var(--fill-color);\n",
              "    }\n",
              "    20% {\n",
              "      border-color: transparent;\n",
              "      border-left-color: var(--fill-color);\n",
              "      border-top-color: var(--fill-color);\n",
              "    }\n",
              "    30% {\n",
              "      border-color: transparent;\n",
              "      border-left-color: var(--fill-color);\n",
              "      border-top-color: var(--fill-color);\n",
              "      border-right-color: var(--fill-color);\n",
              "    }\n",
              "    40% {\n",
              "      border-color: transparent;\n",
              "      border-right-color: var(--fill-color);\n",
              "      border-top-color: var(--fill-color);\n",
              "    }\n",
              "    60% {\n",
              "      border-color: transparent;\n",
              "      border-right-color: var(--fill-color);\n",
              "    }\n",
              "    80% {\n",
              "      border-color: transparent;\n",
              "      border-right-color: var(--fill-color);\n",
              "      border-bottom-color: var(--fill-color);\n",
              "    }\n",
              "    90% {\n",
              "      border-color: transparent;\n",
              "      border-bottom-color: var(--fill-color);\n",
              "    }\n",
              "  }\n",
              "</style>\n",
              "\n",
              "  <script>\n",
              "    async function quickchart(key) {\n",
              "      const quickchartButtonEl =\n",
              "        document.querySelector('#' + key + ' button');\n",
              "      quickchartButtonEl.disabled = true;  // To prevent multiple clicks.\n",
              "      quickchartButtonEl.classList.add('colab-df-spinner');\n",
              "      try {\n",
              "        const charts = await google.colab.kernel.invokeFunction(\n",
              "            'suggestCharts', [key], {});\n",
              "      } catch (error) {\n",
              "        console.error('Error during call to suggestCharts:', error);\n",
              "      }\n",
              "      quickchartButtonEl.classList.remove('colab-df-spinner');\n",
              "      quickchartButtonEl.classList.add('colab-df-quickchart-complete');\n",
              "    }\n",
              "    (() => {\n",
              "      let quickchartButtonEl =\n",
              "        document.querySelector('#df-44318d4b-3888-4d32-9dc5-a0f810b901bb button');\n",
              "      quickchartButtonEl.style.display =\n",
              "        google.colab.kernel.accessAllowed ? 'block' : 'none';\n",
              "    })();\n",
              "  </script>\n",
              "</div>\n",
              "\n",
              "    </div>\n",
              "  </div>\n"
            ],
            "text/plain": [
              "   order_id  product_id  add_to_cart_order  reordered  user_id eval_set  \\\n",
              "0    382699       43643                 10          1   127314    prior   \n",
              "1   1213384       47209                  3          1   101075    prior   \n",
              "2    952058       17794                  1          1   194460    prior   \n",
              "3   2463870       28632                 12          0    99016    prior   \n",
              "4   1558201       46802                 11          0    79541    prior   \n",
              "\n",
              "   order_number  order_dow order_hour_of_day  days_since_prior_order  \\\n",
              "0             4          5                13                    13.0   \n",
              "1            15          3                 8                    26.0   \n",
              "2             8          1                11                     8.0   \n",
              "3             1          5                 9                     NaN   \n",
              "4            30          2                13                    14.0   \n",
              "\n",
              "                     product_name  aisle_id  department_id  \\\n",
              "0  Organic Strawana Probugs Kefir       120             16   \n",
              "1            Organic Hass Avocado        24              4   \n",
              "2                         Carrots        83              4   \n",
              "3   Premium Sweet Petites Carrots       123              4   \n",
              "4                Pineapple Chunks       116              1   \n",
              "\n",
              "                        aisle               aisle_category  department  \n",
              "0                      yogurt  Frozen & Refrigerated Items  dairy eggs  \n",
              "1                fresh fruits                  Fresh Foods     produce  \n",
              "2            fresh vegetables                  Fresh Foods     produce  \n",
              "3  packaged vegetables fruits               Packaged Foods     produce  \n",
              "4              frozen produce  Frozen & Refrigerated Items      frozen  "
            ]
          },
          "execution_count": 22,
          "metadata": {},
          "output_type": "execute_result"
        }
      ],
      "source": [
        "sample_df.head()"
      ]
    },
    {
      "cell_type": "markdown",
      "metadata": {
        "id": "RWFhBGhxB-5O"
      },
      "source": [
        "# Pre-processing"
      ]
    },
    {
      "cell_type": "code",
      "execution_count": null,
      "metadata": {
        "id": "_f3y9EmtB-5O"
      },
      "outputs": [],
      "source": [
        "# read the data\n",
        "df = pd.read_csv('streamlit/data.csv')"
      ]
    },
    {
      "cell_type": "code",
      "execution_count": null,
      "metadata": {
        "id": "ZTkGOYx2B-5O",
        "outputId": "aa9e02e9-1be9-48b1-9fac-580b40e35f51"
      },
      "outputs": [
        {
          "name": "stderr",
          "output_type": "stream",
          "text": [
            "C:\\Users\\Andrea FS\\AppData\\Local\\Temp\\ipykernel_14664\\3795974286.py:1: FutureWarning: A value is trying to be set on a copy of a DataFrame or Series through chained assignment using an inplace method.\n",
            "The behavior will change in pandas 3.0. This inplace method will never work because the intermediate object on which we are setting values always behaves as a copy.\n",
            "\n",
            "For example, when doing 'df[col].method(value, inplace=True)', try using 'df.method({col: value}, inplace=True)' or df[col] = df[col].method(value) instead, to perform the operation inplace on the original object.\n",
            "\n",
            "\n",
            "  df['days_since_prior_order'].fillna(0, inplace=True)\n"
          ]
        },
        {
          "data": {
            "text/plain": [
              "order_id                  0\n",
              "product_id                0\n",
              "add_to_cart_order         0\n",
              "reordered                 0\n",
              "user_id                   0\n",
              "eval_set                  0\n",
              "order_number              0\n",
              "order_dow                 0\n",
              "order_hour_of_day         0\n",
              "days_since_prior_order    0\n",
              "product_name              0\n",
              "aisle_id                  0\n",
              "department_id             0\n",
              "aisle                     0\n",
              "aisle_category            0\n",
              "department                0\n",
              "dtype: int64"
            ]
          },
          "execution_count": 38,
          "metadata": {},
          "output_type": "execute_result"
        }
      ],
      "source": [
        "df['days_since_prior_order'].fillna(0, inplace=True)\n",
        "df.isnull().sum()"
      ]
    },
    {
      "cell_type": "markdown",
      "metadata": {
        "id": "GLPmX-XrB-5O"
      },
      "source": [
        "Convert to the appropiate numerical format"
      ]
    },
    {
      "cell_type": "code",
      "execution_count": null,
      "metadata": {
        "id": "2Y8dGkOhB-5O"
      },
      "outputs": [],
      "source": [
        "df['order_hour_of_day'] = pd.to_numeric(df['order_hour_of_day'], errors='coerce')"
      ]
    },
    {
      "cell_type": "code",
      "execution_count": null,
      "metadata": {
        "id": "jzUU3xZnB-5P",
        "outputId": "cd38d55a-02ec-4584-f02a-4b93503abac8"
      },
      "outputs": [
        {
          "name": "stdout",
          "output_type": "stream",
          "text": [
            "<class 'pandas.core.frame.DataFrame'>\n",
            "RangeIndex: 81086 entries, 0 to 81085\n",
            "Data columns (total 16 columns):\n",
            " #   Column                  Non-Null Count  Dtype  \n",
            "---  ------                  --------------  -----  \n",
            " 0   order_id                81086 non-null  int64  \n",
            " 1   product_id              81086 non-null  int64  \n",
            " 2   add_to_cart_order       81086 non-null  int64  \n",
            " 3   reordered               81086 non-null  int64  \n",
            " 4   user_id                 81086 non-null  int64  \n",
            " 5   eval_set                81086 non-null  object \n",
            " 6   order_number            81086 non-null  int64  \n",
            " 7   order_dow               81086 non-null  int64  \n",
            " 8   order_hour_of_day       80288 non-null  float64\n",
            " 9   days_since_prior_order  81086 non-null  float64\n",
            " 10  product_name            81086 non-null  object \n",
            " 11  aisle_id                81086 non-null  int64  \n",
            " 12  department_id           81086 non-null  int64  \n",
            " 13  aisle                   81086 non-null  object \n",
            " 14  aisle_category          81086 non-null  object \n",
            " 15  department              81086 non-null  object \n",
            "dtypes: float64(2), int64(9), object(5)\n",
            "memory usage: 9.9+ MB\n"
          ]
        }
      ],
      "source": [
        "df.info()"
      ]
    },
    {
      "cell_type": "markdown",
      "metadata": {
        "id": "ly4Tz_cnB-5P"
      },
      "source": [
        "### Data Validation and Outliers handling"
      ]
    },
    {
      "cell_type": "markdown",
      "metadata": {
        "id": "FD6o0162B-5P"
      },
      "source": [
        "We should eliminate invalid values like hours of the day outside of the normal range (0-24)"
      ]
    },
    {
      "cell_type": "code",
      "execution_count": null,
      "metadata": {
        "id": "2VKcexwMB-5P",
        "outputId": "7a911a0e-52bd-479a-f1d2-b9c9b41d01fb"
      },
      "outputs": [
        {
          "data": {
            "text/plain": [
              "<Axes: ylabel='order_hour_of_day'>"
            ]
          },
          "execution_count": 41,
          "metadata": {},
          "output_type": "execute_result"
        },
        {
          "data": {
            "image/png": "[encoded data removed]",
            "text/plain": [
              "<Figure size 640x480 with 1 Axes>"
            ]
          },
          "metadata": {},
          "output_type": "display_data"
        }
      ],
      "source": [
        "sns.boxplot(df['order_hour_of_day'])"
      ]
    },
    {
      "cell_type": "code",
      "execution_count": null,
      "metadata": {
        "id": "uMqfpAraB-5P",
        "outputId": "0cafe941-e760-454e-f9f4-fb8985b208d1"
      },
      "outputs": [
        {
          "data": {
            "text/plain": [
              "array([18., 11., 13., 14., 17., 15., 16., 23.,  0., 12., 10.,  8.,  9.,\n",
              "       19., 20.,  6., 21.,  7., 22., nan, 25.,  3.,  5.,  1.,  2.,  4.,\n",
              "       27., 29., 28., 26.])"
            ]
          },
          "execution_count": 42,
          "metadata": {},
          "output_type": "execute_result"
        }
      ],
      "source": [
        "df['order_hour_of_day'].unique()"
      ]
    },
    {
      "cell_type": "code",
      "execution_count": null,
      "metadata": {
        "id": "mXUd2-FQB-5P",
        "outputId": "72a3b84c-75d1-4d2d-8c4c-52757e09da49"
      },
      "outputs": [
        {
          "data": {
            "text/plain": [
              "array([18., 11., 13., 14., 17., 15., 16., 23.,  0., 12., 10.,  8.,  9.,\n",
              "       19., 20.,  6., 21.,  7., 22., nan,  3.,  5.,  1.,  2.,  4.])"
            ]
          },
          "execution_count": 43,
          "metadata": {},
          "output_type": "execute_result"
        }
      ],
      "source": [
        "df['order_hour_of_day'] = df['order_hour_of_day'][df['order_hour_of_day'] <= 24]\n",
        "df['order_hour_of_day'].unique()"
      ]
    },
    {
      "cell_type": "code",
      "execution_count": null,
      "metadata": {
        "id": "vgWNrMj2B-5P",
        "outputId": "d7153983-f07b-40be-f999-80ba8c704c33"
      },
      "outputs": [
        {
          "data": {
            "text/plain": [
              "<Axes: ylabel='order_dow'>"
            ]
          },
          "execution_count": 44,
          "metadata": {},
          "output_type": "execute_result"
        },
        {
          "data": {
            "image/png": "[encoded data removed]",
            "text/plain": [
              "<Figure size 640x480 with 1 Axes>"
            ]
          },
          "metadata": {},
          "output_type": "display_data"
        }
      ],
      "source": [
        "sns.boxplot(df['order_dow'])"
      ]
    },
    {
      "cell_type": "code",
      "execution_count": null,
      "metadata": {
        "id": "-y8xuOGRB-5Q",
        "outputId": "0d7080a2-c191-4708-fc1b-5d4d332d7faf"
      },
      "outputs": [
        {
          "data": {
            "text/plain": [
              "array([6, 0, 5, 3, 2, 1, 4])"
            ]
          },
          "execution_count": 45,
          "metadata": {},
          "output_type": "execute_result"
        }
      ],
      "source": [
        "df['order_dow'].unique()"
      ]
    },
    {
      "cell_type": "markdown",
      "metadata": {
        "id": "-XO29-d8B-5Q"
      },
      "source": [
        "This column has significant outliers"
      ]
    },
    {
      "cell_type": "code",
      "execution_count": null,
      "metadata": {
        "id": "1hn1I_qiB-5Q",
        "outputId": "a2c0b068-bc52-491c-914c-68dedf651d71"
      },
      "outputs": [
        {
          "data": {
            "text/plain": [
              "<Axes: ylabel='days_since_prior_order'>"
            ]
          },
          "execution_count": 46,
          "metadata": {},
          "output_type": "execute_result"
        },
        {
          "data": {
            "image/png": "[encoded data removed]",
            "text/plain": [
              "<Figure size 640x480 with 1 Axes>"
            ]
          },
          "metadata": {},
          "output_type": "display_data"
        }
      ],
      "source": [
        "sns.boxplot(df[\"days_since_prior_order\"])"
      ]
    },
    {
      "cell_type": "code",
      "execution_count": null,
      "metadata": {
        "id": "CLCxyK9SB-5Q",
        "outputId": "4bffb689-142a-403a-e3fb-a9d6b9b101af"
      },
      "outputs": [
        {
          "data": {
            "text/plain": [
              "count    81086.000000\n",
              "mean        30.678231\n",
              "std        186.714053\n",
              "min          0.000000\n",
              "25%          5.000000\n",
              "50%          8.000000\n",
              "75%         15.000000\n",
              "max       3000.000000\n",
              "Name: days_since_prior_order, dtype: float64"
            ]
          },
          "execution_count": 47,
          "metadata": {},
          "output_type": "execute_result"
        }
      ],
      "source": [
        "df[\"days_since_prior_order\"].describe()"
      ]
    },
    {
      "cell_type": "code",
      "execution_count": null,
      "metadata": {
        "id": "cU1luICXB-5Q",
        "outputId": "8f9688cb-da53-4c65-a614-c9499220d81b"
      },
      "outputs": [
        {
          "name": "stdout",
          "output_type": "stream",
          "text": [
            "Outliers in Days since Prior order: 1449\n",
            "Proportion of outliers: 1.79 %\n"
          ]
        }
      ],
      "source": [
        "more_than_year =  df[\"days_since_prior_order\"][df[\"days_since_prior_order\"] > 30].count()\n",
        "print(\"Outliers in Days since Prior order:\", more_than_year)\n",
        "print(\"Proportion of outliers:\", round(more_than_year*100/df.shape[0], 2), \"%\")"
      ]
    },
    {
      "cell_type": "markdown",
      "metadata": {
        "id": "QK1ODTIDB-5Q"
      },
      "source": [
        "As the proportion of outliers is minimal, we can eliminate them:"
      ]
    },
    {
      "cell_type": "code",
      "execution_count": null,
      "metadata": {
        "id": "wCrqiCF4B-5Q",
        "outputId": "6b8f3f1b-52e3-49b1-89f4-9923a50fc29d"
      },
      "outputs": [
        {
          "data": {
            "text/plain": [
              "<Axes: ylabel='days_since_prior_order'>"
            ]
          },
          "execution_count": 49,
          "metadata": {},
          "output_type": "execute_result"
        },
        {
          "data": {
            "image/png": "[encoded data removed]",
            "text/plain": [
              "<Figure size 640x480 with 1 Axes>"
            ]
          },
          "metadata": {},
          "output_type": "display_data"
        }
      ],
      "source": [
        "df['days_since_prior_order'] =  df[\"days_since_prior_order\"][df[\"days_since_prior_order\"] < 30]\n",
        "sns.boxplot(df['days_since_prior_order'])"
      ]
    },
    {
      "cell_type": "markdown",
      "metadata": {
        "id": "6-7Y_CDAB-5R"
      },
      "source": [
        "### Handling missing values"
      ]
    },
    {
      "cell_type": "code",
      "execution_count": null,
      "metadata": {
        "id": "8QNqgWArB-5R",
        "outputId": "6350e551-9dfb-4397-ad4a-55eb1faa3674"
      },
      "outputs": [
        {
          "data": {
            "text/plain": [
              "order_id                     0\n",
              "product_id                   0\n",
              "add_to_cart_order            0\n",
              "reordered                    0\n",
              "user_id                      0\n",
              "eval_set                     0\n",
              "order_number                 0\n",
              "order_dow                    0\n",
              "order_hour_of_day         1571\n",
              "days_since_prior_order    8906\n",
              "product_name                 0\n",
              "aisle_id                     0\n",
              "department_id                0\n",
              "aisle                        0\n",
              "aisle_category               0\n",
              "department                   0\n",
              "dtype: int64"
            ]
          },
          "execution_count": 50,
          "metadata": {},
          "output_type": "execute_result"
        }
      ],
      "source": [
        "df.isnull().sum()"
      ]
    },
    {
      "cell_type": "markdown",
      "metadata": {
        "id": "S-yfo3uzB-5R"
      },
      "source": [
        "For hours of the day we can add a cero for non previous order information"
      ]
    },
    {
      "cell_type": "code",
      "execution_count": null,
      "metadata": {
        "id": "ETCOqhmnB-5R",
        "outputId": "356c0ed8-075c-4644-fb5f-bb04d08b9dff"
      },
      "outputs": [
        {
          "name": "stderr",
          "output_type": "stream",
          "text": [
            "C:\\Users\\Andrea FS\\AppData\\Local\\Temp\\ipykernel_14664\\1013730835.py:2: FutureWarning: A value is trying to be set on a copy of a DataFrame or Series through chained assignment using an inplace method.\n",
            "The behavior will change in pandas 3.0. This inplace method will never work because the intermediate object on which we are setting values always behaves as a copy.\n",
            "\n",
            "For example, when doing 'df[col].method(value, inplace=True)', try using 'df.method({col: value}, inplace=True)' or df[col] = df[col].method(value) instead, to perform the operation inplace on the original object.\n",
            "\n",
            "\n",
            "  df['days_since_prior_order'].fillna(0, inplace=True)\n"
          ]
        },
        {
          "data": {
            "text/plain": [
              "np.int64(0)"
            ]
          },
          "execution_count": 51,
          "metadata": {},
          "output_type": "execute_result"
        }
      ],
      "source": [
        "# Fill missing values with 0\n",
        "df['days_since_prior_order'].fillna(0, inplace=True)\n",
        "df['days_since_prior_order'].isnull().sum()"
      ]
    },
    {
      "cell_type": "code",
      "execution_count": null,
      "metadata": {
        "id": "FXSPTLqeB-5R",
        "outputId": "7b2c958f-8399-4103-dfe1-4865efc5f658"
      },
      "outputs": [
        {
          "name": "stderr",
          "output_type": "stream",
          "text": [
            "C:\\Users\\Andrea FS\\AppData\\Local\\Temp\\ipykernel_14664\\1608081866.py:2: FutureWarning: A value is trying to be set on a copy of a DataFrame or Series through chained assignment using an inplace method.\n",
            "The behavior will change in pandas 3.0. This inplace method will never work because the intermediate object on which we are setting values always behaves as a copy.\n",
            "\n",
            "For example, when doing 'df[col].method(value, inplace=True)', try using 'df.method({col: value}, inplace=True)' or df[col] = df[col].method(value) instead, to perform the operation inplace on the original object.\n",
            "\n",
            "\n",
            "  df['order_hour_of_day'].fillna(df['order_hour_of_day'].mode()[0], inplace=True)\n"
          ]
        },
        {
          "data": {
            "text/plain": [
              "np.int64(0)"
            ]
          },
          "execution_count": 52,
          "metadata": {},
          "output_type": "execute_result"
        }
      ],
      "source": [
        "# Fill missing values with mode\n",
        "df['order_hour_of_day'].fillna(df['order_hour_of_day'].mode()[0], inplace=True)\n",
        "df['order_hour_of_day'].isnull().sum()"
      ]
    },
    {
      "cell_type": "code",
      "execution_count": null,
      "metadata": {
        "id": "AuTZewoEB-5R",
        "outputId": "1151e232-2f1f-4253-c8cc-cfdd85197184"
      },
      "outputs": [
        {
          "data": {
            "text/plain": [
              "order_id                  0\n",
              "product_id                0\n",
              "add_to_cart_order         0\n",
              "reordered                 0\n",
              "user_id                   0\n",
              "eval_set                  0\n",
              "order_number              0\n",
              "order_dow                 0\n",
              "order_hour_of_day         0\n",
              "days_since_prior_order    0\n",
              "product_name              0\n",
              "aisle_id                  0\n",
              "department_id             0\n",
              "aisle                     0\n",
              "aisle_category            0\n",
              "department                0\n",
              "dtype: int64"
            ]
          },
          "execution_count": 53,
          "metadata": {},
          "output_type": "execute_result"
        }
      ],
      "source": [
        "df.isnull().sum()"
      ]
    },
    {
      "cell_type": "code",
      "execution_count": null,
      "metadata": {
        "id": "ZbrxMOhJB-5U",
        "outputId": "e6c9cfb7-648a-4f07-f60e-bd352e07926f"
      },
      "outputs": [
        {
          "data": {
            "text/plain": [
              "aisle_category\n",
              "Fresh Foods                    0.234837\n",
              "Packaged Foods                 0.221937\n",
              "Other                          0.208421\n",
              "Frozen & Refrigerated Items    0.188195\n",
              "Beverages                      0.068002\n",
              "Unknown                        0.049355\n",
              "Household & Personal Care      0.029253\n",
              "Name: proportion, dtype: float64"
            ]
          },
          "execution_count": 54,
          "metadata": {},
          "output_type": "execute_result"
        }
      ],
      "source": [
        "# percentage of 'Unknown' category in the 'aisle_category' column\n",
        "df['aisle_category'].value_counts(normalize=True)"
      ]
    },
    {
      "cell_type": "code",
      "execution_count": null,
      "metadata": {
        "id": "0ncfk3fnB-5V",
        "outputId": "20f3df12-11e2-409d-a3be-d98feb30cbd8"
      },
      "outputs": [
        {
          "data": {
            "text/plain": [
              "array(['snacks', 'pantry', 'produce', 'dairy eggs', 'beverages', 'bakery',\n",
              "       'deli', 'frozen', 'breakfast', 'canned goods', 'Unknown',\n",
              "       'international', 'meat seafood', 'household', 'dry goods pasta',\n",
              "       'personal care', 'missing', 'babies', 'pets', 'other', 'alcohol',\n",
              "       'bulk'], dtype=object)"
            ]
          },
          "execution_count": 55,
          "metadata": {},
          "output_type": "execute_result"
        }
      ],
      "source": [
        "df['department'].unique()"
      ]
    },
    {
      "cell_type": "code",
      "execution_count": null,
      "metadata": {
        "id": "c5ZnDoo_B-5V",
        "outputId": "6b7f6ab8-c522-497f-ac8f-25cfb00fb49a"
      },
      "outputs": [
        {
          "data": {
            "text/plain": [
              "array(['Packaged Foods', 'Other', 'Fresh Foods', 'Unknown', 'Beverages',\n",
              "       'Frozen & Refrigerated Items', 'Household & Personal Care'],\n",
              "      dtype=object)"
            ]
          },
          "execution_count": 56,
          "metadata": {},
          "output_type": "execute_result"
        }
      ],
      "source": [
        "df['aisle_category'].unique()"
      ]
    },
    {
      "cell_type": "code",
      "execution_count": null,
      "metadata": {
        "id": "C_dgGYHfB-5V"
      },
      "outputs": [],
      "source": [
        "# Drop rows where 'aisle_category' or 'department' is 'Unknown'\n",
        "df = df[(df['aisle_category'] != 'Unknown') & (df['department'] != 'Unknown')]\n"
      ]
    },
    {
      "cell_type": "markdown",
      "metadata": {
        "id": "6evX0Y65B-5V"
      },
      "source": [
        "# Visualizations"
      ]
    },
    {
      "cell_type": "code",
      "execution_count": null,
      "metadata": {
        "id": "75AowQe0B-5V",
        "outputId": "f84d5a41-af65-49ba-d49c-c6fc8ff4aed5"
      },
      "outputs": [
        {
          "data": {
            "image/png": "[encoded data removed]",
            "text/plain": [
              "<Figure size 800x600 with 1 Axes>"
            ]
          },
          "metadata": {},
          "output_type": "display_data"
        }
      ],
      "source": [
        "# Calculate proportions\n",
        "reordered_counts = df['reordered'].value_counts()\n",
        "reordered_labels = ['Not Reordered', 'Reordered']\n",
        "\n",
        "# Plot\n",
        "plt.figure(figsize=(8, 6))\n",
        "plt.pie(\n",
        "    reordered_counts,\n",
        "    labels=reordered_labels,\n",
        "    autopct='%1.1f%%',  # Show percentages\n",
        "    startangle=140,  # Rotate for better view\n",
        "    colors=['skyblue', 'salmon']  # Distinct colors\n",
        ")\n",
        "plt.title('Proportion of Reordered vs. Not Reordered Products')\n",
        "plt.show()\n",
        "\n",
        "\n"
      ]
    },
    {
      "cell_type": "markdown",
      "metadata": {
        "id": "2fQMq_o6B-5W"
      },
      "source": [
        "The  not reorder percentage is greater than the reordered, it means that the majority of products are purchased only once, maybe because are less essential for the customers"
      ]
    },
    {
      "cell_type": "code",
      "execution_count": null,
      "metadata": {
        "id": "asg7IAw4B-5W",
        "outputId": "1d20d1f4-109f-4eb9-a331-0d0572e9f106"
      },
      "outputs": [
        {
          "data": {
            "image/png": "[encoded data removed]",
            "text/plain": [
              "<Figure size 1000x600 with 1 Axes>"
            ]
          },
          "metadata": {},
          "output_type": "display_data"
        }
      ],
      "source": [
        "# Aggregate reorder rates by department with observed=True\n",
        "dept_reorder = (\n",
        "    df.groupby('department', observed=True)['reordered']\n",
        "    .mean()\n",
        "    .sort_values(ascending=False)\n",
        ")\n",
        "\n",
        "# Plot\n",
        "plt.figure(figsize=(10, 6))\n",
        "dept_reorder.plot(kind='bar', color=plt.cm.tab20.colors)\n",
        "plt.title('Reorder Rate by Department')\n",
        "plt.xlabel('Department')\n",
        "plt.ylabel('Reorder Rate')\n",
        "plt.xticks(rotation=45)\n",
        "plt.show()\n"
      ]
    },
    {
      "cell_type": "markdown",
      "metadata": {
        "id": "fEtXRxCQB-5W"
      },
      "source": [
        "Departments like \"dairy eggs,\" \"produce,\" and \"beverages\" have the highest reorder rates which could mean that for that sample they are essential or frequently consumed products, such as fresh produce, milk, or beverages, which customers purchase regularly\n",
        "\n",
        "On the other hand, departments like \"personal care,\" \"pantry,\" and \"international\" have the lowest reorder rates. These products might either be bought less frequently, last longer (e.g., non-perishable items), or cater to niche needs"
      ]
    },
    {
      "cell_type": "code",
      "execution_count": null,
      "metadata": {
        "id": "DpN9JynvB-5W",
        "outputId": "c48b12af-0da6-4715-cb59-0ed09e7b5326"
      },
      "outputs": [
        {
          "data": {
            "image/png": "[encoded data removed]",
            "text/plain": [
              "<Figure size 800x600 with 1 Axes>"
            ]
          },
          "metadata": {},
          "output_type": "display_data"
        }
      ],
      "source": [
        "plt.figure(figsize=(8, 6))\n",
        "sns.barplot(\n",
        "    x='order_dow',\n",
        "    y='reordered',\n",
        "    data=df,\n",
        "    errorbar=None,\n",
        "    hue='order_dow',\n",
        "    palette='viridis',\n",
        "    dodge=False\n",
        ")\n",
        "\n",
        "plt.title('Reorder Rate by Day of the Week')\n",
        "plt.xlabel('Day of Week (0 = Sunday)')\n",
        "plt.ylabel('Reorder Rate')\n",
        "\n",
        "\n",
        "plt.legend([], [], frameon=False)\n",
        "\n",
        "plt.show()"
      ]
    },
    {
      "cell_type": "markdown",
      "metadata": {
        "id": "Teg1dmtUB-5W"
      },
      "source": [
        "The day 1 is the one with the highest reorder rate, so is more likely the customers reorder product on Monday, maybe that means the customer trend to restocking groceries after the weekend, preparing for the week ahead. Marketing emails will be very effective on Sunday night, helping the sells the next day."
      ]
    },
    {
      "cell_type": "code",
      "execution_count": null,
      "metadata": {
        "id": "k9uHzI9uB-5W",
        "outputId": "063c345e-6b24-428b-d633-ed6ba82559ca"
      },
      "outputs": [
        {
          "data": {
            "image/png": "[encoded data removed]",
            "text/plain": [
              "<Figure size 800x600 with 1 Axes>"
            ]
          },
          "metadata": {},
          "output_type": "display_data"
        }
      ],
      "source": [
        "plt.figure(figsize=(8, 6))\n",
        "sns.histplot(data=df, x='add_to_cart_order', hue='reordered', kde=True, element=\"step\", palette='viridis')\n",
        "plt.title('Reorder Rate by Add-to-Cart Order')\n",
        "plt.xlabel('Add-to-Cart Position')\n",
        "plt.ylabel('Density')\n",
        "plt.show()\n"
      ]
    },
    {
      "cell_type": "markdown",
      "metadata": {
        "id": "5UI7bGZgB-5W"
      },
      "source": [
        "This plot shows that reorder a product is more likely on the first products added to the cart, that means the customers prioritize more regular purchased items because are part of their routines"
      ]
    },
    {
      "cell_type": "code",
      "execution_count": null,
      "metadata": {
        "id": "aAZ7_qGiB-5W",
        "outputId": "85fbe32e-3db7-46d0-d330-759aa630b5e8"
      },
      "outputs": [
        {
          "data": {
            "image/png": "[encoded data removed]",
            "text/plain": [
              "<Figure size 1000x600 with 2 Axes>"
            ]
          },
          "metadata": {},
          "output_type": "display_data"
        }
      ],
      "source": [
        "# Bin `add_to_cart_order` and `days_since_prior_order`\n",
        "df['cart_bin'] = pd.cut(df['add_to_cart_order'], bins=[0, 5, 10, 20, 50, 100], labels=['1-5', '6-10', '11-20', '21-50', '51+'])\n",
        "df['days_bin'] = pd.cut(df['days_since_prior_order'], bins=[0, 5, 10, 15, 20, 30], labels=['0-5', '6-10', '11-15', '16-20', '21+'])\n",
        "\n",
        "# Pivot table with observed=True to avoid FutureWarning\n",
        "heatmap_data = df.pivot_table(index='cart_bin', columns='days_bin', values='reordered', aggfunc='mean', observed=True)\n",
        "\n",
        "# Plot heatmap\n",
        "plt.figure(figsize=(10, 6))\n",
        "sns.heatmap(heatmap_data, annot=True, cmap='viridis', fmt=\".2f\", cbar_kws={'label': 'Reorder Likelihood'})\n",
        "plt.title('Reorder Rate by Cart Position and Days Since Prior Order')\n",
        "plt.xlabel('Days Since Prior Order')\n",
        "plt.ylabel('Cart Position Bin')\n",
        "plt.show()"
      ]
    },
    {
      "cell_type": "markdown",
      "metadata": {
        "id": "6rI7hVQUB-5X"
      },
      "source": [
        "With this heatmap for bins of cart position and days since prior order we can analyze that the products added first to the cart are reorder more quickly, that identify a pattern or essential products that needs to be replaced frequently"
      ]
    },
    {
      "cell_type": "code",
      "execution_count": null,
      "metadata": {
        "id": "mpfSjrwdB-5X",
        "outputId": "14ecd192-17c7-49fc-f6c9-ccad2c1f295c"
      },
      "outputs": [
        {
          "data": {
            "image/png": "[encoded data removed]",
            "text/plain": [
              "<Figure size 1200x800 with 2 Axes>"
            ]
          },
          "metadata": {},
          "output_type": "display_data"
        }
      ],
      "source": [
        "# Calculate percent of reorders and total purchases per department\n",
        "department_stats = df.groupby('department', observed=True).agg(\n",
        "    total_purchases=('reordered', 'size'),\n",
        "    reorder_percent=('reordered', 'mean')\n",
        ").reset_index()\n",
        "\n",
        "# Convert total purchases to thousands and apply log scale\n",
        "department_stats['log_purchases'] = np.log10(department_stats['total_purchases'] / 1000)\n",
        "\n",
        "# Scatter plot with department names as labels\n",
        "fig, ax = plt.subplots(figsize=(12, 8))\n",
        "scatter = ax.scatter(\n",
        "    x=department_stats['log_purchases'],\n",
        "    y=department_stats['reorder_percent'],\n",
        "    c=department_stats['total_purchases'],  # Color by total purchases\n",
        "    cmap='viridis',\n",
        "    alpha=0.8,\n",
        "    edgecolor='k'\n",
        ")\n",
        "\n",
        "# Add department labels\n",
        "for i, department in enumerate(department_stats['department']):\n",
        "    ax.text(\n",
        "        x=department_stats['log_purchases'].iloc[i],\n",
        "        y=department_stats['reorder_percent'].iloc[i],\n",
        "        s=department,\n",
        "        fontsize=8,\n",
        "        ha='right',  # Align text to the right\n",
        "        va='bottom'  # Align text slightly below the point\n",
        "    )\n",
        "\n",
        "# Add colorbar for purchases\n",
        "cbar = plt.colorbar(scatter, ax=ax)\n",
        "cbar.set_label('Total Purchases', fontsize=12)\n",
        "\n",
        "# Set title and axis labels\n",
        "ax.set_title('Reorder Percent vs Purchases (Log Scale) by Department', fontsize=14)\n",
        "ax.set_xlabel('Log Purchases (Thousands)', fontsize=12)\n",
        "ax.set_ylabel('Reorder Percent', fontsize=12)\n",
        "\n",
        "# Render plot locally\n",
        "plt.show()\n",
        "\n"
      ]
    },
    {
      "cell_type": "markdown",
      "metadata": {
        "id": "BJiH88EXB-5X"
      },
      "source": [
        "The previous scatter plot on the other hand shows that departments with a high reorder percent and large total purchases represent recurring, essential products.\n"
      ]
    },
    {
      "cell_type": "markdown",
      "metadata": {
        "id": "LKALnv9_B-5X"
      },
      "source": [
        "# Conclusions"
      ]
    },
    {
      "cell_type": "markdown",
      "metadata": {
        "id": "B2vuqkx3B-5X"
      },
      "source": [
        "The analysis of customer reorder behavior reveals important patterns that are crucial for understanding shopping habits and optimizing business strategies. The data demonstrates that **reorder likelihood** is significantly influenced by factors such as the timing of orders, the positioning of items in the cart, and the interval between purchases.\n",
        "\n",
        "**Implications for Business:**\n",
        "The insights derived from this analysis provide a solid foundation for building predictive models that classify products based on their reorder potential. Such models can drive personalized recommendations, targeted promotions, and better inventory management, ultimately enhancing customer loyalty and operational efficiency.\n"
      ]
    },
    {
      "cell_type": "markdown",
      "metadata": {
        "id": "OxDIQFNCB-5X"
      },
      "source": [
        "# References\n",
        "\n",
        "* jeremy stanley, Meg Risdal, sharathrao, and Will Cukierski. Instacart Market Basket Analysis. https://kaggle.com/competitions/instacart-market-basket-analysis, 2017. Kaggle."
      ]
    }
  ],
  "metadata": {
    "colab": {
      "provenance": []
    },
    "kernelspec": {
      "display_name": "venv",
      "language": "python",
      "name": "python3"
    },
    "language_info": {
      "codemirror_mode": {
        "name": "ipython",
        "version": 3
      },
      "file_extension": ".py",
      "mimetype": "text/x-python",
      "name": "python",
      "nbconvert_exporter": "python",
      "pygments_lexer": "ipython3",
      "version": "3.11.4"
    }
  },
  "nbformat": 4,
  "nbformat_minor": 0
}
