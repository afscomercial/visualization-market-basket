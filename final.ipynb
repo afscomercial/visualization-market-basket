{
  "cells": [
    {
      "cell_type": "code",
      "execution_count": null,
      "metadata": {
        "id": "PwXLn0Yd6hKC"
      },
      "outputs": [],
      "source": [
        "from scikeras.wrappers import KerasClassifier\n",
        "from sklearn.model_selection import GridSearchCV\n",
        "import numpy as np\n",
        "import pandas as pd\n",
        "from sklearn.model_selection import train_test_split\n",
        "from sklearn.preprocessing import StandardScaler\n",
        "from tensorflow.keras.models import Sequential\n",
        "from tensorflow.keras.layers import Dense, Dropout\n",
        "from tensorflow.keras.optimizers import Adam\n",
        "import matplotlib.pyplot as plt\n",
        "from sklearn.metrics import confusion_matrix, classification_report\n",
        "import seaborn as sns\n",
        "from sklearn.metrics import ConfusionMatrixDisplay"
      ]
    },
    {
      "cell_type": "code",
      "execution_count": null,
      "metadata": {
        "id": "ufkH-vFdjlCe"
      },
      "outputs": [],
      "source": [
        "df = pd.read_csv('noisy_sample_dataset.csv')"
      ]
    },
    {
      "cell_type": "markdown",
      "metadata": {
        "id": "wSEoTsXYjlCe"
      },
      "source": [
        "### Handling Missing Values"
      ]
    },
    {
      "cell_type": "code",
      "execution_count": null,
      "metadata": {
        "id": "rAMTvSivjlCg"
      },
      "outputs": [],
      "source": [
        "df['days_since_prior_order'] = df['days_since_prior_order'].fillna(0) # Assuming that this is their first order\n",
        "df['aisle_category'] = df['aisle_category'].fillna(df['aisle_category'].mode()[0]) # imputing with most frequent aisle category\n",
        "df['department'] = df['department'].fillna(df['department'].mode()[0]) # imputing with most frequent department category"
      ]
    },
    {
      "cell_type": "code",
      "execution_count": null,
      "metadata": {
        "id": "jq3rgzdvjlCh"
      },
      "outputs": [],
      "source": [
        "# export the cleaned data\n",
        "df.to_csv('data.csv', index=False)"
      ]
    },
    {
      "cell_type": "code",
      "execution_count": null,
      "metadata": {
        "id": "3QsjIHey6qTd"
      },
      "outputs": [],
      "source": [
        "df = pd.read_csv('data.csv')"
      ]
    },
    {
      "cell_type": "code",
      "execution_count": null,
      "metadata": {
        "colab": {
          "base_uri": "https://localhost:8080/"
        },
        "id": "2nR1JLPG62GH",
        "outputId": "4498eafc-eb8c-416b-fde0-d876b105d046"
      },
      "outputs": [
        {
          "name": "stdout",
          "output_type": "stream",
          "text": [
            "<class 'pandas.core.frame.DataFrame'>\n",
            "RangeIndex: 81086 entries, 0 to 81085\n",
            "Data columns (total 16 columns):\n",
            " #   Column                  Non-Null Count  Dtype  \n",
            "---  ------                  --------------  -----  \n",
            " 0   order_id                81086 non-null  int64  \n",
            " 1   product_id              81086 non-null  int64  \n",
            " 2   add_to_cart_order       81086 non-null  int64  \n",
            " 3   reordered               81086 non-null  int64  \n",
            " 4   user_id                 81086 non-null  int64  \n",
            " 5   eval_set                81086 non-null  object \n",
            " 6   order_number            81086 non-null  int64  \n",
            " 7   order_dow               81086 non-null  int64  \n",
            " 8   order_hour_of_day       81086 non-null  object \n",
            " 9   days_since_prior_order  81086 non-null  float64\n",
            " 10  product_name            81086 non-null  object \n",
            " 11  aisle_id                81086 non-null  int64  \n",
            " 12  department_id           81086 non-null  int64  \n",
            " 13  aisle                   81086 non-null  object \n",
            " 14  aisle_category          81086 non-null  object \n",
            " 15  department              81086 non-null  object \n",
            "dtypes: float64(1), int64(9), object(6)\n",
            "memory usage: 9.9+ MB\n"
          ]
        }
      ],
      "source": [
        "df.info()"
      ]
    },
    {
      "cell_type": "markdown",
      "metadata": {
        "id": "0xmEeroFjlCj"
      },
      "source": [
        "### PRE-PROCESSING"
      ]
    },
    {
      "cell_type": "code",
      "execution_count": null,
      "metadata": {
        "id": "PMDV_a3pjlCk"
      },
      "outputs": [],
      "source": [
        "# copy the data\n",
        "df_copy = df.copy()"
      ]
    },
    {
      "cell_type": "code",
      "execution_count": null,
      "metadata": {
        "colab": {
          "base_uri": "https://localhost:8080/",
          "height": 586
        },
        "id": "J5ABmA8a6_6J",
        "outputId": "539bc7c8-05c6-46eb-c200-9ca7759e3606"
      },
      "outputs": [
        {
          "data": {
            "text/plain": [
              "order_id                  0\n",
              "product_id                0\n",
              "add_to_cart_order         0\n",
              "reordered                 0\n",
              "user_id                   0\n",
              "eval_set                  0\n",
              "order_number              0\n",
              "order_dow                 0\n",
              "order_hour_of_day         0\n",
              "days_since_prior_order    0\n",
              "product_name              0\n",
              "aisle_id                  0\n",
              "department_id             0\n",
              "aisle                     0\n",
              "aisle_category            0\n",
              "department                0\n",
              "dtype: int64"
            ]
          },
          "execution_count": 19,
          "metadata": {},
          "output_type": "execute_result"
        }
      ],
      "source": [
        "df_copy.isnull().sum()"
      ]
    },
    {
      "cell_type": "code",
      "execution_count": null,
      "metadata": {
        "id": "PKKx7O7DjlCl",
        "outputId": "edb0b0c7-29e3-4234-eee5-52068439780e"
      },
      "outputs": [
        {
          "data": {
            "text/plain": [
              "order_id                  27066\n",
              "product_id                14611\n",
              "add_to_cart_order            71\n",
              "reordered                     2\n",
              "user_id                   54630\n",
              "eval_set                      1\n",
              "order_number                 99\n",
              "order_dow                     7\n",
              "order_hour_of_day            57\n",
              "days_since_prior_order       61\n",
              "product_name              14611\n",
              "aisle_id                    134\n",
              "department_id                21\n",
              "aisle                       134\n",
              "aisle_category                7\n",
              "department                   22\n",
              "dtype: int64"
            ]
          },
          "execution_count": 20,
          "metadata": {},
          "output_type": "execute_result"
        }
      ],
      "source": [
        "df_copy.nunique()"
      ]
    },
    {
      "cell_type": "code",
      "execution_count": null,
      "metadata": {
        "id": "_NYVLsxVjlCl"
      },
      "outputs": [],
      "source": [
        "df_copy = df_copy.drop(columns=['eval_set','department_id','user_id','product_id'])"
      ]
    },
    {
      "cell_type": "code",
      "execution_count": null,
      "metadata": {
        "id": "snU71Jj_jlCl"
      },
      "outputs": [],
      "source": [
        "df_copy['order_hour_of_day'] = pd.to_numeric(df_copy['order_hour_of_day'], errors='coerce')"
      ]
    },
    {
      "cell_type": "code",
      "execution_count": null,
      "metadata": {
        "id": "RgnNRpj8jlCm",
        "outputId": "8fa49409-e9c6-4634-dcd5-072f387dc649"
      },
      "outputs": [
        {
          "data": {
            "text/html": [
              "<div>\n",
              "<style scoped>\n",
              "    .dataframe tbody tr th:only-of-type {\n",
              "        vertical-align: middle;\n",
              "    }\n",
              "\n",
              "    .dataframe tbody tr th {\n",
              "        vertical-align: top;\n",
              "    }\n",
              "\n",
              "    .dataframe thead th {\n",
              "        text-align: right;\n",
              "    }\n",
              "</style>\n",
              "<table border=\"1\" class=\"dataframe\">\n",
              "  <thead>\n",
              "    <tr style=\"text-align: right;\">\n",
              "      <th></th>\n",
              "      <th>order_id</th>\n",
              "      <th>add_to_cart_order</th>\n",
              "      <th>reordered</th>\n",
              "      <th>order_number</th>\n",
              "      <th>order_dow</th>\n",
              "      <th>order_hour_of_day</th>\n",
              "      <th>days_since_prior_order</th>\n",
              "      <th>aisle_id</th>\n",
              "    </tr>\n",
              "  </thead>\n",
              "  <tbody>\n",
              "    <tr>\n",
              "      <th>0</th>\n",
              "      <td>133873</td>\n",
              "      <td>3</td>\n",
              "      <td>1</td>\n",
              "      <td>18</td>\n",
              "      <td>6</td>\n",
              "      <td>18.0</td>\n",
              "      <td>16.0</td>\n",
              "      <td>61</td>\n",
              "    </tr>\n",
              "    <tr>\n",
              "      <th>1</th>\n",
              "      <td>133874</td>\n",
              "      <td>2</td>\n",
              "      <td>0</td>\n",
              "      <td>3</td>\n",
              "      <td>0</td>\n",
              "      <td>11.0</td>\n",
              "      <td>3.0</td>\n",
              "      <td>88</td>\n",
              "    </tr>\n",
              "    <tr>\n",
              "      <th>2</th>\n",
              "      <td>133875</td>\n",
              "      <td>13</td>\n",
              "      <td>1</td>\n",
              "      <td>18</td>\n",
              "      <td>0</td>\n",
              "      <td>13.0</td>\n",
              "      <td>7.0</td>\n",
              "      <td>78</td>\n",
              "    </tr>\n",
              "    <tr>\n",
              "      <th>3</th>\n",
              "      <td>133875</td>\n",
              "      <td>2</td>\n",
              "      <td>0</td>\n",
              "      <td>6</td>\n",
              "      <td>0</td>\n",
              "      <td>13.0</td>\n",
              "      <td>6.0</td>\n",
              "      <td>16</td>\n",
              "    </tr>\n",
              "    <tr>\n",
              "      <th>4</th>\n",
              "      <td>133875</td>\n",
              "      <td>4</td>\n",
              "      <td>0</td>\n",
              "      <td>9</td>\n",
              "      <td>5</td>\n",
              "      <td>14.0</td>\n",
              "      <td>3.0</td>\n",
              "      <td>108</td>\n",
              "    </tr>\n",
              "    <tr>\n",
              "      <th>...</th>\n",
              "      <td>...</td>\n",
              "      <td>...</td>\n",
              "      <td>...</td>\n",
              "      <td>...</td>\n",
              "      <td>...</td>\n",
              "      <td>...</td>\n",
              "      <td>...</td>\n",
              "      <td>...</td>\n",
              "    </tr>\n",
              "    <tr>\n",
              "      <th>81081</th>\n",
              "      <td>160937</td>\n",
              "      <td>7</td>\n",
              "      <td>1</td>\n",
              "      <td>11</td>\n",
              "      <td>3</td>\n",
              "      <td>0.0</td>\n",
              "      <td>14.0</td>\n",
              "      <td>24</td>\n",
              "    </tr>\n",
              "    <tr>\n",
              "      <th>81082</th>\n",
              "      <td>160937</td>\n",
              "      <td>6</td>\n",
              "      <td>1</td>\n",
              "      <td>2</td>\n",
              "      <td>1</td>\n",
              "      <td>13.0</td>\n",
              "      <td>7.0</td>\n",
              "      <td>123</td>\n",
              "    </tr>\n",
              "    <tr>\n",
              "      <th>81083</th>\n",
              "      <td>160937</td>\n",
              "      <td>3</td>\n",
              "      <td>1</td>\n",
              "      <td>4</td>\n",
              "      <td>5</td>\n",
              "      <td>19.0</td>\n",
              "      <td>11.0</td>\n",
              "      <td>116</td>\n",
              "    </tr>\n",
              "    <tr>\n",
              "      <th>81084</th>\n",
              "      <td>160937</td>\n",
              "      <td>17</td>\n",
              "      <td>0</td>\n",
              "      <td>21</td>\n",
              "      <td>2</td>\n",
              "      <td>10.0</td>\n",
              "      <td>1.0</td>\n",
              "      <td>4</td>\n",
              "    </tr>\n",
              "    <tr>\n",
              "      <th>81085</th>\n",
              "      <td>160938</td>\n",
              "      <td>4</td>\n",
              "      <td>0</td>\n",
              "      <td>12</td>\n",
              "      <td>0</td>\n",
              "      <td>16.0</td>\n",
              "      <td>5.0</td>\n",
              "      <td>116</td>\n",
              "    </tr>\n",
              "  </tbody>\n",
              "</table>\n",
              "<p>81086 rows × 8 columns</p>\n",
              "</div>"
            ],
            "text/plain": [
              "       order_id  add_to_cart_order  reordered  order_number  order_dow  \\\n",
              "0        133873                  3          1            18          6   \n",
              "1        133874                  2          0             3          0   \n",
              "2        133875                 13          1            18          0   \n",
              "3        133875                  2          0             6          0   \n",
              "4        133875                  4          0             9          5   \n",
              "...         ...                ...        ...           ...        ...   \n",
              "81081    160937                  7          1            11          3   \n",
              "81082    160937                  6          1             2          1   \n",
              "81083    160937                  3          1             4          5   \n",
              "81084    160937                 17          0            21          2   \n",
              "81085    160938                  4          0            12          0   \n",
              "\n",
              "       order_hour_of_day  days_since_prior_order  aisle_id  \n",
              "0                   18.0                    16.0        61  \n",
              "1                   11.0                     3.0        88  \n",
              "2                   13.0                     7.0        78  \n",
              "3                   13.0                     6.0        16  \n",
              "4                   14.0                     3.0       108  \n",
              "...                  ...                     ...       ...  \n",
              "81081                0.0                    14.0        24  \n",
              "81082               13.0                     7.0       123  \n",
              "81083               19.0                    11.0       116  \n",
              "81084               10.0                     1.0         4  \n",
              "81085               16.0                     5.0       116  \n",
              "\n",
              "[81086 rows x 8 columns]"
            ]
          },
          "execution_count": 23,
          "metadata": {},
          "output_type": "execute_result"
        }
      ],
      "source": [
        "numerical_values = df_copy.select_dtypes(include=['int64','float64'])\n",
        "numerical_values"
      ]
    },
    {
      "cell_type": "code",
      "execution_count": null,
      "metadata": {
        "id": "LC9FRO8ljlCm",
        "outputId": "bcf8c6fe-56f5-4d16-99f2-a515afd14e92"
      },
      "outputs": [
        {
          "data": {
            "text/html": [
              "<div>\n",
              "<style scoped>\n",
              "    .dataframe tbody tr th:only-of-type {\n",
              "        vertical-align: middle;\n",
              "    }\n",
              "\n",
              "    .dataframe tbody tr th {\n",
              "        vertical-align: top;\n",
              "    }\n",
              "\n",
              "    .dataframe thead th {\n",
              "        text-align: right;\n",
              "    }\n",
              "</style>\n",
              "<table border=\"1\" class=\"dataframe\">\n",
              "  <thead>\n",
              "    <tr style=\"text-align: right;\">\n",
              "      <th></th>\n",
              "      <th>product_name</th>\n",
              "      <th>aisle</th>\n",
              "      <th>aisle_category</th>\n",
              "      <th>department</th>\n",
              "    </tr>\n",
              "  </thead>\n",
              "  <tbody>\n",
              "    <tr>\n",
              "      <th>0</th>\n",
              "      <td>Almond Cake</td>\n",
              "      <td>cookies cakes</td>\n",
              "      <td>Packaged Foods</td>\n",
              "      <td>snacks</td>\n",
              "    </tr>\n",
              "    <tr>\n",
              "      <th>1</th>\n",
              "      <td>Natural Honey Peanut Butter</td>\n",
              "      <td>spreads</td>\n",
              "      <td>Other</td>\n",
              "      <td>pantry</td>\n",
              "    </tr>\n",
              "    <tr>\n",
              "      <th>2</th>\n",
              "      <td>Whole Grain Sesame Rye Crisp Bread</td>\n",
              "      <td>crackers</td>\n",
              "      <td>Packaged Foods</td>\n",
              "      <td>snacks</td>\n",
              "    </tr>\n",
              "    <tr>\n",
              "      <th>3</th>\n",
              "      <td>Organic Cilantro</td>\n",
              "      <td>fresh herbs</td>\n",
              "      <td>Fresh Foods</td>\n",
              "      <td>produce</td>\n",
              "    </tr>\n",
              "    <tr>\n",
              "      <th>4</th>\n",
              "      <td>Part Skim Ricotta Cheese</td>\n",
              "      <td>other creams cheeses</td>\n",
              "      <td>Unknown</td>\n",
              "      <td>dairy eggs</td>\n",
              "    </tr>\n",
              "    <tr>\n",
              "      <th>...</th>\n",
              "      <td>...</td>\n",
              "      <td>...</td>\n",
              "      <td>...</td>\n",
              "      <td>...</td>\n",
              "    </tr>\n",
              "    <tr>\n",
              "      <th>81081</th>\n",
              "      <td>Organic Strawberries</td>\n",
              "      <td>fresh fruits</td>\n",
              "      <td>Fresh Foods</td>\n",
              "      <td>produce</td>\n",
              "    </tr>\n",
              "    <tr>\n",
              "      <th>81082</th>\n",
              "      <td>Stringless Sugar Snap Peas</td>\n",
              "      <td>packaged vegetables fruits</td>\n",
              "      <td>Packaged Foods</td>\n",
              "      <td>produce</td>\n",
              "    </tr>\n",
              "    <tr>\n",
              "      <th>81083</th>\n",
              "      <td>Berry Medley</td>\n",
              "      <td>frozen produce</td>\n",
              "      <td>Frozen &amp; Refrigerated Items</td>\n",
              "      <td>frozen</td>\n",
              "    </tr>\n",
              "    <tr>\n",
              "      <th>81084</th>\n",
              "      <td>Yakisoba Chicken Flavor Noodles</td>\n",
              "      <td>instant foods</td>\n",
              "      <td>Packaged Foods</td>\n",
              "      <td>dry goods pasta</td>\n",
              "    </tr>\n",
              "    <tr>\n",
              "      <th>81085</th>\n",
              "      <td>Frozen Broccoli Florets</td>\n",
              "      <td>frozen produce</td>\n",
              "      <td>Frozen &amp; Refrigerated Items</td>\n",
              "      <td>Unknown</td>\n",
              "    </tr>\n",
              "  </tbody>\n",
              "</table>\n",
              "<p>81086 rows × 4 columns</p>\n",
              "</div>"
            ],
            "text/plain": [
              "                             product_name                       aisle  \\\n",
              "0                             Almond Cake               cookies cakes   \n",
              "1             Natural Honey Peanut Butter                     spreads   \n",
              "2      Whole Grain Sesame Rye Crisp Bread                    crackers   \n",
              "3                        Organic Cilantro                 fresh herbs   \n",
              "4                Part Skim Ricotta Cheese        other creams cheeses   \n",
              "...                                   ...                         ...   \n",
              "81081                Organic Strawberries                fresh fruits   \n",
              "81082          Stringless Sugar Snap Peas  packaged vegetables fruits   \n",
              "81083                        Berry Medley              frozen produce   \n",
              "81084     Yakisoba Chicken Flavor Noodles               instant foods   \n",
              "81085             Frozen Broccoli Florets              frozen produce   \n",
              "\n",
              "                    aisle_category       department  \n",
              "0                   Packaged Foods           snacks  \n",
              "1                            Other           pantry  \n",
              "2                   Packaged Foods           snacks  \n",
              "3                      Fresh Foods          produce  \n",
              "4                          Unknown       dairy eggs  \n",
              "...                            ...              ...  \n",
              "81081                  Fresh Foods          produce  \n",
              "81082               Packaged Foods          produce  \n",
              "81083  Frozen & Refrigerated Items           frozen  \n",
              "81084               Packaged Foods  dry goods pasta  \n",
              "81085  Frozen & Refrigerated Items          Unknown  \n",
              "\n",
              "[81086 rows x 4 columns]"
            ]
          },
          "execution_count": 24,
          "metadata": {},
          "output_type": "execute_result"
        }
      ],
      "source": [
        "categorical_values = df_copy.select_dtypes(include=['object'])\n",
        "categorical_values"
      ]
    },
    {
      "cell_type": "code",
      "execution_count": null,
      "metadata": {
        "id": "bdnMUlWvjlCm"
      },
      "outputs": [],
      "source": [
        "from sklearn.preprocessing import LabelEncoder\n",
        "# label encoding aisle_category and department\n",
        "le = LabelEncoder()\n",
        "categorical_values['aisle_category'] = le.fit_transform(categorical_values['aisle_category'])\n",
        "categorical_values['department'] = le.fit_transform(categorical_values['department'])"
      ]
    },
    {
      "cell_type": "code",
      "execution_count": null,
      "metadata": {
        "id": "63mYftznjlCm"
      },
      "outputs": [],
      "source": [
        "aisle_enc = pd.get_dummies(categorical_values['aisle'], prefix='aisle', drop_first=True)"
      ]
    },
    {
      "cell_type": "code",
      "execution_count": null,
      "metadata": {
        "id": "lZt3SbH1jlCm"
      },
      "outputs": [],
      "source": [
        "# product_name has too many values , so frequency encoding suits best\n",
        "categorical_values['product_name_freq_enc'] = categorical_values['product_name'].map(categorical_values['product_name'].value_counts())\n",
        "\n",
        "# we are dropping the original product_name\n",
        "categorical_values = categorical_values.drop(columns=['product_name'])"
      ]
    },
    {
      "cell_type": "code",
      "execution_count": null,
      "metadata": {
        "id": "EpgYtAaBjlCn",
        "outputId": "7f42efd8-457c-4c6f-fe17-538648f0006e"
      },
      "outputs": [
        {
          "data": {
            "text/html": [
              "<div>\n",
              "<style scoped>\n",
              "    .dataframe tbody tr th:only-of-type {\n",
              "        vertical-align: middle;\n",
              "    }\n",
              "\n",
              "    .dataframe tbody tr th {\n",
              "        vertical-align: top;\n",
              "    }\n",
              "\n",
              "    .dataframe thead th {\n",
              "        text-align: right;\n",
              "    }\n",
              "</style>\n",
              "<table border=\"1\" class=\"dataframe\">\n",
              "  <thead>\n",
              "    <tr style=\"text-align: right;\">\n",
              "      <th></th>\n",
              "      <th>aisle_category</th>\n",
              "      <th>department</th>\n",
              "      <th>product_name_freq_enc</th>\n",
              "      <th>aisle_asian foods</th>\n",
              "      <th>aisle_baby accessories</th>\n",
              "      <th>aisle_baby bath body care</th>\n",
              "      <th>aisle_baby food formula</th>\n",
              "      <th>aisle_bakery desserts</th>\n",
              "      <th>aisle_baking ingredients</th>\n",
              "      <th>aisle_baking supplies decor</th>\n",
              "      <th>...</th>\n",
              "      <th>aisle_spreads</th>\n",
              "      <th>aisle_tea</th>\n",
              "      <th>aisle_tofu meat alternatives</th>\n",
              "      <th>aisle_tortillas flat bread</th>\n",
              "      <th>aisle_trail mix snack mix</th>\n",
              "      <th>aisle_trash bags liners</th>\n",
              "      <th>aisle_vitamins supplements</th>\n",
              "      <th>aisle_water seltzer sparkling water</th>\n",
              "      <th>aisle_white wines</th>\n",
              "      <th>aisle_yogurt</th>\n",
              "    </tr>\n",
              "  </thead>\n",
              "  <tbody>\n",
              "    <tr>\n",
              "      <th>0</th>\n",
              "      <td>5</td>\n",
              "      <td>21</td>\n",
              "      <td>1</td>\n",
              "      <td>False</td>\n",
              "      <td>False</td>\n",
              "      <td>False</td>\n",
              "      <td>False</td>\n",
              "      <td>False</td>\n",
              "      <td>False</td>\n",
              "      <td>False</td>\n",
              "      <td>...</td>\n",
              "      <td>False</td>\n",
              "      <td>False</td>\n",
              "      <td>False</td>\n",
              "      <td>False</td>\n",
              "      <td>False</td>\n",
              "      <td>False</td>\n",
              "      <td>False</td>\n",
              "      <td>False</td>\n",
              "      <td>False</td>\n",
              "      <td>False</td>\n",
              "    </tr>\n",
              "    <tr>\n",
              "      <th>1</th>\n",
              "      <td>4</td>\n",
              "      <td>17</td>\n",
              "      <td>2</td>\n",
              "      <td>False</td>\n",
              "      <td>False</td>\n",
              "      <td>False</td>\n",
              "      <td>False</td>\n",
              "      <td>False</td>\n",
              "      <td>False</td>\n",
              "      <td>False</td>\n",
              "      <td>...</td>\n",
              "      <td>True</td>\n",
              "      <td>False</td>\n",
              "      <td>False</td>\n",
              "      <td>False</td>\n",
              "      <td>False</td>\n",
              "      <td>False</td>\n",
              "      <td>False</td>\n",
              "      <td>False</td>\n",
              "      <td>False</td>\n",
              "      <td>False</td>\n",
              "    </tr>\n",
              "    <tr>\n",
              "      <th>2</th>\n",
              "      <td>5</td>\n",
              "      <td>21</td>\n",
              "      <td>1</td>\n",
              "      <td>False</td>\n",
              "      <td>False</td>\n",
              "      <td>False</td>\n",
              "      <td>False</td>\n",
              "      <td>False</td>\n",
              "      <td>False</td>\n",
              "      <td>False</td>\n",
              "      <td>...</td>\n",
              "      <td>False</td>\n",
              "      <td>False</td>\n",
              "      <td>False</td>\n",
              "      <td>False</td>\n",
              "      <td>False</td>\n",
              "      <td>False</td>\n",
              "      <td>False</td>\n",
              "      <td>False</td>\n",
              "      <td>False</td>\n",
              "      <td>False</td>\n",
              "    </tr>\n",
              "    <tr>\n",
              "      <th>3</th>\n",
              "      <td>1</td>\n",
              "      <td>20</td>\n",
              "      <td>196</td>\n",
              "      <td>False</td>\n",
              "      <td>False</td>\n",
              "      <td>False</td>\n",
              "      <td>False</td>\n",
              "      <td>False</td>\n",
              "      <td>False</td>\n",
              "      <td>False</td>\n",
              "      <td>...</td>\n",
              "      <td>False</td>\n",
              "      <td>False</td>\n",
              "      <td>False</td>\n",
              "      <td>False</td>\n",
              "      <td>False</td>\n",
              "      <td>False</td>\n",
              "      <td>False</td>\n",
              "      <td>False</td>\n",
              "      <td>False</td>\n",
              "      <td>False</td>\n",
              "    </tr>\n",
              "    <tr>\n",
              "      <th>4</th>\n",
              "      <td>6</td>\n",
              "      <td>8</td>\n",
              "      <td>15</td>\n",
              "      <td>False</td>\n",
              "      <td>False</td>\n",
              "      <td>False</td>\n",
              "      <td>False</td>\n",
              "      <td>False</td>\n",
              "      <td>False</td>\n",
              "      <td>False</td>\n",
              "      <td>...</td>\n",
              "      <td>False</td>\n",
              "      <td>False</td>\n",
              "      <td>False</td>\n",
              "      <td>False</td>\n",
              "      <td>False</td>\n",
              "      <td>False</td>\n",
              "      <td>False</td>\n",
              "      <td>False</td>\n",
              "      <td>False</td>\n",
              "      <td>False</td>\n",
              "    </tr>\n",
              "    <tr>\n",
              "      <th>...</th>\n",
              "      <td>...</td>\n",
              "      <td>...</td>\n",
              "      <td>...</td>\n",
              "      <td>...</td>\n",
              "      <td>...</td>\n",
              "      <td>...</td>\n",
              "      <td>...</td>\n",
              "      <td>...</td>\n",
              "      <td>...</td>\n",
              "      <td>...</td>\n",
              "      <td>...</td>\n",
              "      <td>...</td>\n",
              "      <td>...</td>\n",
              "      <td>...</td>\n",
              "      <td>...</td>\n",
              "      <td>...</td>\n",
              "      <td>...</td>\n",
              "      <td>...</td>\n",
              "      <td>...</td>\n",
              "      <td>...</td>\n",
              "      <td>...</td>\n",
              "    </tr>\n",
              "    <tr>\n",
              "      <th>81081</th>\n",
              "      <td>1</td>\n",
              "      <td>20</td>\n",
              "      <td>701</td>\n",
              "      <td>False</td>\n",
              "      <td>False</td>\n",
              "      <td>False</td>\n",
              "      <td>False</td>\n",
              "      <td>False</td>\n",
              "      <td>False</td>\n",
              "      <td>False</td>\n",
              "      <td>...</td>\n",
              "      <td>False</td>\n",
              "      <td>False</td>\n",
              "      <td>False</td>\n",
              "      <td>False</td>\n",
              "      <td>False</td>\n",
              "      <td>False</td>\n",
              "      <td>False</td>\n",
              "      <td>False</td>\n",
              "      <td>False</td>\n",
              "      <td>False</td>\n",
              "    </tr>\n",
              "    <tr>\n",
              "      <th>81082</th>\n",
              "      <td>5</td>\n",
              "      <td>20</td>\n",
              "      <td>15</td>\n",
              "      <td>False</td>\n",
              "      <td>False</td>\n",
              "      <td>False</td>\n",
              "      <td>False</td>\n",
              "      <td>False</td>\n",
              "      <td>False</td>\n",
              "      <td>False</td>\n",
              "      <td>...</td>\n",
              "      <td>False</td>\n",
              "      <td>False</td>\n",
              "      <td>False</td>\n",
              "      <td>False</td>\n",
              "      <td>False</td>\n",
              "      <td>False</td>\n",
              "      <td>False</td>\n",
              "      <td>False</td>\n",
              "      <td>False</td>\n",
              "      <td>False</td>\n",
              "    </tr>\n",
              "    <tr>\n",
              "      <th>81083</th>\n",
              "      <td>2</td>\n",
              "      <td>11</td>\n",
              "      <td>35</td>\n",
              "      <td>False</td>\n",
              "      <td>False</td>\n",
              "      <td>False</td>\n",
              "      <td>False</td>\n",
              "      <td>False</td>\n",
              "      <td>False</td>\n",
              "      <td>False</td>\n",
              "      <td>...</td>\n",
              "      <td>False</td>\n",
              "      <td>False</td>\n",
              "      <td>False</td>\n",
              "      <td>False</td>\n",
              "      <td>False</td>\n",
              "      <td>False</td>\n",
              "      <td>False</td>\n",
              "      <td>False</td>\n",
              "      <td>False</td>\n",
              "      <td>False</td>\n",
              "    </tr>\n",
              "    <tr>\n",
              "      <th>81084</th>\n",
              "      <td>5</td>\n",
              "      <td>10</td>\n",
              "      <td>1</td>\n",
              "      <td>False</td>\n",
              "      <td>False</td>\n",
              "      <td>False</td>\n",
              "      <td>False</td>\n",
              "      <td>False</td>\n",
              "      <td>False</td>\n",
              "      <td>False</td>\n",
              "      <td>...</td>\n",
              "      <td>False</td>\n",
              "      <td>False</td>\n",
              "      <td>False</td>\n",
              "      <td>False</td>\n",
              "      <td>False</td>\n",
              "      <td>False</td>\n",
              "      <td>False</td>\n",
              "      <td>False</td>\n",
              "      <td>False</td>\n",
              "      <td>False</td>\n",
              "    </tr>\n",
              "    <tr>\n",
              "      <th>81085</th>\n",
              "      <td>2</td>\n",
              "      <td>0</td>\n",
              "      <td>40</td>\n",
              "      <td>False</td>\n",
              "      <td>False</td>\n",
              "      <td>False</td>\n",
              "      <td>False</td>\n",
              "      <td>False</td>\n",
              "      <td>False</td>\n",
              "      <td>False</td>\n",
              "      <td>...</td>\n",
              "      <td>False</td>\n",
              "      <td>False</td>\n",
              "      <td>False</td>\n",
              "      <td>False</td>\n",
              "      <td>False</td>\n",
              "      <td>False</td>\n",
              "      <td>False</td>\n",
              "      <td>False</td>\n",
              "      <td>False</td>\n",
              "      <td>False</td>\n",
              "    </tr>\n",
              "  </tbody>\n",
              "</table>\n",
              "<p>81086 rows × 136 columns</p>\n",
              "</div>"
            ],
            "text/plain": [
              "       aisle_category  department  product_name_freq_enc  aisle_asian foods  \\\n",
              "0                   5          21                      1              False   \n",
              "1                   4          17                      2              False   \n",
              "2                   5          21                      1              False   \n",
              "3                   1          20                    196              False   \n",
              "4                   6           8                     15              False   \n",
              "...               ...         ...                    ...                ...   \n",
              "81081               1          20                    701              False   \n",
              "81082               5          20                     15              False   \n",
              "81083               2          11                     35              False   \n",
              "81084               5          10                      1              False   \n",
              "81085               2           0                     40              False   \n",
              "\n",
              "       aisle_baby accessories  aisle_baby bath body care  \\\n",
              "0                       False                      False   \n",
              "1                       False                      False   \n",
              "2                       False                      False   \n",
              "3                       False                      False   \n",
              "4                       False                      False   \n",
              "...                       ...                        ...   \n",
              "81081                   False                      False   \n",
              "81082                   False                      False   \n",
              "81083                   False                      False   \n",
              "81084                   False                      False   \n",
              "81085                   False                      False   \n",
              "\n",
              "       aisle_baby food formula  aisle_bakery desserts  \\\n",
              "0                        False                  False   \n",
              "1                        False                  False   \n",
              "2                        False                  False   \n",
              "3                        False                  False   \n",
              "4                        False                  False   \n",
              "...                        ...                    ...   \n",
              "81081                    False                  False   \n",
              "81082                    False                  False   \n",
              "81083                    False                  False   \n",
              "81084                    False                  False   \n",
              "81085                    False                  False   \n",
              "\n",
              "       aisle_baking ingredients  aisle_baking supplies decor  ...  \\\n",
              "0                         False                        False  ...   \n",
              "1                         False                        False  ...   \n",
              "2                         False                        False  ...   \n",
              "3                         False                        False  ...   \n",
              "4                         False                        False  ...   \n",
              "...                         ...                          ...  ...   \n",
              "81081                     False                        False  ...   \n",
              "81082                     False                        False  ...   \n",
              "81083                     False                        False  ...   \n",
              "81084                     False                        False  ...   \n",
              "81085                     False                        False  ...   \n",
              "\n",
              "       aisle_spreads  aisle_tea  aisle_tofu meat alternatives  \\\n",
              "0              False      False                         False   \n",
              "1               True      False                         False   \n",
              "2              False      False                         False   \n",
              "3              False      False                         False   \n",
              "4              False      False                         False   \n",
              "...              ...        ...                           ...   \n",
              "81081          False      False                         False   \n",
              "81082          False      False                         False   \n",
              "81083          False      False                         False   \n",
              "81084          False      False                         False   \n",
              "81085          False      False                         False   \n",
              "\n",
              "       aisle_tortillas flat bread  aisle_trail mix snack mix  \\\n",
              "0                           False                      False   \n",
              "1                           False                      False   \n",
              "2                           False                      False   \n",
              "3                           False                      False   \n",
              "4                           False                      False   \n",
              "...                           ...                        ...   \n",
              "81081                       False                      False   \n",
              "81082                       False                      False   \n",
              "81083                       False                      False   \n",
              "81084                       False                      False   \n",
              "81085                       False                      False   \n",
              "\n",
              "       aisle_trash bags liners  aisle_vitamins supplements  \\\n",
              "0                        False                       False   \n",
              "1                        False                       False   \n",
              "2                        False                       False   \n",
              "3                        False                       False   \n",
              "4                        False                       False   \n",
              "...                        ...                         ...   \n",
              "81081                    False                       False   \n",
              "81082                    False                       False   \n",
              "81083                    False                       False   \n",
              "81084                    False                       False   \n",
              "81085                    False                       False   \n",
              "\n",
              "       aisle_water seltzer sparkling water  aisle_white wines  aisle_yogurt  \n",
              "0                                    False              False         False  \n",
              "1                                    False              False         False  \n",
              "2                                    False              False         False  \n",
              "3                                    False              False         False  \n",
              "4                                    False              False         False  \n",
              "...                                    ...                ...           ...  \n",
              "81081                                False              False         False  \n",
              "81082                                False              False         False  \n",
              "81083                                False              False         False  \n",
              "81084                                False              False         False  \n",
              "81085                                False              False         False  \n",
              "\n",
              "[81086 rows x 136 columns]"
            ]
          },
          "execution_count": 28,
          "metadata": {},
          "output_type": "execute_result"
        }
      ],
      "source": [
        "# droping the aisle as we have aisle_enc\n",
        "categorical_values = categorical_values.drop(columns=['aisle'])\n",
        "\n",
        "# here we are concatenating all the encoded columns\n",
        "categorical_values_enc = pd.concat([categorical_values, aisle_enc], axis=1)\n",
        "categorical_values_enc"
      ]
    },
    {
      "cell_type": "code",
      "execution_count": null,
      "metadata": {
        "id": "Y-1CJEqsjlCn",
        "outputId": "ca03036e-da5e-4992-a751-59354f15eab2"
      },
      "outputs": [
        {
          "data": {
            "text/html": [
              "<div>\n",
              "<style scoped>\n",
              "    .dataframe tbody tr th:only-of-type {\n",
              "        vertical-align: middle;\n",
              "    }\n",
              "\n",
              "    .dataframe tbody tr th {\n",
              "        vertical-align: top;\n",
              "    }\n",
              "\n",
              "    .dataframe thead th {\n",
              "        text-align: right;\n",
              "    }\n",
              "</style>\n",
              "<table border=\"1\" class=\"dataframe\">\n",
              "  <thead>\n",
              "    <tr style=\"text-align: right;\">\n",
              "      <th></th>\n",
              "      <th>aisle_category</th>\n",
              "      <th>department</th>\n",
              "      <th>product_name_freq_enc</th>\n",
              "      <th>aisle_asian foods</th>\n",
              "      <th>aisle_baby accessories</th>\n",
              "      <th>aisle_baby bath body care</th>\n",
              "      <th>aisle_baby food formula</th>\n",
              "      <th>aisle_bakery desserts</th>\n",
              "      <th>aisle_baking ingredients</th>\n",
              "      <th>aisle_baking supplies decor</th>\n",
              "      <th>...</th>\n",
              "      <th>aisle_spreads</th>\n",
              "      <th>aisle_tea</th>\n",
              "      <th>aisle_tofu meat alternatives</th>\n",
              "      <th>aisle_tortillas flat bread</th>\n",
              "      <th>aisle_trail mix snack mix</th>\n",
              "      <th>aisle_trash bags liners</th>\n",
              "      <th>aisle_vitamins supplements</th>\n",
              "      <th>aisle_water seltzer sparkling water</th>\n",
              "      <th>aisle_white wines</th>\n",
              "      <th>aisle_yogurt</th>\n",
              "    </tr>\n",
              "  </thead>\n",
              "  <tbody>\n",
              "    <tr>\n",
              "      <th>0</th>\n",
              "      <td>5</td>\n",
              "      <td>21</td>\n",
              "      <td>1</td>\n",
              "      <td>0</td>\n",
              "      <td>0</td>\n",
              "      <td>0</td>\n",
              "      <td>0</td>\n",
              "      <td>0</td>\n",
              "      <td>0</td>\n",
              "      <td>0</td>\n",
              "      <td>...</td>\n",
              "      <td>0</td>\n",
              "      <td>0</td>\n",
              "      <td>0</td>\n",
              "      <td>0</td>\n",
              "      <td>0</td>\n",
              "      <td>0</td>\n",
              "      <td>0</td>\n",
              "      <td>0</td>\n",
              "      <td>0</td>\n",
              "      <td>0</td>\n",
              "    </tr>\n",
              "    <tr>\n",
              "      <th>1</th>\n",
              "      <td>4</td>\n",
              "      <td>17</td>\n",
              "      <td>2</td>\n",
              "      <td>0</td>\n",
              "      <td>0</td>\n",
              "      <td>0</td>\n",
              "      <td>0</td>\n",
              "      <td>0</td>\n",
              "      <td>0</td>\n",
              "      <td>0</td>\n",
              "      <td>...</td>\n",
              "      <td>1</td>\n",
              "      <td>0</td>\n",
              "      <td>0</td>\n",
              "      <td>0</td>\n",
              "      <td>0</td>\n",
              "      <td>0</td>\n",
              "      <td>0</td>\n",
              "      <td>0</td>\n",
              "      <td>0</td>\n",
              "      <td>0</td>\n",
              "    </tr>\n",
              "    <tr>\n",
              "      <th>2</th>\n",
              "      <td>5</td>\n",
              "      <td>21</td>\n",
              "      <td>1</td>\n",
              "      <td>0</td>\n",
              "      <td>0</td>\n",
              "      <td>0</td>\n",
              "      <td>0</td>\n",
              "      <td>0</td>\n",
              "      <td>0</td>\n",
              "      <td>0</td>\n",
              "      <td>...</td>\n",
              "      <td>0</td>\n",
              "      <td>0</td>\n",
              "      <td>0</td>\n",
              "      <td>0</td>\n",
              "      <td>0</td>\n",
              "      <td>0</td>\n",
              "      <td>0</td>\n",
              "      <td>0</td>\n",
              "      <td>0</td>\n",
              "      <td>0</td>\n",
              "    </tr>\n",
              "    <tr>\n",
              "      <th>3</th>\n",
              "      <td>1</td>\n",
              "      <td>20</td>\n",
              "      <td>196</td>\n",
              "      <td>0</td>\n",
              "      <td>0</td>\n",
              "      <td>0</td>\n",
              "      <td>0</td>\n",
              "      <td>0</td>\n",
              "      <td>0</td>\n",
              "      <td>0</td>\n",
              "      <td>...</td>\n",
              "      <td>0</td>\n",
              "      <td>0</td>\n",
              "      <td>0</td>\n",
              "      <td>0</td>\n",
              "      <td>0</td>\n",
              "      <td>0</td>\n",
              "      <td>0</td>\n",
              "      <td>0</td>\n",
              "      <td>0</td>\n",
              "      <td>0</td>\n",
              "    </tr>\n",
              "    <tr>\n",
              "      <th>4</th>\n",
              "      <td>6</td>\n",
              "      <td>8</td>\n",
              "      <td>15</td>\n",
              "      <td>0</td>\n",
              "      <td>0</td>\n",
              "      <td>0</td>\n",
              "      <td>0</td>\n",
              "      <td>0</td>\n",
              "      <td>0</td>\n",
              "      <td>0</td>\n",
              "      <td>...</td>\n",
              "      <td>0</td>\n",
              "      <td>0</td>\n",
              "      <td>0</td>\n",
              "      <td>0</td>\n",
              "      <td>0</td>\n",
              "      <td>0</td>\n",
              "      <td>0</td>\n",
              "      <td>0</td>\n",
              "      <td>0</td>\n",
              "      <td>0</td>\n",
              "    </tr>\n",
              "  </tbody>\n",
              "</table>\n",
              "<p>5 rows × 136 columns</p>\n",
              "</div>"
            ],
            "text/plain": [
              "   aisle_category  department  product_name_freq_enc  aisle_asian foods  \\\n",
              "0               5          21                      1                  0   \n",
              "1               4          17                      2                  0   \n",
              "2               5          21                      1                  0   \n",
              "3               1          20                    196                  0   \n",
              "4               6           8                     15                  0   \n",
              "\n",
              "   aisle_baby accessories  aisle_baby bath body care  aisle_baby food formula  \\\n",
              "0                       0                          0                        0   \n",
              "1                       0                          0                        0   \n",
              "2                       0                          0                        0   \n",
              "3                       0                          0                        0   \n",
              "4                       0                          0                        0   \n",
              "\n",
              "   aisle_bakery desserts  aisle_baking ingredients  \\\n",
              "0                      0                         0   \n",
              "1                      0                         0   \n",
              "2                      0                         0   \n",
              "3                      0                         0   \n",
              "4                      0                         0   \n",
              "\n",
              "   aisle_baking supplies decor  ...  aisle_spreads  aisle_tea  \\\n",
              "0                            0  ...              0          0   \n",
              "1                            0  ...              1          0   \n",
              "2                            0  ...              0          0   \n",
              "3                            0  ...              0          0   \n",
              "4                            0  ...              0          0   \n",
              "\n",
              "   aisle_tofu meat alternatives  aisle_tortillas flat bread  \\\n",
              "0                             0                           0   \n",
              "1                             0                           0   \n",
              "2                             0                           0   \n",
              "3                             0                           0   \n",
              "4                             0                           0   \n",
              "\n",
              "   aisle_trail mix snack mix  aisle_trash bags liners  \\\n",
              "0                          0                        0   \n",
              "1                          0                        0   \n",
              "2                          0                        0   \n",
              "3                          0                        0   \n",
              "4                          0                        0   \n",
              "\n",
              "   aisle_vitamins supplements  aisle_water seltzer sparkling water  \\\n",
              "0                           0                                    0   \n",
              "1                           0                                    0   \n",
              "2                           0                                    0   \n",
              "3                           0                                    0   \n",
              "4                           0                                    0   \n",
              "\n",
              "   aisle_white wines  aisle_yogurt  \n",
              "0                  0             0  \n",
              "1                  0             0  \n",
              "2                  0             0  \n",
              "3                  0             0  \n",
              "4                  0             0  \n",
              "\n",
              "[5 rows x 136 columns]"
            ]
          },
          "execution_count": 29,
          "metadata": {},
          "output_type": "execute_result"
        }
      ],
      "source": [
        "# convertign the df into sparseformat\n",
        "categorical_values_enc_sparsed = categorical_values_enc.astype(pd.SparseDtype(\"int\", fill_value=0))\n",
        "\n",
        "# checking teh results\n",
        "categorical_values_enc_sparsed.head()\n"
      ]
    },
    {
      "cell_type": "code",
      "execution_count": null,
      "metadata": {
        "id": "xOVlXx4ijlCn"
      },
      "outputs": [],
      "source": [
        "# aliginign the index\n",
        "categorical_values_enc_sparsed.reset_index(drop=True, inplace=True)\n",
        "numerical_values.reset_index(drop=True, inplace=True)"
      ]
    },
    {
      "cell_type": "code",
      "execution_count": null,
      "metadata": {
        "id": "f7ac5IPejlCn"
      },
      "outputs": [],
      "source": [
        "# numerical and catergorical values concatinantion\n",
        "cat_num_merged = pd.concat([categorical_values_enc_sparsed, numerical_values], axis=1)"
      ]
    },
    {
      "cell_type": "markdown",
      "metadata": {
        "id": "EqGh7m8cjlCn"
      },
      "source": [
        "### VISUALIZATIONS"
      ]
    },
    {
      "cell_type": "code",
      "execution_count": null,
      "metadata": {
        "id": "4oof9RSkjlCn",
        "outputId": "e46a59e2-deb5-4029-f012-4226b094915f"
      },
      "outputs": [
        {
          "data": {
            "image/png": "[encoded data removed]",
            "text/plain": [
              "<Figure size 800x600 with 1 Axes>"
            ]
          },
          "metadata": {},
          "output_type": "display_data"
        }
      ],
      "source": [
        "# Calculate proportions\n",
        "reordered_counts = df['reordered'].value_counts()\n",
        "reordered_labels = ['Not Reordered', 'Reordered']\n",
        "\n",
        "# Plot\n",
        "plt.figure(figsize=(8, 6))\n",
        "plt.pie(\n",
        "    reordered_counts,\n",
        "    labels=reordered_labels,\n",
        "    autopct='%1.1f%%',  # Show percentages\n",
        "    startangle=140,  # Rotate for better view\n",
        "    colors=['skyblue', 'salmon']  # Distinct colors\n",
        ")\n",
        "plt.title('Proportion of Reordered vs. Not Reordered Products')\n",
        "plt.show()"
      ]
    },
    {
      "cell_type": "markdown",
      "metadata": {
        "id": "rqH88V_VjlCn"
      },
      "source": [
        "The  not reorder percentage is greater than the reordered, it means that the majority of products are purchased only once, maybe because are less essential for the customers"
      ]
    },
    {
      "cell_type": "code",
      "execution_count": null,
      "metadata": {
        "id": "Yv-7fd5yjlCo",
        "outputId": "b1863f35-2b0d-4e19-f89c-7964ec98e370"
      },
      "outputs": [
        {
          "data": {
            "image/png": "[encoded data removed]",
            "text/plain": [
              "<Figure size 1000x600 with 1 Axes>"
            ]
          },
          "metadata": {},
          "output_type": "display_data"
        }
      ],
      "source": [
        "# Aggregate reorder rates by department with observed=True\n",
        "dept_reorder = (\n",
        "    df.groupby('department', observed=True)['reordered']\n",
        "    .mean()\n",
        "    .sort_values(ascending=False)\n",
        ")\n",
        "\n",
        "# Plot\n",
        "plt.figure(figsize=(10, 6))\n",
        "dept_reorder.plot(kind='bar', color=plt.cm.tab20.colors)\n",
        "plt.title('Reorder Rate by Department')\n",
        "plt.xlabel('Department')\n",
        "plt.ylabel('Reorder Rate')\n",
        "plt.xticks(rotation=45)\n",
        "plt.show()"
      ]
    },
    {
      "cell_type": "markdown",
      "metadata": {
        "id": "oQZbH9E-jlCo"
      },
      "source": [
        "We can see that \"Dairy & Eggs\" are a basic prod in the households and have the highest reorder rate"
      ]
    },
    {
      "cell_type": "code",
      "execution_count": null,
      "metadata": {
        "id": "Fr3DMKqLjlCo",
        "outputId": "b5af8e10-9400-48a3-d66e-bc5f21c32a01"
      },
      "outputs": [
        {
          "data": {
            "image/png": "[encoded data removed]",
            "text/plain": [
              "<Figure size 800x600 with 1 Axes>"
            ]
          },
          "metadata": {},
          "output_type": "display_data"
        }
      ],
      "source": [
        "plt.figure(figsize=(8, 6))\n",
        "sns.barplot(\n",
        "    x='order_dow',\n",
        "    y='reordered',\n",
        "    data=df,\n",
        "    errorbar=None,\n",
        "    hue='order_dow',\n",
        "    palette='viridis',\n",
        "    dodge=False\n",
        ")\n",
        "\n",
        "plt.title('Reorder Rate by Day of the Week')\n",
        "plt.xlabel('Day of Week (0 = Sunday)')\n",
        "plt.ylabel('Reorder Rate')\n",
        "\n",
        "\n",
        "plt.legend([], [], frameon=False)\n",
        "\n",
        "plt.show()"
      ]
    },
    {
      "cell_type": "markdown",
      "metadata": {
        "id": "IK6tbxEwjlCo"
      },
      "source": [
        "The day 1 is the one with the highest reorder rate, so is more likely the customers reorder product on Monday, maybe that means the customer trend to restocking groceries after the weekend, preparing for the week ahead. Marketing emails will be very effective on Sunday night, helping the sells the next day."
      ]
    },
    {
      "cell_type": "code",
      "execution_count": null,
      "metadata": {
        "id": "Zznpe814jlCo",
        "outputId": "dba698c9-7ea8-42d2-8531-0cfeb15fba76"
      },
      "outputs": [
        {
          "data": {
            "image/png": "[encoded data removed]",
            "text/plain": [
              "<Figure size 800x600 with 1 Axes>"
            ]
          },
          "metadata": {},
          "output_type": "display_data"
        }
      ],
      "source": [
        "plt.figure(figsize=(8, 6))\n",
        "sns.histplot(data=df, x='add_to_cart_order', hue='reordered', kde=True, element=\"step\", palette='viridis')\n",
        "plt.title('Reorder Rate by Add-to-Cart Order')\n",
        "plt.xlabel('Add-to-Cart Position')\n",
        "plt.ylabel('Density')\n",
        "plt.show()"
      ]
    },
    {
      "cell_type": "markdown",
      "metadata": {
        "id": "OdrMyef3jlCo"
      },
      "source": [
        "This plot shows that reorder a product is more likely on the first products added to the cart, that means the customers prioritize more regular purchased items because are part of their routines"
      ]
    },
    {
      "cell_type": "code",
      "execution_count": null,
      "metadata": {
        "id": "ihWWGxNdjlCp",
        "outputId": "98412cec-0bc7-4d14-a3f2-6aae4ec7a1d3"
      },
      "outputs": [
        {
          "data": {
            "image/png": "[encoded data removed]",
            "text/plain": [
              "<Figure size 1000x600 with 2 Axes>"
            ]
          },
          "metadata": {},
          "output_type": "display_data"
        }
      ],
      "source": [
        "# Bin `add_to_cart_order` and `days_since_prior_order`\n",
        "df['cart_bin'] = pd.cut(df['add_to_cart_order'], bins=[0, 5, 10, 20, 50, 100], labels=['1-5', '6-10', '11-20', '21-50', '51+'])\n",
        "df['days_bin'] = pd.cut(df['days_since_prior_order'], bins=[0, 5, 10, 15, 20, 30], labels=['0-5', '6-10', '11-15', '16-20', '21+'])\n",
        "\n",
        "# Pivot table with observed=True to avoid FutureWarning\n",
        "heatmap_data = df.pivot_table(index='cart_bin', columns='days_bin', values='reordered', aggfunc='mean', observed=True)\n",
        "\n",
        "# Plot heatmap\n",
        "plt.figure(figsize=(10, 6))\n",
        "sns.heatmap(heatmap_data, annot=True, cmap='viridis', fmt=\".2f\", cbar_kws={'label': 'Reorder Likelihood'})\n",
        "plt.title('Reorder Rate by Cart Position and Days Since Prior Order')\n",
        "plt.xlabel('Days Since Prior Order')\n",
        "plt.ylabel('Cart Position Bin')\n",
        "plt.show()"
      ]
    },
    {
      "cell_type": "markdown",
      "metadata": {
        "id": "RIh-aWfwjlCp"
      },
      "source": [
        "with this heatmap for bins of cart position and days since prior order we can analyze that the products added first to the cart are reorder more quickly, that identify a pattern or essential products that needs to be replaced frequently"
      ]
    },
    {
      "cell_type": "markdown",
      "metadata": {
        "id": "JoEuVSwxjlCp"
      },
      "source": [
        "### ASSOCIATION RULES"
      ]
    },
    {
      "cell_type": "code",
      "execution_count": null,
      "metadata": {
        "id": "YX1up1nIjlCp"
      },
      "outputs": [],
      "source": [
        "# association rule mining\n",
        "basket_data = df[['order_id', 'aisle_category']]"
      ]
    },
    {
      "cell_type": "markdown",
      "metadata": {
        "id": "mlfElvrajlCq"
      },
      "source": [
        "We try to analyze which aisle category are frequently purchased together in the cart transactions"
      ]
    },
    {
      "cell_type": "code",
      "execution_count": null,
      "metadata": {
        "id": "IoahKmMsjlCq"
      },
      "outputs": [],
      "source": [
        "basket_data = basket_data.drop_duplicates()\n",
        "basket_data = basket_data[basket_data['aisle_category'] != 'Unknown']\n"
      ]
    },
    {
      "cell_type": "code",
      "execution_count": null,
      "metadata": {
        "id": "fbydqYzVjlCq"
      },
      "outputs": [],
      "source": [
        "# Create a pivot table\n",
        "basket = basket_data.pivot_table(index='order_id', columns='aisle_category', aggfunc='size', fill_value=0)\n"
      ]
    },
    {
      "cell_type": "code",
      "execution_count": null,
      "metadata": {
        "id": "UrjydFeSjlCq",
        "outputId": "0f635cdb-f31d-410b-d9a8-3c95e5b6bd17"
      },
      "outputs": [
        {
          "name": "stderr",
          "output_type": "stream",
          "text": [
            "/var/folders/8b/gvyhprgn3t764q19dkq1gt2c0000gp/T/ipykernel_95872/3603850989.py:2: FutureWarning: DataFrame.applymap has been deprecated. Use DataFrame.map instead.\n",
            "  basket = basket.applymap(lambda x: 1 if x > 0 else 0)\n"
          ]
        }
      ],
      "source": [
        "# Convert quantities to 1 and 0\n",
        "basket = basket.applymap(lambda x: 1 if x > 0 else 0)"
      ]
    },
    {
      "cell_type": "code",
      "execution_count": null,
      "metadata": {
        "id": "kbTTpdwBjlCt"
      },
      "outputs": [],
      "source": [
        "from mlxtend.frequent_patterns import apriori\n",
        "\n",
        "basket_bool = basket.astype(bool)\n",
        "\n",
        "# Generate frequent itemsets\n",
        "frequent_itemsets = apriori(basket_bool, min_support=0.005, use_colnames=True)\n",
        "\n"
      ]
    },
    {
      "cell_type": "code",
      "execution_count": null,
      "metadata": {
        "id": "jnqTDM5ejlCu",
        "outputId": "88067d95-50d1-4f33-f158-3970a48ad0ba"
      },
      "outputs": [
        {
          "data": {
            "image/png": "[encoded data removed]",
            "text/plain": [
              "<Figure size 1000x600 with 1 Axes>"
            ]
          },
          "metadata": {},
          "output_type": "display_data"
        }
      ],
      "source": [
        "top_frequent_itemsets = frequent_itemsets.sort_values(by='support', ascending=False).head(10)\n",
        "\n",
        "# Plot\n",
        "plt.figure(figsize=(10, 6))\n",
        "sns.barplot(x='support', y='itemsets', data=top_frequent_itemsets, color='blue')\n",
        "plt.title('Top 10 Frequent Itemsets by Support', fontsize=16)\n",
        "plt.xlabel('Support', fontsize=14)\n",
        "plt.ylabel('Itemsets', fontsize=14)\n",
        "plt.show()\n"
      ]
    },
    {
      "cell_type": "markdown",
      "metadata": {
        "id": "zl794mnZjlCu"
      },
      "source": [
        "Generating frequent itemsets we analyze that Fresh Foods has the highest support, 51.86% of all transactions contain items from the \"Fresh Foods\" aisle category, this one is a highly purchased category ans is present in more than the half of all transactions"
      ]
    },
    {
      "cell_type": "code",
      "execution_count": null,
      "metadata": {
        "id": "RU1xURoNjlCu",
        "outputId": "ce23a0aa-3615-4bb9-916b-45fa9789642c"
      },
      "outputs": [
        {
          "data": {
            "image/png": "[encoded data removed]",
            "text/plain": [
              "<Figure size 1200x1000 with 2 Axes>"
            ]
          },
          "metadata": {},
          "output_type": "display_data"
        }
      ],
      "source": [
        "# Extract multi-item itemsets for visualization\n",
        "multi_itemsets = frequent_itemsets[frequent_itemsets['itemsets'].apply(lambda x: len(x) > 1)]\n",
        "\n",
        "if not multi_itemsets.empty:\n",
        "    # Create a pivot table for heatmap\n",
        "    pairwise_itemsets = [\n",
        "        (list(row['itemsets'])[0], list(row['itemsets'])[1], row['support'])\n",
        "        for _, row in multi_itemsets.iterrows() if len(row['itemsets']) == 2\n",
        "    ]\n",
        "\n",
        "    if pairwise_itemsets:\n",
        "        # Create the pivot table\n",
        "        itemsets_pivot = pd.DataFrame(pairwise_itemsets, columns=['Item 1', 'Item 2', 'Support'])\n",
        "        symmetric_pivot = itemsets_pivot.pivot(index='Item 1', columns='Item 2', values='Support')\n",
        "\n",
        "        # Ensure symmetry\n",
        "        symmetric_pivot = symmetric_pivot.combine_first(symmetric_pivot.T)\n",
        "\n",
        "        # Plot heatmap\n",
        "        plt.figure(figsize=(12, 10))\n",
        "        sns.heatmap(symmetric_pivot, annot=True, fmt=\".2f\", cmap=\"coolwarm\", cbar=True)\n",
        "        plt.title('Support Heatmap for Pairwise Itemsets', fontsize=16)\n",
        "        plt.xlabel('Item 2', fontsize=14)\n",
        "        plt.ylabel('Item 1', fontsize=14)\n",
        "        plt.xticks(rotation=45, ha='right')\n",
        "        plt.yticks(rotation=0)\n",
        "        plt.show()\n",
        "    else:\n",
        "        print(\"No pairwise itemsets found for visualization.\")\n",
        "else:\n",
        "    print(\"No multi-item itemsets found for visualization.\")\n",
        "\n",
        "\n"
      ]
    },
    {
      "cell_type": "markdown",
      "metadata": {
        "id": "2Lq4EbFfjlCu"
      },
      "source": [
        "for the pairwise correlation plot of the itemsets we identify a strong relation between two categories packaged foods and fresh food,  indicate that the customers buy fresh food and complement the purchased with packaged snacks. Similar relation between fresh food and frozen & refrigerated."
      ]
    },
    {
      "cell_type": "code",
      "execution_count": null,
      "metadata": {
        "id": "ypHD79czjlCu"
      },
      "outputs": [],
      "source": [
        "#export to csv\n",
        "frequent_itemsets.to_csv('frequent_itemsets.csv', index=False)"
      ]
    },
    {
      "cell_type": "code",
      "execution_count": null,
      "metadata": {
        "id": "cW-AKecYjlCu",
        "outputId": "334c2c5e-27eb-4b6a-e851-bf7542fb898e"
      },
      "outputs": [
        {
          "data": {
            "text/plain": [
              "27066"
            ]
          },
          "execution_count": 30,
          "metadata": {},
          "output_type": "execute_result"
        }
      ],
      "source": [
        "# count of unique order_id in the dataset\n",
        "order_count = df['order_id'].nunique()\n",
        "order_count"
      ]
    },
    {
      "cell_type": "code",
      "execution_count": null,
      "metadata": {
        "id": "0kOmco3-jlCv"
      },
      "outputs": [],
      "source": [
        "from mlxtend.frequent_patterns import association_rules\n",
        "\n",
        "rules = association_rules(frequent_itemsets, metric=\"lift\", min_threshold=0.935, num_itemsets=27066)\n"
      ]
    },
    {
      "cell_type": "markdown",
      "metadata": {
        "id": "9g0S7ICUjlCv"
      },
      "source": [
        "(bread) -> (butter)\n",
        "\n",
        "antecedent(trigger) -> consequent\n",
        "\n",
        "Confidence: how often the item (Consequent) result from the antecedent\n",
        "\n",
        "\n",
        "Lift: how likely the consequent occur when antecedent is present, lift > 1 positive association\n"
      ]
    },
    {
      "cell_type": "code",
      "execution_count": null,
      "metadata": {
        "id": "-1h6ea_kjlCv",
        "outputId": "963f48a4-0729-477e-f487-5ddb2aff13e6"
      },
      "outputs": [
        {
          "data": {
            "image/png": "[encoded data removed]",
            "text/plain": [
              "<Figure size 1200x800 with 2 Axes>"
            ]
          },
          "metadata": {},
          "output_type": "display_data"
        }
      ],
      "source": [
        "# Scatter Plot: Confidence vs. Lift\n",
        "import matplotlib.pyplot as plt\n",
        "import matplotlib.patches as mpatches\n",
        "\n",
        "plt.figure(figsize=(12, 8))\n",
        "scatter = plt.scatter(\n",
        "    rules['confidence'],\n",
        "    rules['lift'],\n",
        "    c=rules['support'],\n",
        "    cmap='viridis',\n",
        "    alpha=0.8\n",
        ")\n",
        "plt.colorbar(scatter, label='Support')\n",
        "plt.title('Scatter Plot: Confidence vs. Lift', fontsize=14)\n",
        "plt.xlabel('Confidence', fontsize=12)\n",
        "plt.ylabel('Lift', fontsize=12)\n",
        "plt.grid(alpha=0.3)\n",
        "\n",
        "labels = [f\"{rules['antecedents'][i]} -> {rules['consequents'][i]}\" for i in range(len(rules))]\n",
        "colors = scatter.to_rgba(rules['support'])\n",
        "\n",
        "plt.subplots_adjust(bottom=0.35)\n",
        "for i, label in enumerate(labels):\n",
        "    plt.text(\n",
        "        0.05 + i * 0.1,\n",
        "        -0.25,\n",
        "        label,\n",
        "        color=colors[i],\n",
        "        fontsize=10,\n",
        "        transform=plt.gca().transAxes,\n",
        "        bbox=dict(boxstyle=\"round,pad=0.3\", edgecolor=\"gray\", facecolor=\"white\", alpha=0.9),\n",
        "        rotation=30,\n",
        "        ha='left',\n",
        "        va='top'\n",
        "    )\n",
        "\n",
        "plt.show()\n",
        "\n",
        "\n"
      ]
    },
    {
      "cell_type": "markdown",
      "metadata": {
        "id": "gU4ISrW1jlCv"
      },
      "source": [
        "base on the association rules, we can see that \"fresh & food\" (Antecedent)  and \"household & personal care\" (Consequent) has a high lift and confidence, so is very likely that when a customer buy \"fresh & food\" get a \"household & personal care\" product, so combine both kind of categories is good for a marketing campaign."
      ]
    },
    {
      "cell_type": "code",
      "execution_count": null,
      "metadata": {
        "id": "QrjLq1dOjlCv"
      },
      "outputs": [],
      "source": [
        "# Export to csv\n",
        "rules.to_csv('association_rules.csv', index=False)"
      ]
    },
    {
      "cell_type": "markdown",
      "source": [
        "# Deep Learning model\n",
        "\n",
        "As deep learning models are widely recognized for their ability handle complex relationships and have both scalability and performance in large datasets, we will be using Neural Networks to predict if a product will be reordered or not based on features like the day of the week, hour, days since a user ordered it, among others.\n",
        "\n"
      ],
      "metadata": {
        "id": "ADwLY-K0kKeN"
      }
    },
    {
      "cell_type": "code",
      "source": [
        "from google.colab import drive\n",
        "drive.mount('/content/drive')"
      ],
      "metadata": {
        "colab": {
          "base_uri": "https://localhost:8080/"
        },
        "id": "8SO52nwUHcL4",
        "outputId": "5e4c839c-3822-4526-ecb9-c527062893b0"
      },
      "execution_count": null,
      "outputs": [
        {
          "output_type": "stream",
          "name": "stdout",
          "text": [
            "Drive already mounted at /content/drive; to attempt to forcibly remount, call drive.mount(\"/content/drive\", force_remount=True).\n"
          ]
        }
      ]
    },
    {
      "cell_type": "code",
      "execution_count": null,
      "metadata": {
        "colab": {
          "base_uri": "https://localhost:8080/",
          "height": 347
        },
        "id": "unM7zObbHYBa",
        "outputId": "c35e56f6-4c3c-4b86-e304-48c75ee10678"
      },
      "outputs": [
        {
          "output_type": "execute_result",
          "data": {
            "text/plain": [
              "   order_id  product_id  add_to_cart_order  reordered  user_id eval_set  \\\n",
              "0    133873        4191                  3          1   139674    prior   \n",
              "1    133874       20382                  2          0     9580    prior   \n",
              "2    133875       18919                 13          1   150073    prior   \n",
              "3    133875       31717                  2          0   199399    prior   \n",
              "4    133875       38596                  4          0   167885    prior   \n",
              "\n",
              "   order_number  order_dow order_hour_of_day  days_since_prior_order  \\\n",
              "0            18          6                18                    16.0   \n",
              "1             3          0                11                     3.0   \n",
              "2            18          0                13                     7.0   \n",
              "3             6          0                13                     6.0   \n",
              "4             9          5                14                     3.0   \n",
              "\n",
              "                         product_name  aisle_id  department_id  \\\n",
              "0                         Almond Cake        61             19   \n",
              "1         Natural Honey Peanut Butter        88             13   \n",
              "2  Whole Grain Sesame Rye Crisp Bread        78             19   \n",
              "3                    Organic Cilantro        16              4   \n",
              "4            Part Skim Ricotta Cheese       108             16   \n",
              "\n",
              "                  aisle  aisle_category  department  \n",
              "0         cookies cakes  Packaged Foods      snacks  \n",
              "1               spreads           Other      pantry  \n",
              "2              crackers  Packaged Foods      snacks  \n",
              "3           fresh herbs     Fresh Foods     produce  \n",
              "4  other creams cheeses         Unknown  dairy eggs  "
            ],
            "text/html": [
              "\n",
              "  <div id=\"df-c89bd5d6-a6d6-410a-807c-9dbd28ee9342\" class=\"colab-df-container\">\n",
              "    <div>\n",
              "<style scoped>\n",
              "    .dataframe tbody tr th:only-of-type {\n",
              "        vertical-align: middle;\n",
              "    }\n",
              "\n",
              "    .dataframe tbody tr th {\n",
              "        vertical-align: top;\n",
              "    }\n",
              "\n",
              "    .dataframe thead th {\n",
              "        text-align: right;\n",
              "    }\n",
              "</style>\n",
              "<table border=\"1\" class=\"dataframe\">\n",
              "  <thead>\n",
              "    <tr style=\"text-align: right;\">\n",
              "      <th></th>\n",
              "      <th>order_id</th>\n",
              "      <th>product_id</th>\n",
              "      <th>add_to_cart_order</th>\n",
              "      <th>reordered</th>\n",
              "      <th>user_id</th>\n",
              "      <th>eval_set</th>\n",
              "      <th>order_number</th>\n",
              "      <th>order_dow</th>\n",
              "      <th>order_hour_of_day</th>\n",
              "      <th>days_since_prior_order</th>\n",
              "      <th>product_name</th>\n",
              "      <th>aisle_id</th>\n",
              "      <th>department_id</th>\n",
              "      <th>aisle</th>\n",
              "      <th>aisle_category</th>\n",
              "      <th>department</th>\n",
              "    </tr>\n",
              "  </thead>\n",
              "  <tbody>\n",
              "    <tr>\n",
              "      <th>0</th>\n",
              "      <td>133873</td>\n",
              "      <td>4191</td>\n",
              "      <td>3</td>\n",
              "      <td>1</td>\n",
              "      <td>139674</td>\n",
              "      <td>prior</td>\n",
              "      <td>18</td>\n",
              "      <td>6</td>\n",
              "      <td>18</td>\n",
              "      <td>16.0</td>\n",
              "      <td>Almond Cake</td>\n",
              "      <td>61</td>\n",
              "      <td>19</td>\n",
              "      <td>cookies cakes</td>\n",
              "      <td>Packaged Foods</td>\n",
              "      <td>snacks</td>\n",
              "    </tr>\n",
              "    <tr>\n",
              "      <th>1</th>\n",
              "      <td>133874</td>\n",
              "      <td>20382</td>\n",
              "      <td>2</td>\n",
              "      <td>0</td>\n",
              "      <td>9580</td>\n",
              "      <td>prior</td>\n",
              "      <td>3</td>\n",
              "      <td>0</td>\n",
              "      <td>11</td>\n",
              "      <td>3.0</td>\n",
              "      <td>Natural Honey Peanut Butter</td>\n",
              "      <td>88</td>\n",
              "      <td>13</td>\n",
              "      <td>spreads</td>\n",
              "      <td>Other</td>\n",
              "      <td>pantry</td>\n",
              "    </tr>\n",
              "    <tr>\n",
              "      <th>2</th>\n",
              "      <td>133875</td>\n",
              "      <td>18919</td>\n",
              "      <td>13</td>\n",
              "      <td>1</td>\n",
              "      <td>150073</td>\n",
              "      <td>prior</td>\n",
              "      <td>18</td>\n",
              "      <td>0</td>\n",
              "      <td>13</td>\n",
              "      <td>7.0</td>\n",
              "      <td>Whole Grain Sesame Rye Crisp Bread</td>\n",
              "      <td>78</td>\n",
              "      <td>19</td>\n",
              "      <td>crackers</td>\n",
              "      <td>Packaged Foods</td>\n",
              "      <td>snacks</td>\n",
              "    </tr>\n",
              "    <tr>\n",
              "      <th>3</th>\n",
              "      <td>133875</td>\n",
              "      <td>31717</td>\n",
              "      <td>2</td>\n",
              "      <td>0</td>\n",
              "      <td>199399</td>\n",
              "      <td>prior</td>\n",
              "      <td>6</td>\n",
              "      <td>0</td>\n",
              "      <td>13</td>\n",
              "      <td>6.0</td>\n",
              "      <td>Organic Cilantro</td>\n",
              "      <td>16</td>\n",
              "      <td>4</td>\n",
              "      <td>fresh herbs</td>\n",
              "      <td>Fresh Foods</td>\n",
              "      <td>produce</td>\n",
              "    </tr>\n",
              "    <tr>\n",
              "      <th>4</th>\n",
              "      <td>133875</td>\n",
              "      <td>38596</td>\n",
              "      <td>4</td>\n",
              "      <td>0</td>\n",
              "      <td>167885</td>\n",
              "      <td>prior</td>\n",
              "      <td>9</td>\n",
              "      <td>5</td>\n",
              "      <td>14</td>\n",
              "      <td>3.0</td>\n",
              "      <td>Part Skim Ricotta Cheese</td>\n",
              "      <td>108</td>\n",
              "      <td>16</td>\n",
              "      <td>other creams cheeses</td>\n",
              "      <td>Unknown</td>\n",
              "      <td>dairy eggs</td>\n",
              "    </tr>\n",
              "  </tbody>\n",
              "</table>\n",
              "</div>\n",
              "    <div class=\"colab-df-buttons\">\n",
              "\n",
              "  <div class=\"colab-df-container\">\n",
              "    <button class=\"colab-df-convert\" onclick=\"convertToInteractive('df-c89bd5d6-a6d6-410a-807c-9dbd28ee9342')\"\n",
              "            title=\"Convert this dataframe to an interactive table.\"\n",
              "            style=\"display:none;\">\n",
              "\n",
              "  <svg xmlns=\"http://www.w3.org/2000/svg\" height=\"24px\" viewBox=\"0 -960 960 960\">\n",
              "    <path d=\"M120-120v-720h720v720H120Zm60-500h600v-160H180v160Zm220 220h160v-160H400v160Zm0 220h160v-160H400v160ZM180-400h160v-160H180v160Zm440 0h160v-160H620v160ZM180-180h160v-160H180v160Zm440 0h160v-160H620v160Z\"/>\n",
              "  </svg>\n",
              "    </button>\n",
              "\n",
              "  <style>\n",
              "    .colab-df-container {\n",
              "      display:flex;\n",
              "      gap: 12px;\n",
              "    }\n",
              "\n",
              "    .colab-df-convert {\n",
              "      background-color: #E8F0FE;\n",
              "      border: none;\n",
              "      border-radius: 50%;\n",
              "      cursor: pointer;\n",
              "      display: none;\n",
              "      fill: #1967D2;\n",
              "      height: 32px;\n",
              "      padding: 0 0 0 0;\n",
              "      width: 32px;\n",
              "    }\n",
              "\n",
              "    .colab-df-convert:hover {\n",
              "      background-color: #E2EBFA;\n",
              "      box-shadow: 0px 1px 2px rgba(60, 64, 67, 0.3), 0px 1px 3px 1px rgba(60, 64, 67, 0.15);\n",
              "      fill: #174EA6;\n",
              "    }\n",
              "\n",
              "    .colab-df-buttons div {\n",
              "      margin-bottom: 4px;\n",
              "    }\n",
              "\n",
              "    [theme=dark] .colab-df-convert {\n",
              "      background-color: #3B4455;\n",
              "      fill: #D2E3FC;\n",
              "    }\n",
              "\n",
              "    [theme=dark] .colab-df-convert:hover {\n",
              "      background-color: #434B5C;\n",
              "      box-shadow: 0px 1px 3px 1px rgba(0, 0, 0, 0.15);\n",
              "      filter: drop-shadow(0px 1px 2px rgba(0, 0, 0, 0.3));\n",
              "      fill: #FFFFFF;\n",
              "    }\n",
              "  </style>\n",
              "\n",
              "    <script>\n",
              "      const buttonEl =\n",
              "        document.querySelector('#df-c89bd5d6-a6d6-410a-807c-9dbd28ee9342 button.colab-df-convert');\n",
              "      buttonEl.style.display =\n",
              "        google.colab.kernel.accessAllowed ? 'block' : 'none';\n",
              "\n",
              "      async function convertToInteractive(key) {\n",
              "        const element = document.querySelector('#df-c89bd5d6-a6d6-410a-807c-9dbd28ee9342');\n",
              "        const dataTable =\n",
              "          await google.colab.kernel.invokeFunction('convertToInteractive',\n",
              "                                                    [key], {});\n",
              "        if (!dataTable) return;\n",
              "\n",
              "        const docLinkHtml = 'Like what you see? Visit the ' +\n",
              "          '<a target=\"_blank\" href=https://colab.research.google.com/notebooks/data_table.ipynb>data table notebook</a>'\n",
              "          + ' to learn more about interactive tables.';\n",
              "        element.innerHTML = '';\n",
              "        dataTable['output_type'] = 'display_data';\n",
              "        await google.colab.output.renderOutput(dataTable, element);\n",
              "        const docLink = document.createElement('div');\n",
              "        docLink.innerHTML = docLinkHtml;\n",
              "        element.appendChild(docLink);\n",
              "      }\n",
              "    </script>\n",
              "  </div>\n",
              "\n",
              "\n",
              "<div id=\"df-7bc394e6-9f0d-476c-8b73-ebd400a607dc\">\n",
              "  <button class=\"colab-df-quickchart\" onclick=\"quickchart('df-7bc394e6-9f0d-476c-8b73-ebd400a607dc')\"\n",
              "            title=\"Suggest charts\"\n",
              "            style=\"display:none;\">\n",
              "\n",
              "<svg xmlns=\"http://www.w3.org/2000/svg\" height=\"24px\"viewBox=\"0 0 24 24\"\n",
              "     width=\"24px\">\n",
              "    <g>\n",
              "        <path d=\"M19 3H5c-1.1 0-2 .9-2 2v14c0 1.1.9 2 2 2h14c1.1 0 2-.9 2-2V5c0-1.1-.9-2-2-2zM9 17H7v-7h2v7zm4 0h-2V7h2v10zm4 0h-2v-4h2v4z\"/>\n",
              "    </g>\n",
              "</svg>\n",
              "  </button>\n",
              "\n",
              "<style>\n",
              "  .colab-df-quickchart {\n",
              "      --bg-color: #E8F0FE;\n",
              "      --fill-color: #1967D2;\n",
              "      --hover-bg-color: #E2EBFA;\n",
              "      --hover-fill-color: #174EA6;\n",
              "      --disabled-fill-color: #AAA;\n",
              "      --disabled-bg-color: #DDD;\n",
              "  }\n",
              "\n",
              "  [theme=dark] .colab-df-quickchart {\n",
              "      --bg-color: #3B4455;\n",
              "      --fill-color: #D2E3FC;\n",
              "      --hover-bg-color: #434B5C;\n",
              "      --hover-fill-color: #FFFFFF;\n",
              "      --disabled-bg-color: #3B4455;\n",
              "      --disabled-fill-color: #666;\n",
              "  }\n",
              "\n",
              "  .colab-df-quickchart {\n",
              "    background-color: var(--bg-color);\n",
              "    border: none;\n",
              "    border-radius: 50%;\n",
              "    cursor: pointer;\n",
              "    display: none;\n",
              "    fill: var(--fill-color);\n",
              "    height: 32px;\n",
              "    padding: 0;\n",
              "    width: 32px;\n",
              "  }\n",
              "\n",
              "  .colab-df-quickchart:hover {\n",
              "    background-color: var(--hover-bg-color);\n",
              "    box-shadow: 0 1px 2px rgba(60, 64, 67, 0.3), 0 1px 3px 1px rgba(60, 64, 67, 0.15);\n",
              "    fill: var(--button-hover-fill-color);\n",
              "  }\n",
              "\n",
              "  .colab-df-quickchart-complete:disabled,\n",
              "  .colab-df-quickchart-complete:disabled:hover {\n",
              "    background-color: var(--disabled-bg-color);\n",
              "    fill: var(--disabled-fill-color);\n",
              "    box-shadow: none;\n",
              "  }\n",
              "\n",
              "  .colab-df-spinner {\n",
              "    border: 2px solid var(--fill-color);\n",
              "    border-color: transparent;\n",
              "    border-bottom-color: var(--fill-color);\n",
              "    animation:\n",
              "      spin 1s steps(1) infinite;\n",
              "  }\n",
              "\n",
              "  @keyframes spin {\n",
              "    0% {\n",
              "      border-color: transparent;\n",
              "      border-bottom-color: var(--fill-color);\n",
              "      border-left-color: var(--fill-color);\n",
              "    }\n",
              "    20% {\n",
              "      border-color: transparent;\n",
              "      border-left-color: var(--fill-color);\n",
              "      border-top-color: var(--fill-color);\n",
              "    }\n",
              "    30% {\n",
              "      border-color: transparent;\n",
              "      border-left-color: var(--fill-color);\n",
              "      border-top-color: var(--fill-color);\n",
              "      border-right-color: var(--fill-color);\n",
              "    }\n",
              "    40% {\n",
              "      border-color: transparent;\n",
              "      border-right-color: var(--fill-color);\n",
              "      border-top-color: var(--fill-color);\n",
              "    }\n",
              "    60% {\n",
              "      border-color: transparent;\n",
              "      border-right-color: var(--fill-color);\n",
              "    }\n",
              "    80% {\n",
              "      border-color: transparent;\n",
              "      border-right-color: var(--fill-color);\n",
              "      border-bottom-color: var(--fill-color);\n",
              "    }\n",
              "    90% {\n",
              "      border-color: transparent;\n",
              "      border-bottom-color: var(--fill-color);\n",
              "    }\n",
              "  }\n",
              "</style>\n",
              "\n",
              "  <script>\n",
              "    async function quickchart(key) {\n",
              "      const quickchartButtonEl =\n",
              "        document.querySelector('#' + key + ' button');\n",
              "      quickchartButtonEl.disabled = true;  // To prevent multiple clicks.\n",
              "      quickchartButtonEl.classList.add('colab-df-spinner');\n",
              "      try {\n",
              "        const charts = await google.colab.kernel.invokeFunction(\n",
              "            'suggestCharts', [key], {});\n",
              "      } catch (error) {\n",
              "        console.error('Error during call to suggestCharts:', error);\n",
              "      }\n",
              "      quickchartButtonEl.classList.remove('colab-df-spinner');\n",
              "      quickchartButtonEl.classList.add('colab-df-quickchart-complete');\n",
              "    }\n",
              "    (() => {\n",
              "      let quickchartButtonEl =\n",
              "        document.querySelector('#df-7bc394e6-9f0d-476c-8b73-ebd400a607dc button');\n",
              "      quickchartButtonEl.style.display =\n",
              "        google.colab.kernel.accessAllowed ? 'block' : 'none';\n",
              "    })();\n",
              "  </script>\n",
              "</div>\n",
              "\n",
              "    </div>\n",
              "  </div>\n"
            ],
            "application/vnd.google.colaboratory.intrinsic+json": {
              "type": "dataframe",
              "variable_name": "df",
              "summary": "{\n  \"name\": \"df\",\n  \"rows\": 81086,\n  \"fields\": [\n    {\n      \"column\": \"order_id\",\n      \"properties\": {\n        \"dtype\": \"number\",\n        \"std\": 7822,\n        \"min\": 133873,\n        \"max\": 160938,\n        \"num_unique_values\": 27066,\n        \"samples\": [\n          148864,\n          140752,\n          156748\n        ],\n        \"semantic_type\": \"\",\n        \"description\": \"\"\n      }\n    },\n    {\n      \"column\": \"product_id\",\n      \"properties\": {\n        \"dtype\": \"number\",\n        \"std\": 14110,\n        \"min\": 1,\n        \"max\": 49683,\n        \"num_unique_values\": 14611,\n        \"samples\": [\n          6224,\n          35619,\n          36346\n        ],\n        \"semantic_type\": \"\",\n        \"description\": \"\"\n      }\n    },\n    {\n      \"column\": \"add_to_cart_order\",\n      \"properties\": {\n        \"dtype\": \"number\",\n        \"std\": 7,\n        \"min\": 1,\n        \"max\": 96,\n        \"num_unique_values\": 71,\n        \"samples\": [\n          32,\n          3,\n          65\n        ],\n        \"semantic_type\": \"\",\n        \"description\": \"\"\n      }\n    },\n    {\n      \"column\": \"reordered\",\n      \"properties\": {\n        \"dtype\": \"number\",\n        \"std\": 0,\n        \"min\": 0,\n        \"max\": 1,\n        \"num_unique_values\": 2,\n        \"samples\": [\n          0,\n          1\n        ],\n        \"semantic_type\": \"\",\n        \"description\": \"\"\n      }\n    },\n    {\n      \"column\": \"user_id\",\n      \"properties\": {\n        \"dtype\": \"number\",\n        \"std\": 59276,\n        \"min\": 2,\n        \"max\": 206209,\n        \"num_unique_values\": 54630,\n        \"samples\": [\n          11494,\n          158077\n        ],\n        \"semantic_type\": \"\",\n        \"description\": \"\"\n      }\n    },\n    {\n      \"column\": \"eval_set\",\n      \"properties\": {\n        \"dtype\": \"category\",\n        \"num_unique_values\": 1,\n        \"samples\": [\n          \"prior\"\n        ],\n        \"semantic_type\": \"\",\n        \"description\": \"\"\n      }\n    },\n    {\n      \"column\": \"order_number\",\n      \"properties\": {\n        \"dtype\": \"number\",\n        \"std\": 17,\n        \"min\": 1,\n        \"max\": 99,\n        \"num_unique_values\": 99,\n        \"samples\": [\n          44\n        ],\n        \"semantic_type\": \"\",\n        \"description\": \"\"\n      }\n    },\n    {\n      \"column\": \"order_dow\",\n      \"properties\": {\n        \"dtype\": \"number\",\n        \"std\": 2,\n        \"min\": 0,\n        \"max\": 6,\n        \"num_unique_values\": 7,\n        \"samples\": [\n          6\n        ],\n        \"semantic_type\": \"\",\n        \"description\": \"\"\n      }\n    },\n    {\n      \"column\": \"order_hour_of_day\",\n      \"properties\": {\n        \"dtype\": \"category\",\n        \"num_unique_values\": 57,\n        \"samples\": [\n          \"18\"\n        ],\n        \"semantic_type\": \"\",\n        \"description\": \"\"\n      }\n    },\n    {\n      \"column\": \"days_since_prior_order\",\n      \"properties\": {\n        \"dtype\": \"number\",\n        \"std\": 186.7140528486427,\n        \"min\": 0.0,\n        \"max\": 3000.0,\n        \"num_unique_values\": 61,\n        \"samples\": [\n          16.0\n        ],\n        \"semantic_type\": \"\",\n        \"description\": \"\"\n      }\n    },\n    {\n      \"column\": \"product_name\",\n      \"properties\": {\n        \"dtype\": \"category\",\n        \"num_unique_values\": 14611,\n        \"samples\": [\n          \"Simply Clean Fragrance Free Wipes\"\n        ],\n        \"semantic_type\": \"\",\n        \"description\": \"\"\n      }\n    },\n    {\n      \"column\": \"aisle_id\",\n      \"properties\": {\n        \"dtype\": \"number\",\n        \"std\": 38,\n        \"min\": 1,\n        \"max\": 134,\n        \"num_unique_values\": 134,\n        \"samples\": [\n          39\n        ],\n        \"semantic_type\": \"\",\n        \"description\": \"\"\n      }\n    },\n    {\n      \"column\": \"department_id\",\n      \"properties\": {\n        \"dtype\": \"number\",\n        \"std\": 6,\n        \"min\": 1,\n        \"max\": 21,\n        \"num_unique_values\": 21,\n        \"samples\": [\n          19\n        ],\n        \"semantic_type\": \"\",\n        \"description\": \"\"\n      }\n    },\n    {\n      \"column\": \"aisle\",\n      \"properties\": {\n        \"dtype\": \"category\",\n        \"num_unique_values\": 134,\n        \"samples\": [\n          \"seafood counter\"\n        ],\n        \"semantic_type\": \"\",\n        \"description\": \"\"\n      }\n    },\n    {\n      \"column\": \"aisle_category\",\n      \"properties\": {\n        \"dtype\": \"category\",\n        \"num_unique_values\": 7,\n        \"samples\": [\n          \"Packaged Foods\"\n        ],\n        \"semantic_type\": \"\",\n        \"description\": \"\"\n      }\n    },\n    {\n      \"column\": \"department\",\n      \"properties\": {\n        \"dtype\": \"category\",\n        \"num_unique_values\": 22,\n        \"samples\": [\n          \"snacks\"\n        ],\n        \"semantic_type\": \"\",\n        \"description\": \"\"\n      }\n    }\n  ]\n}"
            }
          },
          "metadata": {},
          "execution_count": 160
        }
      ],
      "source": [
        "df = pd.read_csv('/content/drive/MyDrive/data_mining/data.csv')\n",
        "df.head()"
      ]
    },
    {
      "cell_type": "code",
      "execution_count": null,
      "metadata": {
        "colab": {
          "base_uri": "https://localhost:8080/"
        },
        "id": "9JfbyrvcHYBc",
        "outputId": "4abd833c-c8e1-4184-f7ad-b18ab160068c"
      },
      "outputs": [
        {
          "output_type": "stream",
          "name": "stdout",
          "text": [
            "<class 'pandas.core.frame.DataFrame'>\n",
            "RangeIndex: 81086 entries, 0 to 81085\n",
            "Data columns (total 16 columns):\n",
            " #   Column                  Non-Null Count  Dtype  \n",
            "---  ------                  --------------  -----  \n",
            " 0   order_id                81086 non-null  int64  \n",
            " 1   product_id              81086 non-null  int64  \n",
            " 2   add_to_cart_order       81086 non-null  int64  \n",
            " 3   reordered               81086 non-null  int64  \n",
            " 4   user_id                 81086 non-null  int64  \n",
            " 5   eval_set                81086 non-null  object \n",
            " 6   order_number            81086 non-null  int64  \n",
            " 7   order_dow               81086 non-null  int64  \n",
            " 8   order_hour_of_day       81086 non-null  object \n",
            " 9   days_since_prior_order  81086 non-null  float64\n",
            " 10  product_name            81086 non-null  object \n",
            " 11  aisle_id                81086 non-null  int64  \n",
            " 12  department_id           81086 non-null  int64  \n",
            " 13  aisle                   81086 non-null  object \n",
            " 14  aisle_category          81086 non-null  object \n",
            " 15  department              81086 non-null  object \n",
            "dtypes: float64(1), int64(9), object(6)\n",
            "memory usage: 9.9+ MB\n"
          ]
        }
      ],
      "source": [
        "df.info(\n",
        ")"
      ]
    },
    {
      "cell_type": "markdown",
      "metadata": {
        "id": "xXMQcCjYHYBd"
      },
      "source": [
        "## Data Preparation for the Deep learning model\n"
      ]
    },
    {
      "cell_type": "markdown",
      "source": [
        "We can fill null values for the days since prior order column, as this are missing values due to not having a previous order or, in other words, being the first order. Because of this is correct to fill the null values with 0 as there are no days since prior order."
      ],
      "metadata": {
        "id": "zgEI5pGDlJxn"
      }
    },
    {
      "cell_type": "code",
      "execution_count": null,
      "metadata": {
        "colab": {
          "base_uri": "https://localhost:8080/",
          "height": 727
        },
        "id": "j79kZtELHYBe",
        "outputId": "86e1d1af-ce2e-4fc2-9434-33404b4866ab"
      },
      "outputs": [
        {
          "output_type": "stream",
          "name": "stderr",
          "text": [
            "<ipython-input-162-ee72799d7008>:1: FutureWarning: A value is trying to be set on a copy of a DataFrame or Series through chained assignment using an inplace method.\n",
            "The behavior will change in pandas 3.0. This inplace method will never work because the intermediate object on which we are setting values always behaves as a copy.\n",
            "\n",
            "For example, when doing 'df[col].method(value, inplace=True)', try using 'df.method({col: value}, inplace=True)' or df[col] = df[col].method(value) instead, to perform the operation inplace on the original object.\n",
            "\n",
            "\n",
            "  df['days_since_prior_order'].fillna(0, inplace=True)\n"
          ]
        },
        {
          "output_type": "execute_result",
          "data": {
            "text/plain": [
              "order_id                  0\n",
              "product_id                0\n",
              "add_to_cart_order         0\n",
              "reordered                 0\n",
              "user_id                   0\n",
              "eval_set                  0\n",
              "order_number              0\n",
              "order_dow                 0\n",
              "order_hour_of_day         0\n",
              "days_since_prior_order    0\n",
              "product_name              0\n",
              "aisle_id                  0\n",
              "department_id             0\n",
              "aisle                     0\n",
              "aisle_category            0\n",
              "department                0\n",
              "dtype: int64"
            ],
            "text/html": [
              "<div>\n",
              "<style scoped>\n",
              "    .dataframe tbody tr th:only-of-type {\n",
              "        vertical-align: middle;\n",
              "    }\n",
              "\n",
              "    .dataframe tbody tr th {\n",
              "        vertical-align: top;\n",
              "    }\n",
              "\n",
              "    .dataframe thead th {\n",
              "        text-align: right;\n",
              "    }\n",
              "</style>\n",
              "<table border=\"1\" class=\"dataframe\">\n",
              "  <thead>\n",
              "    <tr style=\"text-align: right;\">\n",
              "      <th></th>\n",
              "      <th>0</th>\n",
              "    </tr>\n",
              "  </thead>\n",
              "  <tbody>\n",
              "    <tr>\n",
              "      <th>order_id</th>\n",
              "      <td>0</td>\n",
              "    </tr>\n",
              "    <tr>\n",
              "      <th>product_id</th>\n",
              "      <td>0</td>\n",
              "    </tr>\n",
              "    <tr>\n",
              "      <th>add_to_cart_order</th>\n",
              "      <td>0</td>\n",
              "    </tr>\n",
              "    <tr>\n",
              "      <th>reordered</th>\n",
              "      <td>0</td>\n",
              "    </tr>\n",
              "    <tr>\n",
              "      <th>user_id</th>\n",
              "      <td>0</td>\n",
              "    </tr>\n",
              "    <tr>\n",
              "      <th>eval_set</th>\n",
              "      <td>0</td>\n",
              "    </tr>\n",
              "    <tr>\n",
              "      <th>order_number</th>\n",
              "      <td>0</td>\n",
              "    </tr>\n",
              "    <tr>\n",
              "      <th>order_dow</th>\n",
              "      <td>0</td>\n",
              "    </tr>\n",
              "    <tr>\n",
              "      <th>order_hour_of_day</th>\n",
              "      <td>0</td>\n",
              "    </tr>\n",
              "    <tr>\n",
              "      <th>days_since_prior_order</th>\n",
              "      <td>0</td>\n",
              "    </tr>\n",
              "    <tr>\n",
              "      <th>product_name</th>\n",
              "      <td>0</td>\n",
              "    </tr>\n",
              "    <tr>\n",
              "      <th>aisle_id</th>\n",
              "      <td>0</td>\n",
              "    </tr>\n",
              "    <tr>\n",
              "      <th>department_id</th>\n",
              "      <td>0</td>\n",
              "    </tr>\n",
              "    <tr>\n",
              "      <th>aisle</th>\n",
              "      <td>0</td>\n",
              "    </tr>\n",
              "    <tr>\n",
              "      <th>aisle_category</th>\n",
              "      <td>0</td>\n",
              "    </tr>\n",
              "    <tr>\n",
              "      <th>department</th>\n",
              "      <td>0</td>\n",
              "    </tr>\n",
              "  </tbody>\n",
              "</table>\n",
              "</div><br><label><b>dtype:</b> int64</label>"
            ]
          },
          "metadata": {},
          "execution_count": 162
        }
      ],
      "source": [
        "df['days_since_prior_order'].fillna(0, inplace=True)\n",
        "df.isnull().sum()"
      ]
    },
    {
      "cell_type": "markdown",
      "source": [
        "Convert to the appropiate numerical format"
      ],
      "metadata": {
        "id": "gP6uIYA8llsf"
      }
    },
    {
      "cell_type": "code",
      "execution_count": null,
      "metadata": {
        "id": "kS0iMLs7HYBf"
      },
      "outputs": [],
      "source": [
        "df['order_hour_of_day'] = pd.to_numeric(df['order_hour_of_day'], errors='coerce')"
      ]
    },
    {
      "cell_type": "markdown",
      "source": [
        "Drop unnecesary columns for this deep learning model"
      ],
      "metadata": {
        "id": "wBDmxfAXlpZ6"
      }
    },
    {
      "cell_type": "code",
      "execution_count": null,
      "metadata": {
        "colab": {
          "base_uri": "https://localhost:8080/"
        },
        "id": "9HVKV4R1HYBg",
        "outputId": "6529bff1-215b-4a79-e861-ddb716621fb4"
      },
      "outputs": [
        {
          "output_type": "execute_result",
          "data": {
            "text/plain": [
              "Index(['product_id', 'add_to_cart_order', 'reordered', 'order_dow',\n",
              "       'order_hour_of_day', 'days_since_prior_order', 'aisle_category'],\n",
              "      dtype='object')"
            ]
          },
          "metadata": {},
          "execution_count": 164
        }
      ],
      "source": [
        "df.drop(columns=[\"product_name\", \"aisle\", \"department\", \"order_id\", \"order_number\",\"aisle_id\", \"user_id\", \"eval_set\", \"department_id\"], inplace=True)\n",
        "df.columns"
      ]
    },
    {
      "cell_type": "code",
      "execution_count": null,
      "metadata": {
        "colab": {
          "base_uri": "https://localhost:8080/"
        },
        "id": "BSg9uHWMHYBh",
        "outputId": "5b18e43b-9923-4ce0-fa95-f55fe3abc5aa"
      },
      "outputs": [
        {
          "output_type": "stream",
          "name": "stdout",
          "text": [
            "<class 'pandas.core.frame.DataFrame'>\n",
            "RangeIndex: 81086 entries, 0 to 81085\n",
            "Data columns (total 7 columns):\n",
            " #   Column                  Non-Null Count  Dtype  \n",
            "---  ------                  --------------  -----  \n",
            " 0   product_id              81086 non-null  int64  \n",
            " 1   add_to_cart_order       81086 non-null  int64  \n",
            " 2   reordered               81086 non-null  int64  \n",
            " 3   order_dow               81086 non-null  int64  \n",
            " 4   order_hour_of_day       80288 non-null  float64\n",
            " 5   days_since_prior_order  81086 non-null  float64\n",
            " 6   aisle_category          81086 non-null  object \n",
            "dtypes: float64(2), int64(4), object(1)\n",
            "memory usage: 4.3+ MB\n"
          ]
        }
      ],
      "source": [
        "df.info()"
      ]
    },
    {
      "cell_type": "markdown",
      "metadata": {
        "id": "g5XT-uldHYBh"
      },
      "source": [
        "### Data Validation and Outliers handling"
      ]
    },
    {
      "cell_type": "markdown",
      "metadata": {
        "id": "YMZq08IBHYBi"
      },
      "source": [
        "We should eliminate invalid values like hours of the day outside of the normal range (0-24)"
      ]
    },
    {
      "cell_type": "code",
      "execution_count": null,
      "metadata": {
        "colab": {
          "base_uri": "https://localhost:8080/",
          "height": 428
        },
        "id": "vIEXX8TNHYBi",
        "outputId": "925f97b7-0fe3-48e3-a489-a6e9c3e7f09d"
      },
      "outputs": [
        {
          "output_type": "execute_result",
          "data": {
            "text/plain": [
              "<Axes: ylabel='order_hour_of_day'>"
            ]
          },
          "metadata": {},
          "execution_count": 166
        },
        {
          "output_type": "display_data",
          "data": {
            "text/plain": [
              "<Figure size 640x480 with 1 Axes>"
            ],
            "image/png": "[encoded data removed]"
          },
          "metadata": {}
        }
      ],
      "source": [
        "import seaborn as sns\n",
        "sns.boxplot(df['order_hour_of_day'])"
      ]
    },
    {
      "cell_type": "code",
      "execution_count": null,
      "metadata": {
        "colab": {
          "base_uri": "https://localhost:8080/"
        },
        "id": "Z3Ydt9dLHYBj",
        "outputId": "661e51c8-6038-44aa-8a02-aa6576f922db"
      },
      "outputs": [
        {
          "output_type": "execute_result",
          "data": {
            "text/plain": [
              "array([18., 11., 13., 14., 17., 15., 16., 23.,  0., 12., 10.,  8.,  9.,\n",
              "       19., 20.,  6., 21.,  7., 22., nan, 25.,  3.,  5.,  1.,  2.,  4.,\n",
              "       27., 29., 28., 26.])"
            ]
          },
          "metadata": {},
          "execution_count": 167
        }
      ],
      "source": [
        "df['order_hour_of_day'].unique()"
      ]
    },
    {
      "cell_type": "code",
      "execution_count": null,
      "metadata": {
        "colab": {
          "base_uri": "https://localhost:8080/"
        },
        "id": "PV3bq0pyHYBj",
        "outputId": "7d355e3e-12fe-4810-c096-88f199ea88e4"
      },
      "outputs": [
        {
          "output_type": "execute_result",
          "data": {
            "text/plain": [
              "array([18., 11., 13., 14., 17., 15., 16., 23.,  0., 12., 10.,  8.,  9.,\n",
              "       19., 20.,  6., 21.,  7., 22., nan,  3.,  5.,  1.,  2.,  4.])"
            ]
          },
          "metadata": {},
          "execution_count": 168
        }
      ],
      "source": [
        "df['order_hour_of_day'] = df['order_hour_of_day'][df['order_hour_of_day'] <= 24]\n",
        "df['order_hour_of_day'].unique()"
      ]
    },
    {
      "cell_type": "code",
      "execution_count": null,
      "metadata": {
        "colab": {
          "base_uri": "https://localhost:8080/",
          "height": 428
        },
        "id": "XIPBS92RHYBk",
        "outputId": "6ce4d029-dd21-41e2-ee1d-a52b2800c242"
      },
      "outputs": [
        {
          "output_type": "execute_result",
          "data": {
            "text/plain": [
              "<Axes: ylabel='order_dow'>"
            ]
          },
          "metadata": {},
          "execution_count": 169
        },
        {
          "output_type": "display_data",
          "data": {
            "text/plain": [
              "<Figure size 640x480 with 1 Axes>"
            ],
            "image/png": "[encoded data removed]"
          },
          "metadata": {}
        }
      ],
      "source": [
        "sns.boxplot(df['order_dow'])"
      ]
    },
    {
      "cell_type": "code",
      "execution_count": null,
      "metadata": {
        "colab": {
          "base_uri": "https://localhost:8080/"
        },
        "id": "Va9KrF73HYBk",
        "outputId": "819553e0-3ccd-4972-e923-b89832f9615a"
      },
      "outputs": [
        {
          "output_type": "execute_result",
          "data": {
            "text/plain": [
              "array([6, 0, 5, 3, 2, 1, 4])"
            ]
          },
          "metadata": {},
          "execution_count": 170
        }
      ],
      "source": [
        "df['order_dow'].unique()"
      ]
    },
    {
      "cell_type": "markdown",
      "metadata": {
        "id": "T7z3gXPCHYBk"
      },
      "source": [
        "This column has significant outliers"
      ]
    },
    {
      "cell_type": "code",
      "execution_count": null,
      "metadata": {
        "colab": {
          "base_uri": "https://localhost:8080/",
          "height": 428
        },
        "id": "tjObQeUOHYBk",
        "outputId": "b9836258-e40f-41db-c5aa-6bce5a446feb"
      },
      "outputs": [
        {
          "output_type": "execute_result",
          "data": {
            "text/plain": [
              "<Axes: ylabel='days_since_prior_order'>"
            ]
          },
          "metadata": {},
          "execution_count": 171
        },
        {
          "output_type": "display_data",
          "data": {
            "text/plain": [
              "<Figure size 640x480 with 1 Axes>"
            ],
            "image/png": "[encoded data removed]"
          },
          "metadata": {}
        }
      ],
      "source": [
        "sns.boxplot(df[\"days_since_prior_order\"])"
      ]
    },
    {
      "cell_type": "code",
      "execution_count": null,
      "metadata": {
        "colab": {
          "base_uri": "https://localhost:8080/",
          "height": 335
        },
        "id": "ssHp1he2HYBl",
        "outputId": "3e5010cc-903f-49b5-ea62-60cab66d904d"
      },
      "outputs": [
        {
          "output_type": "execute_result",
          "data": {
            "text/plain": [
              "count    81086.000000\n",
              "mean        30.678231\n",
              "std        186.714053\n",
              "min          0.000000\n",
              "25%          5.000000\n",
              "50%          8.000000\n",
              "75%         15.000000\n",
              "max       3000.000000\n",
              "Name: days_since_prior_order, dtype: float64"
            ],
            "text/html": [
              "<div>\n",
              "<style scoped>\n",
              "    .dataframe tbody tr th:only-of-type {\n",
              "        vertical-align: middle;\n",
              "    }\n",
              "\n",
              "    .dataframe tbody tr th {\n",
              "        vertical-align: top;\n",
              "    }\n",
              "\n",
              "    .dataframe thead th {\n",
              "        text-align: right;\n",
              "    }\n",
              "</style>\n",
              "<table border=\"1\" class=\"dataframe\">\n",
              "  <thead>\n",
              "    <tr style=\"text-align: right;\">\n",
              "      <th></th>\n",
              "      <th>days_since_prior_order</th>\n",
              "    </tr>\n",
              "  </thead>\n",
              "  <tbody>\n",
              "    <tr>\n",
              "      <th>count</th>\n",
              "      <td>81086.000000</td>\n",
              "    </tr>\n",
              "    <tr>\n",
              "      <th>mean</th>\n",
              "      <td>30.678231</td>\n",
              "    </tr>\n",
              "    <tr>\n",
              "      <th>std</th>\n",
              "      <td>186.714053</td>\n",
              "    </tr>\n",
              "    <tr>\n",
              "      <th>min</th>\n",
              "      <td>0.000000</td>\n",
              "    </tr>\n",
              "    <tr>\n",
              "      <th>25%</th>\n",
              "      <td>5.000000</td>\n",
              "    </tr>\n",
              "    <tr>\n",
              "      <th>50%</th>\n",
              "      <td>8.000000</td>\n",
              "    </tr>\n",
              "    <tr>\n",
              "      <th>75%</th>\n",
              "      <td>15.000000</td>\n",
              "    </tr>\n",
              "    <tr>\n",
              "      <th>max</th>\n",
              "      <td>3000.000000</td>\n",
              "    </tr>\n",
              "  </tbody>\n",
              "</table>\n",
              "</div><br><label><b>dtype:</b> float64</label>"
            ]
          },
          "metadata": {},
          "execution_count": 172
        }
      ],
      "source": [
        "df[\"days_since_prior_order\"].describe()"
      ]
    },
    {
      "cell_type": "code",
      "execution_count": null,
      "metadata": {
        "colab": {
          "base_uri": "https://localhost:8080/"
        },
        "id": "gJQaQFV1HYBl",
        "outputId": "043a050b-1756-4b18-bc0b-3c30e7d96312"
      },
      "outputs": [
        {
          "output_type": "stream",
          "name": "stdout",
          "text": [
            "Outliers in Days since Prior order: 1449\n",
            "Proportion of outliers: 1.79 %\n"
          ]
        }
      ],
      "source": [
        "more_than_year =  df[\"days_since_prior_order\"][df[\"days_since_prior_order\"] > 30].count()\n",
        "print(\"Outliers in Days since Prior order:\", more_than_year)\n",
        "print(\"Proportion of outliers:\", round(more_than_year*100/df.shape[0], 2), \"%\")"
      ]
    },
    {
      "cell_type": "markdown",
      "metadata": {
        "id": "07yz1NqsHYBl"
      },
      "source": [
        "As the proportion of outliers is minimal, we can eliminate them:"
      ]
    },
    {
      "cell_type": "code",
      "execution_count": null,
      "metadata": {
        "colab": {
          "base_uri": "https://localhost:8080/",
          "height": 428
        },
        "id": "mte72gODHYBl",
        "outputId": "5889f55b-5d90-4277-e446-15f0e3ced9f6"
      },
      "outputs": [
        {
          "output_type": "execute_result",
          "data": {
            "text/plain": [
              "<Axes: ylabel='days_since_prior_order'>"
            ]
          },
          "metadata": {},
          "execution_count": 174
        },
        {
          "output_type": "display_data",
          "data": {
            "text/plain": [
              "<Figure size 640x480 with 1 Axes>"
            ],
            "image/png": "[encoded data removed]"
          },
          "metadata": {}
        }
      ],
      "source": [
        "df['days_since_prior_order'] =  df[\"days_since_prior_order\"][df[\"days_since_prior_order\"] < 30]\n",
        "sns.boxplot(df['days_since_prior_order'])"
      ]
    },
    {
      "cell_type": "markdown",
      "metadata": {
        "id": "CewWgQ2NHYBm"
      },
      "source": [
        "### Handling missing values"
      ]
    },
    {
      "cell_type": "code",
      "execution_count": null,
      "metadata": {
        "colab": {
          "base_uri": "https://localhost:8080/",
          "height": 303
        },
        "id": "r3paO9UsHYBm",
        "outputId": "e860dea9-befd-4179-917c-5bf920c6eafb"
      },
      "outputs": [
        {
          "output_type": "execute_result",
          "data": {
            "text/plain": [
              "product_id                   0\n",
              "add_to_cart_order            0\n",
              "reordered                    0\n",
              "order_dow                    0\n",
              "order_hour_of_day         1571\n",
              "days_since_prior_order    8906\n",
              "aisle_category               0\n",
              "dtype: int64"
            ],
            "text/html": [
              "<div>\n",
              "<style scoped>\n",
              "    .dataframe tbody tr th:only-of-type {\n",
              "        vertical-align: middle;\n",
              "    }\n",
              "\n",
              "    .dataframe tbody tr th {\n",
              "        vertical-align: top;\n",
              "    }\n",
              "\n",
              "    .dataframe thead th {\n",
              "        text-align: right;\n",
              "    }\n",
              "</style>\n",
              "<table border=\"1\" class=\"dataframe\">\n",
              "  <thead>\n",
              "    <tr style=\"text-align: right;\">\n",
              "      <th></th>\n",
              "      <th>0</th>\n",
              "    </tr>\n",
              "  </thead>\n",
              "  <tbody>\n",
              "    <tr>\n",
              "      <th>product_id</th>\n",
              "      <td>0</td>\n",
              "    </tr>\n",
              "    <tr>\n",
              "      <th>add_to_cart_order</th>\n",
              "      <td>0</td>\n",
              "    </tr>\n",
              "    <tr>\n",
              "      <th>reordered</th>\n",
              "      <td>0</td>\n",
              "    </tr>\n",
              "    <tr>\n",
              "      <th>order_dow</th>\n",
              "      <td>0</td>\n",
              "    </tr>\n",
              "    <tr>\n",
              "      <th>order_hour_of_day</th>\n",
              "      <td>1571</td>\n",
              "    </tr>\n",
              "    <tr>\n",
              "      <th>days_since_prior_order</th>\n",
              "      <td>8906</td>\n",
              "    </tr>\n",
              "    <tr>\n",
              "      <th>aisle_category</th>\n",
              "      <td>0</td>\n",
              "    </tr>\n",
              "  </tbody>\n",
              "</table>\n",
              "</div><br><label><b>dtype:</b> int64</label>"
            ]
          },
          "metadata": {},
          "execution_count": 175
        }
      ],
      "source": [
        "df.isnull().sum()"
      ]
    },
    {
      "cell_type": "markdown",
      "metadata": {
        "id": "l8dQFC8IHYBm"
      },
      "source": [
        "For hours of the day we can add a cero for non previous order information"
      ]
    },
    {
      "cell_type": "code",
      "execution_count": null,
      "metadata": {
        "colab": {
          "base_uri": "https://localhost:8080/"
        },
        "id": "jfzvLGxeHYBm",
        "outputId": "7c6729c1-b326-42f3-b803-ec35ece2f9e4"
      },
      "outputs": [
        {
          "output_type": "stream",
          "name": "stderr",
          "text": [
            "<ipython-input-176-bb1a3616a798>:2: FutureWarning: A value is trying to be set on a copy of a DataFrame or Series through chained assignment using an inplace method.\n",
            "The behavior will change in pandas 3.0. This inplace method will never work because the intermediate object on which we are setting values always behaves as a copy.\n",
            "\n",
            "For example, when doing 'df[col].method(value, inplace=True)', try using 'df.method({col: value}, inplace=True)' or df[col] = df[col].method(value) instead, to perform the operation inplace on the original object.\n",
            "\n",
            "\n",
            "  df['days_since_prior_order'].fillna(0, inplace=True)\n"
          ]
        },
        {
          "output_type": "execute_result",
          "data": {
            "text/plain": [
              "0"
            ]
          },
          "metadata": {},
          "execution_count": 176
        }
      ],
      "source": [
        "# Fill missing values with 0\n",
        "df['days_since_prior_order'].fillna(0, inplace=True)\n",
        "df['days_since_prior_order'].isnull().sum()"
      ]
    },
    {
      "cell_type": "code",
      "execution_count": null,
      "metadata": {
        "colab": {
          "base_uri": "https://localhost:8080/"
        },
        "id": "WZqqIMBRHYBn",
        "outputId": "ebd35d2e-df33-434f-d78d-f6526baa4b9f"
      },
      "outputs": [
        {
          "output_type": "stream",
          "name": "stderr",
          "text": [
            "<ipython-input-177-b477cfa9e96f>:2: FutureWarning: A value is trying to be set on a copy of a DataFrame or Series through chained assignment using an inplace method.\n",
            "The behavior will change in pandas 3.0. This inplace method will never work because the intermediate object on which we are setting values always behaves as a copy.\n",
            "\n",
            "For example, when doing 'df[col].method(value, inplace=True)', try using 'df.method({col: value}, inplace=True)' or df[col] = df[col].method(value) instead, to perform the operation inplace on the original object.\n",
            "\n",
            "\n",
            "  df['order_hour_of_day'].fillna(df['order_hour_of_day'].mode()[0], inplace=True)\n"
          ]
        },
        {
          "output_type": "execute_result",
          "data": {
            "text/plain": [
              "0"
            ]
          },
          "metadata": {},
          "execution_count": 177
        }
      ],
      "source": [
        "# Fill missing values with mode\n",
        "df['order_hour_of_day'].fillna(df['order_hour_of_day'].mode()[0], inplace=True)\n",
        "df['order_hour_of_day'].isnull().sum()"
      ]
    },
    {
      "cell_type": "code",
      "source": [
        "df.isnull().sum()"
      ],
      "metadata": {
        "colab": {
          "base_uri": "https://localhost:8080/",
          "height": 303
        },
        "id": "81tFf-xFVyas",
        "outputId": "ce10bc67-590c-4d8e-9a8a-e9251f991115"
      },
      "execution_count": null,
      "outputs": [
        {
          "output_type": "execute_result",
          "data": {
            "text/plain": [
              "product_id                0\n",
              "add_to_cart_order         0\n",
              "reordered                 0\n",
              "order_dow                 0\n",
              "order_hour_of_day         0\n",
              "days_since_prior_order    0\n",
              "aisle_category            0\n",
              "dtype: int64"
            ],
            "text/html": [
              "<div>\n",
              "<style scoped>\n",
              "    .dataframe tbody tr th:only-of-type {\n",
              "        vertical-align: middle;\n",
              "    }\n",
              "\n",
              "    .dataframe tbody tr th {\n",
              "        vertical-align: top;\n",
              "    }\n",
              "\n",
              "    .dataframe thead th {\n",
              "        text-align: right;\n",
              "    }\n",
              "</style>\n",
              "<table border=\"1\" class=\"dataframe\">\n",
              "  <thead>\n",
              "    <tr style=\"text-align: right;\">\n",
              "      <th></th>\n",
              "      <th>0</th>\n",
              "    </tr>\n",
              "  </thead>\n",
              "  <tbody>\n",
              "    <tr>\n",
              "      <th>product_id</th>\n",
              "      <td>0</td>\n",
              "    </tr>\n",
              "    <tr>\n",
              "      <th>add_to_cart_order</th>\n",
              "      <td>0</td>\n",
              "    </tr>\n",
              "    <tr>\n",
              "      <th>reordered</th>\n",
              "      <td>0</td>\n",
              "    </tr>\n",
              "    <tr>\n",
              "      <th>order_dow</th>\n",
              "      <td>0</td>\n",
              "    </tr>\n",
              "    <tr>\n",
              "      <th>order_hour_of_day</th>\n",
              "      <td>0</td>\n",
              "    </tr>\n",
              "    <tr>\n",
              "      <th>days_since_prior_order</th>\n",
              "      <td>0</td>\n",
              "    </tr>\n",
              "    <tr>\n",
              "      <th>aisle_category</th>\n",
              "      <td>0</td>\n",
              "    </tr>\n",
              "  </tbody>\n",
              "</table>\n",
              "</div><br><label><b>dtype:</b> int64</label>"
            ]
          },
          "metadata": {},
          "execution_count": 178
        }
      ]
    },
    {
      "cell_type": "code",
      "source": [
        "df[\"aisle_category\"].unique()"
      ],
      "metadata": {
        "colab": {
          "base_uri": "https://localhost:8080/"
        },
        "id": "XdYVUlTyY5Pg",
        "outputId": "3b2286cf-f8c5-4c37-884b-4f2de1c393ac"
      },
      "execution_count": null,
      "outputs": [
        {
          "output_type": "execute_result",
          "data": {
            "text/plain": [
              "array(['Packaged Foods', 'Other', 'Fresh Foods', 'Unknown', 'Beverages',\n",
              "       'Frozen & Refrigerated Items', 'Household & Personal Care'],\n",
              "      dtype=object)"
            ]
          },
          "metadata": {},
          "execution_count": 179
        }
      ]
    },
    {
      "cell_type": "markdown",
      "source": [
        "Apply one hot encoding to product to aisle_category that has 5 categories and make them 0 or 1"
      ],
      "metadata": {
        "id": "PCL_hgKoYXbR"
      }
    },
    {
      "cell_type": "code",
      "source": [
        "# Perform one-hot encoding using pandas\n",
        "one_hot = pd.get_dummies(df['aisle_category'], prefix='aisle_category', dtype=float)\n",
        "\n",
        "# Concatenate the one-hot encoded columns to the original DataFrame\n",
        "df = pd.concat([df, one_hot], axis=1)\n",
        "\n",
        "# Show the updated DataFrame\n",
        "df.head()"
      ],
      "metadata": {
        "colab": {
          "base_uri": "https://localhost:8080/",
          "height": 243
        },
        "id": "HOP-L9lBYxR2",
        "outputId": "a43c73ea-2499-4fd2-936a-a55d7e73347b"
      },
      "execution_count": null,
      "outputs": [
        {
          "output_type": "execute_result",
          "data": {
            "text/plain": [
              "   product_id  add_to_cart_order  reordered  order_dow  order_hour_of_day  \\\n",
              "0        4191                  3          1          6               18.0   \n",
              "1       20382                  2          0          0               11.0   \n",
              "2       18919                 13          1          0               13.0   \n",
              "3       31717                  2          0          0               13.0   \n",
              "4       38596                  4          0          5               14.0   \n",
              "\n",
              "   days_since_prior_order  aisle_category  aisle_category_Beverages  \\\n",
              "0                    16.0  Packaged Foods                       0.0   \n",
              "1                     3.0           Other                       0.0   \n",
              "2                     7.0  Packaged Foods                       0.0   \n",
              "3                     6.0     Fresh Foods                       0.0   \n",
              "4                     3.0         Unknown                       0.0   \n",
              "\n",
              "   aisle_category_Fresh Foods  aisle_category_Frozen & Refrigerated Items  \\\n",
              "0                         0.0                                         0.0   \n",
              "1                         0.0                                         0.0   \n",
              "2                         0.0                                         0.0   \n",
              "3                         1.0                                         0.0   \n",
              "4                         0.0                                         0.0   \n",
              "\n",
              "   aisle_category_Household & Personal Care  aisle_category_Other  \\\n",
              "0                                       0.0                   0.0   \n",
              "1                                       0.0                   1.0   \n",
              "2                                       0.0                   0.0   \n",
              "3                                       0.0                   0.0   \n",
              "4                                       0.0                   0.0   \n",
              "\n",
              "   aisle_category_Packaged Foods  aisle_category_Unknown  \n",
              "0                            1.0                     0.0  \n",
              "1                            0.0                     0.0  \n",
              "2                            1.0                     0.0  \n",
              "3                            0.0                     0.0  \n",
              "4                            0.0                     1.0  "
            ],
            "text/html": [
              "\n",
              "  <div id=\"df-1f0bd70e-d2b3-43b0-8222-0d31d92a9d14\" class=\"colab-df-container\">\n",
              "    <div>\n",
              "<style scoped>\n",
              "    .dataframe tbody tr th:only-of-type {\n",
              "        vertical-align: middle;\n",
              "    }\n",
              "\n",
              "    .dataframe tbody tr th {\n",
              "        vertical-align: top;\n",
              "    }\n",
              "\n",
              "    .dataframe thead th {\n",
              "        text-align: right;\n",
              "    }\n",
              "</style>\n",
              "<table border=\"1\" class=\"dataframe\">\n",
              "  <thead>\n",
              "    <tr style=\"text-align: right;\">\n",
              "      <th></th>\n",
              "      <th>product_id</th>\n",
              "      <th>add_to_cart_order</th>\n",
              "      <th>reordered</th>\n",
              "      <th>order_dow</th>\n",
              "      <th>order_hour_of_day</th>\n",
              "      <th>days_since_prior_order</th>\n",
              "      <th>aisle_category</th>\n",
              "      <th>aisle_category_Beverages</th>\n",
              "      <th>aisle_category_Fresh Foods</th>\n",
              "      <th>aisle_category_Frozen &amp; Refrigerated Items</th>\n",
              "      <th>aisle_category_Household &amp; Personal Care</th>\n",
              "      <th>aisle_category_Other</th>\n",
              "      <th>aisle_category_Packaged Foods</th>\n",
              "      <th>aisle_category_Unknown</th>\n",
              "    </tr>\n",
              "  </thead>\n",
              "  <tbody>\n",
              "    <tr>\n",
              "      <th>0</th>\n",
              "      <td>4191</td>\n",
              "      <td>3</td>\n",
              "      <td>1</td>\n",
              "      <td>6</td>\n",
              "      <td>18.0</td>\n",
              "      <td>16.0</td>\n",
              "      <td>Packaged Foods</td>\n",
              "      <td>0.0</td>\n",
              "      <td>0.0</td>\n",
              "      <td>0.0</td>\n",
              "      <td>0.0</td>\n",
              "      <td>0.0</td>\n",
              "      <td>1.0</td>\n",
              "      <td>0.0</td>\n",
              "    </tr>\n",
              "    <tr>\n",
              "      <th>1</th>\n",
              "      <td>20382</td>\n",
              "      <td>2</td>\n",
              "      <td>0</td>\n",
              "      <td>0</td>\n",
              "      <td>11.0</td>\n",
              "      <td>3.0</td>\n",
              "      <td>Other</td>\n",
              "      <td>0.0</td>\n",
              "      <td>0.0</td>\n",
              "      <td>0.0</td>\n",
              "      <td>0.0</td>\n",
              "      <td>1.0</td>\n",
              "      <td>0.0</td>\n",
              "      <td>0.0</td>\n",
              "    </tr>\n",
              "    <tr>\n",
              "      <th>2</th>\n",
              "      <td>18919</td>\n",
              "      <td>13</td>\n",
              "      <td>1</td>\n",
              "      <td>0</td>\n",
              "      <td>13.0</td>\n",
              "      <td>7.0</td>\n",
              "      <td>Packaged Foods</td>\n",
              "      <td>0.0</td>\n",
              "      <td>0.0</td>\n",
              "      <td>0.0</td>\n",
              "      <td>0.0</td>\n",
              "      <td>0.0</td>\n",
              "      <td>1.0</td>\n",
              "      <td>0.0</td>\n",
              "    </tr>\n",
              "    <tr>\n",
              "      <th>3</th>\n",
              "      <td>31717</td>\n",
              "      <td>2</td>\n",
              "      <td>0</td>\n",
              "      <td>0</td>\n",
              "      <td>13.0</td>\n",
              "      <td>6.0</td>\n",
              "      <td>Fresh Foods</td>\n",
              "      <td>0.0</td>\n",
              "      <td>1.0</td>\n",
              "      <td>0.0</td>\n",
              "      <td>0.0</td>\n",
              "      <td>0.0</td>\n",
              "      <td>0.0</td>\n",
              "      <td>0.0</td>\n",
              "    </tr>\n",
              "    <tr>\n",
              "      <th>4</th>\n",
              "      <td>38596</td>\n",
              "      <td>4</td>\n",
              "      <td>0</td>\n",
              "      <td>5</td>\n",
              "      <td>14.0</td>\n",
              "      <td>3.0</td>\n",
              "      <td>Unknown</td>\n",
              "      <td>0.0</td>\n",
              "      <td>0.0</td>\n",
              "      <td>0.0</td>\n",
              "      <td>0.0</td>\n",
              "      <td>0.0</td>\n",
              "      <td>0.0</td>\n",
              "      <td>1.0</td>\n",
              "    </tr>\n",
              "  </tbody>\n",
              "</table>\n",
              "</div>\n",
              "    <div class=\"colab-df-buttons\">\n",
              "\n",
              "  <div class=\"colab-df-container\">\n",
              "    <button class=\"colab-df-convert\" onclick=\"convertToInteractive('df-1f0bd70e-d2b3-43b0-8222-0d31d92a9d14')\"\n",
              "            title=\"Convert this dataframe to an interactive table.\"\n",
              "            style=\"display:none;\">\n",
              "\n",
              "  <svg xmlns=\"http://www.w3.org/2000/svg\" height=\"24px\" viewBox=\"0 -960 960 960\">\n",
              "    <path d=\"M120-120v-720h720v720H120Zm60-500h600v-160H180v160Zm220 220h160v-160H400v160Zm0 220h160v-160H400v160ZM180-400h160v-160H180v160Zm440 0h160v-160H620v160ZM180-180h160v-160H180v160Zm440 0h160v-160H620v160Z\"/>\n",
              "  </svg>\n",
              "    </button>\n",
              "\n",
              "  <style>\n",
              "    .colab-df-container {\n",
              "      display:flex;\n",
              "      gap: 12px;\n",
              "    }\n",
              "\n",
              "    .colab-df-convert {\n",
              "      background-color: #E8F0FE;\n",
              "      border: none;\n",
              "      border-radius: 50%;\n",
              "      cursor: pointer;\n",
              "      display: none;\n",
              "      fill: #1967D2;\n",
              "      height: 32px;\n",
              "      padding: 0 0 0 0;\n",
              "      width: 32px;\n",
              "    }\n",
              "\n",
              "    .colab-df-convert:hover {\n",
              "      background-color: #E2EBFA;\n",
              "      box-shadow: 0px 1px 2px rgba(60, 64, 67, 0.3), 0px 1px 3px 1px rgba(60, 64, 67, 0.15);\n",
              "      fill: #174EA6;\n",
              "    }\n",
              "\n",
              "    .colab-df-buttons div {\n",
              "      margin-bottom: 4px;\n",
              "    }\n",
              "\n",
              "    [theme=dark] .colab-df-convert {\n",
              "      background-color: #3B4455;\n",
              "      fill: #D2E3FC;\n",
              "    }\n",
              "\n",
              "    [theme=dark] .colab-df-convert:hover {\n",
              "      background-color: #434B5C;\n",
              "      box-shadow: 0px 1px 3px 1px rgba(0, 0, 0, 0.15);\n",
              "      filter: drop-shadow(0px 1px 2px rgba(0, 0, 0, 0.3));\n",
              "      fill: #FFFFFF;\n",
              "    }\n",
              "  </style>\n",
              "\n",
              "    <script>\n",
              "      const buttonEl =\n",
              "        document.querySelector('#df-1f0bd70e-d2b3-43b0-8222-0d31d92a9d14 button.colab-df-convert');\n",
              "      buttonEl.style.display =\n",
              "        google.colab.kernel.accessAllowed ? 'block' : 'none';\n",
              "\n",
              "      async function convertToInteractive(key) {\n",
              "        const element = document.querySelector('#df-1f0bd70e-d2b3-43b0-8222-0d31d92a9d14');\n",
              "        const dataTable =\n",
              "          await google.colab.kernel.invokeFunction('convertToInteractive',\n",
              "                                                    [key], {});\n",
              "        if (!dataTable) return;\n",
              "\n",
              "        const docLinkHtml = 'Like what you see? Visit the ' +\n",
              "          '<a target=\"_blank\" href=https://colab.research.google.com/notebooks/data_table.ipynb>data table notebook</a>'\n",
              "          + ' to learn more about interactive tables.';\n",
              "        element.innerHTML = '';\n",
              "        dataTable['output_type'] = 'display_data';\n",
              "        await google.colab.output.renderOutput(dataTable, element);\n",
              "        const docLink = document.createElement('div');\n",
              "        docLink.innerHTML = docLinkHtml;\n",
              "        element.appendChild(docLink);\n",
              "      }\n",
              "    </script>\n",
              "  </div>\n",
              "\n",
              "\n",
              "<div id=\"df-2c9e8ae5-c6d0-481c-8d89-4337517b5528\">\n",
              "  <button class=\"colab-df-quickchart\" onclick=\"quickchart('df-2c9e8ae5-c6d0-481c-8d89-4337517b5528')\"\n",
              "            title=\"Suggest charts\"\n",
              "            style=\"display:none;\">\n",
              "\n",
              "<svg xmlns=\"http://www.w3.org/2000/svg\" height=\"24px\"viewBox=\"0 0 24 24\"\n",
              "     width=\"24px\">\n",
              "    <g>\n",
              "        <path d=\"M19 3H5c-1.1 0-2 .9-2 2v14c0 1.1.9 2 2 2h14c1.1 0 2-.9 2-2V5c0-1.1-.9-2-2-2zM9 17H7v-7h2v7zm4 0h-2V7h2v10zm4 0h-2v-4h2v4z\"/>\n",
              "    </g>\n",
              "</svg>\n",
              "  </button>\n",
              "\n",
              "<style>\n",
              "  .colab-df-quickchart {\n",
              "      --bg-color: #E8F0FE;\n",
              "      --fill-color: #1967D2;\n",
              "      --hover-bg-color: #E2EBFA;\n",
              "      --hover-fill-color: #174EA6;\n",
              "      --disabled-fill-color: #AAA;\n",
              "      --disabled-bg-color: #DDD;\n",
              "  }\n",
              "\n",
              "  [theme=dark] .colab-df-quickchart {\n",
              "      --bg-color: #3B4455;\n",
              "      --fill-color: #D2E3FC;\n",
              "      --hover-bg-color: #434B5C;\n",
              "      --hover-fill-color: #FFFFFF;\n",
              "      --disabled-bg-color: #3B4455;\n",
              "      --disabled-fill-color: #666;\n",
              "  }\n",
              "\n",
              "  .colab-df-quickchart {\n",
              "    background-color: var(--bg-color);\n",
              "    border: none;\n",
              "    border-radius: 50%;\n",
              "    cursor: pointer;\n",
              "    display: none;\n",
              "    fill: var(--fill-color);\n",
              "    height: 32px;\n",
              "    padding: 0;\n",
              "    width: 32px;\n",
              "  }\n",
              "\n",
              "  .colab-df-quickchart:hover {\n",
              "    background-color: var(--hover-bg-color);\n",
              "    box-shadow: 0 1px 2px rgba(60, 64, 67, 0.3), 0 1px 3px 1px rgba(60, 64, 67, 0.15);\n",
              "    fill: var(--button-hover-fill-color);\n",
              "  }\n",
              "\n",
              "  .colab-df-quickchart-complete:disabled,\n",
              "  .colab-df-quickchart-complete:disabled:hover {\n",
              "    background-color: var(--disabled-bg-color);\n",
              "    fill: var(--disabled-fill-color);\n",
              "    box-shadow: none;\n",
              "  }\n",
              "\n",
              "  .colab-df-spinner {\n",
              "    border: 2px solid var(--fill-color);\n",
              "    border-color: transparent;\n",
              "    border-bottom-color: var(--fill-color);\n",
              "    animation:\n",
              "      spin 1s steps(1) infinite;\n",
              "  }\n",
              "\n",
              "  @keyframes spin {\n",
              "    0% {\n",
              "      border-color: transparent;\n",
              "      border-bottom-color: var(--fill-color);\n",
              "      border-left-color: var(--fill-color);\n",
              "    }\n",
              "    20% {\n",
              "      border-color: transparent;\n",
              "      border-left-color: var(--fill-color);\n",
              "      border-top-color: var(--fill-color);\n",
              "    }\n",
              "    30% {\n",
              "      border-color: transparent;\n",
              "      border-left-color: var(--fill-color);\n",
              "      border-top-color: var(--fill-color);\n",
              "      border-right-color: var(--fill-color);\n",
              "    }\n",
              "    40% {\n",
              "      border-color: transparent;\n",
              "      border-right-color: var(--fill-color);\n",
              "      border-top-color: var(--fill-color);\n",
              "    }\n",
              "    60% {\n",
              "      border-color: transparent;\n",
              "      border-right-color: var(--fill-color);\n",
              "    }\n",
              "    80% {\n",
              "      border-color: transparent;\n",
              "      border-right-color: var(--fill-color);\n",
              "      border-bottom-color: var(--fill-color);\n",
              "    }\n",
              "    90% {\n",
              "      border-color: transparent;\n",
              "      border-bottom-color: var(--fill-color);\n",
              "    }\n",
              "  }\n",
              "</style>\n",
              "\n",
              "  <script>\n",
              "    async function quickchart(key) {\n",
              "      const quickchartButtonEl =\n",
              "        document.querySelector('#' + key + ' button');\n",
              "      quickchartButtonEl.disabled = true;  // To prevent multiple clicks.\n",
              "      quickchartButtonEl.classList.add('colab-df-spinner');\n",
              "      try {\n",
              "        const charts = await google.colab.kernel.invokeFunction(\n",
              "            'suggestCharts', [key], {});\n",
              "      } catch (error) {\n",
              "        console.error('Error during call to suggestCharts:', error);\n",
              "      }\n",
              "      quickchartButtonEl.classList.remove('colab-df-spinner');\n",
              "      quickchartButtonEl.classList.add('colab-df-quickchart-complete');\n",
              "    }\n",
              "    (() => {\n",
              "      let quickchartButtonEl =\n",
              "        document.querySelector('#df-2c9e8ae5-c6d0-481c-8d89-4337517b5528 button');\n",
              "      quickchartButtonEl.style.display =\n",
              "        google.colab.kernel.accessAllowed ? 'block' : 'none';\n",
              "    })();\n",
              "  </script>\n",
              "</div>\n",
              "\n",
              "    </div>\n",
              "  </div>\n"
            ],
            "application/vnd.google.colaboratory.intrinsic+json": {
              "type": "dataframe",
              "variable_name": "df",
              "summary": "{\n  \"name\": \"df\",\n  \"rows\": 81086,\n  \"fields\": [\n    {\n      \"column\": \"product_id\",\n      \"properties\": {\n        \"dtype\": \"number\",\n        \"std\": 14110,\n        \"min\": 1,\n        \"max\": 49683,\n        \"num_unique_values\": 14611,\n        \"samples\": [\n          6224,\n          35619,\n          36346\n        ],\n        \"semantic_type\": \"\",\n        \"description\": \"\"\n      }\n    },\n    {\n      \"column\": \"add_to_cart_order\",\n      \"properties\": {\n        \"dtype\": \"number\",\n        \"std\": 7,\n        \"min\": 1,\n        \"max\": 96,\n        \"num_unique_values\": 71,\n        \"samples\": [\n          32,\n          3,\n          65\n        ],\n        \"semantic_type\": \"\",\n        \"description\": \"\"\n      }\n    },\n    {\n      \"column\": \"reordered\",\n      \"properties\": {\n        \"dtype\": \"number\",\n        \"std\": 0,\n        \"min\": 0,\n        \"max\": 1,\n        \"num_unique_values\": 2,\n        \"samples\": [\n          0,\n          1\n        ],\n        \"semantic_type\": \"\",\n        \"description\": \"\"\n      }\n    },\n    {\n      \"column\": \"order_dow\",\n      \"properties\": {\n        \"dtype\": \"number\",\n        \"std\": 2,\n        \"min\": 0,\n        \"max\": 6,\n        \"num_unique_values\": 7,\n        \"samples\": [\n          6,\n          0\n        ],\n        \"semantic_type\": \"\",\n        \"description\": \"\"\n      }\n    },\n    {\n      \"column\": \"order_hour_of_day\",\n      \"properties\": {\n        \"dtype\": \"number\",\n        \"std\": 4.234366248539415,\n        \"min\": 0.0,\n        \"max\": 23.0,\n        \"num_unique_values\": 24,\n        \"samples\": [\n          0.0,\n          21.0\n        ],\n        \"semantic_type\": \"\",\n        \"description\": \"\"\n      }\n    },\n    {\n      \"column\": \"days_since_prior_order\",\n      \"properties\": {\n        \"dtype\": \"number\",\n        \"std\": 6.458061922887067,\n        \"min\": 0.0,\n        \"max\": 29.0,\n        \"num_unique_values\": 30,\n        \"samples\": [\n          29.0,\n          10.0\n        ],\n        \"semantic_type\": \"\",\n        \"description\": \"\"\n      }\n    },\n    {\n      \"column\": \"aisle_category\",\n      \"properties\": {\n        \"dtype\": \"category\",\n        \"num_unique_values\": 7,\n        \"samples\": [\n          \"Packaged Foods\",\n          \"Other\"\n        ],\n        \"semantic_type\": \"\",\n        \"description\": \"\"\n      }\n    },\n    {\n      \"column\": \"aisle_category_Beverages\",\n      \"properties\": {\n        \"dtype\": \"number\",\n        \"std\": 0.251750672749375,\n        \"min\": 0.0,\n        \"max\": 1.0,\n        \"num_unique_values\": 2,\n        \"samples\": [\n          1.0,\n          0.0\n        ],\n        \"semantic_type\": \"\",\n        \"description\": \"\"\n      }\n    },\n    {\n      \"column\": \"aisle_category_Fresh Foods\",\n      \"properties\": {\n        \"dtype\": \"number\",\n        \"std\": 0.4238995699257558,\n        \"min\": 0.0,\n        \"max\": 1.0,\n        \"num_unique_values\": 2,\n        \"samples\": [\n          1.0,\n          0.0\n        ],\n        \"semantic_type\": \"\",\n        \"description\": \"\"\n      }\n    },\n    {\n      \"column\": \"aisle_category_Frozen & Refrigerated Items\",\n      \"properties\": {\n        \"dtype\": \"number\",\n        \"std\": 0.39087041551753227,\n        \"min\": 0.0,\n        \"max\": 1.0,\n        \"num_unique_values\": 2,\n        \"samples\": [\n          1.0,\n          0.0\n        ],\n        \"semantic_type\": \"\",\n        \"description\": \"\"\n      }\n    },\n    {\n      \"column\": \"aisle_category_Household & Personal Care\",\n      \"properties\": {\n        \"dtype\": \"number\",\n        \"std\": 0.16851560911697439,\n        \"min\": 0.0,\n        \"max\": 1.0,\n        \"num_unique_values\": 2,\n        \"samples\": [\n          1.0,\n          0.0\n        ],\n        \"semantic_type\": \"\",\n        \"description\": \"\"\n      }\n    },\n    {\n      \"column\": \"aisle_category_Other\",\n      \"properties\": {\n        \"dtype\": \"number\",\n        \"std\": 0.4061816590578496,\n        \"min\": 0.0,\n        \"max\": 1.0,\n        \"num_unique_values\": 2,\n        \"samples\": [\n          1.0,\n          0.0\n        ],\n        \"semantic_type\": \"\",\n        \"description\": \"\"\n      }\n    },\n    {\n      \"column\": \"aisle_category_Packaged Foods\",\n      \"properties\": {\n        \"dtype\": \"number\",\n        \"std\": 0.41555169385283336,\n        \"min\": 0.0,\n        \"max\": 1.0,\n        \"num_unique_values\": 2,\n        \"samples\": [\n          0.0,\n          1.0\n        ],\n        \"semantic_type\": \"\",\n        \"description\": \"\"\n      }\n    },\n    {\n      \"column\": \"aisle_category_Unknown\",\n      \"properties\": {\n        \"dtype\": \"number\",\n        \"std\": 0.21660948234089775,\n        \"min\": 0.0,\n        \"max\": 1.0,\n        \"num_unique_values\": 2,\n        \"samples\": [\n          1.0,\n          0.0\n        ],\n        \"semantic_type\": \"\",\n        \"description\": \"\"\n      }\n    }\n  ]\n}"
            }
          },
          "metadata": {},
          "execution_count": 180
        }
      ]
    },
    {
      "cell_type": "markdown",
      "source": [
        "Frequency encoding for product_id"
      ],
      "metadata": {
        "id": "d3k2HdHOafdg"
      }
    },
    {
      "cell_type": "code",
      "source": [
        "# frequency encoding for product_id\n",
        "freq_encoding = df.groupby('product_id').size() / len(df)\n",
        "df['product_id'] = df['product_id'].map(freq_encoding)\n",
        "df.head()"
      ],
      "metadata": {
        "colab": {
          "base_uri": "https://localhost:8080/",
          "height": 243
        },
        "id": "NYQUl-oSZg6A",
        "outputId": "1bf1de05-dadc-4f7d-b1fb-7d6877c5fefe"
      },
      "execution_count": null,
      "outputs": [
        {
          "output_type": "execute_result",
          "data": {
            "text/plain": [
              "   product_id  add_to_cart_order  reordered  order_dow  order_hour_of_day  \\\n",
              "0    0.000012                  3          1          6               18.0   \n",
              "1    0.000025                  2          0          0               11.0   \n",
              "2    0.000012                 13          1          0               13.0   \n",
              "3    0.002417                  2          0          0               13.0   \n",
              "4    0.000185                  4          0          5               14.0   \n",
              "\n",
              "   days_since_prior_order  aisle_category  aisle_category_Beverages  \\\n",
              "0                    16.0  Packaged Foods                       0.0   \n",
              "1                     3.0           Other                       0.0   \n",
              "2                     7.0  Packaged Foods                       0.0   \n",
              "3                     6.0     Fresh Foods                       0.0   \n",
              "4                     3.0         Unknown                       0.0   \n",
              "\n",
              "   aisle_category_Fresh Foods  aisle_category_Frozen & Refrigerated Items  \\\n",
              "0                         0.0                                         0.0   \n",
              "1                         0.0                                         0.0   \n",
              "2                         0.0                                         0.0   \n",
              "3                         1.0                                         0.0   \n",
              "4                         0.0                                         0.0   \n",
              "\n",
              "   aisle_category_Household & Personal Care  aisle_category_Other  \\\n",
              "0                                       0.0                   0.0   \n",
              "1                                       0.0                   1.0   \n",
              "2                                       0.0                   0.0   \n",
              "3                                       0.0                   0.0   \n",
              "4                                       0.0                   0.0   \n",
              "\n",
              "   aisle_category_Packaged Foods  aisle_category_Unknown  \n",
              "0                            1.0                     0.0  \n",
              "1                            0.0                     0.0  \n",
              "2                            1.0                     0.0  \n",
              "3                            0.0                     0.0  \n",
              "4                            0.0                     1.0  "
            ],
            "text/html": [
              "\n",
              "  <div id=\"df-aeb5a321-853b-4587-93ca-34369739325d\" class=\"colab-df-container\">\n",
              "    <div>\n",
              "<style scoped>\n",
              "    .dataframe tbody tr th:only-of-type {\n",
              "        vertical-align: middle;\n",
              "    }\n",
              "\n",
              "    .dataframe tbody tr th {\n",
              "        vertical-align: top;\n",
              "    }\n",
              "\n",
              "    .dataframe thead th {\n",
              "        text-align: right;\n",
              "    }\n",
              "</style>\n",
              "<table border=\"1\" class=\"dataframe\">\n",
              "  <thead>\n",
              "    <tr style=\"text-align: right;\">\n",
              "      <th></th>\n",
              "      <th>product_id</th>\n",
              "      <th>add_to_cart_order</th>\n",
              "      <th>reordered</th>\n",
              "      <th>order_dow</th>\n",
              "      <th>order_hour_of_day</th>\n",
              "      <th>days_since_prior_order</th>\n",
              "      <th>aisle_category</th>\n",
              "      <th>aisle_category_Beverages</th>\n",
              "      <th>aisle_category_Fresh Foods</th>\n",
              "      <th>aisle_category_Frozen &amp; Refrigerated Items</th>\n",
              "      <th>aisle_category_Household &amp; Personal Care</th>\n",
              "      <th>aisle_category_Other</th>\n",
              "      <th>aisle_category_Packaged Foods</th>\n",
              "      <th>aisle_category_Unknown</th>\n",
              "    </tr>\n",
              "  </thead>\n",
              "  <tbody>\n",
              "    <tr>\n",
              "      <th>0</th>\n",
              "      <td>0.000012</td>\n",
              "      <td>3</td>\n",
              "      <td>1</td>\n",
              "      <td>6</td>\n",
              "      <td>18.0</td>\n",
              "      <td>16.0</td>\n",
              "      <td>Packaged Foods</td>\n",
              "      <td>0.0</td>\n",
              "      <td>0.0</td>\n",
              "      <td>0.0</td>\n",
              "      <td>0.0</td>\n",
              "      <td>0.0</td>\n",
              "      <td>1.0</td>\n",
              "      <td>0.0</td>\n",
              "    </tr>\n",
              "    <tr>\n",
              "      <th>1</th>\n",
              "      <td>0.000025</td>\n",
              "      <td>2</td>\n",
              "      <td>0</td>\n",
              "      <td>0</td>\n",
              "      <td>11.0</td>\n",
              "      <td>3.0</td>\n",
              "      <td>Other</td>\n",
              "      <td>0.0</td>\n",
              "      <td>0.0</td>\n",
              "      <td>0.0</td>\n",
              "      <td>0.0</td>\n",
              "      <td>1.0</td>\n",
              "      <td>0.0</td>\n",
              "      <td>0.0</td>\n",
              "    </tr>\n",
              "    <tr>\n",
              "      <th>2</th>\n",
              "      <td>0.000012</td>\n",
              "      <td>13</td>\n",
              "      <td>1</td>\n",
              "      <td>0</td>\n",
              "      <td>13.0</td>\n",
              "      <td>7.0</td>\n",
              "      <td>Packaged Foods</td>\n",
              "      <td>0.0</td>\n",
              "      <td>0.0</td>\n",
              "      <td>0.0</td>\n",
              "      <td>0.0</td>\n",
              "      <td>0.0</td>\n",
              "      <td>1.0</td>\n",
              "      <td>0.0</td>\n",
              "    </tr>\n",
              "    <tr>\n",
              "      <th>3</th>\n",
              "      <td>0.002417</td>\n",
              "      <td>2</td>\n",
              "      <td>0</td>\n",
              "      <td>0</td>\n",
              "      <td>13.0</td>\n",
              "      <td>6.0</td>\n",
              "      <td>Fresh Foods</td>\n",
              "      <td>0.0</td>\n",
              "      <td>1.0</td>\n",
              "      <td>0.0</td>\n",
              "      <td>0.0</td>\n",
              "      <td>0.0</td>\n",
              "      <td>0.0</td>\n",
              "      <td>0.0</td>\n",
              "    </tr>\n",
              "    <tr>\n",
              "      <th>4</th>\n",
              "      <td>0.000185</td>\n",
              "      <td>4</td>\n",
              "      <td>0</td>\n",
              "      <td>5</td>\n",
              "      <td>14.0</td>\n",
              "      <td>3.0</td>\n",
              "      <td>Unknown</td>\n",
              "      <td>0.0</td>\n",
              "      <td>0.0</td>\n",
              "      <td>0.0</td>\n",
              "      <td>0.0</td>\n",
              "      <td>0.0</td>\n",
              "      <td>0.0</td>\n",
              "      <td>1.0</td>\n",
              "    </tr>\n",
              "  </tbody>\n",
              "</table>\n",
              "</div>\n",
              "    <div class=\"colab-df-buttons\">\n",
              "\n",
              "  <div class=\"colab-df-container\">\n",
              "    <button class=\"colab-df-convert\" onclick=\"convertToInteractive('df-aeb5a321-853b-4587-93ca-34369739325d')\"\n",
              "            title=\"Convert this dataframe to an interactive table.\"\n",
              "            style=\"display:none;\">\n",
              "\n",
              "  <svg xmlns=\"http://www.w3.org/2000/svg\" height=\"24px\" viewBox=\"0 -960 960 960\">\n",
              "    <path d=\"M120-120v-720h720v720H120Zm60-500h600v-160H180v160Zm220 220h160v-160H400v160Zm0 220h160v-160H400v160ZM180-400h160v-160H180v160Zm440 0h160v-160H620v160ZM180-180h160v-160H180v160Zm440 0h160v-160H620v160Z\"/>\n",
              "  </svg>\n",
              "    </button>\n",
              "\n",
              "  <style>\n",
              "    .colab-df-container {\n",
              "      display:flex;\n",
              "      gap: 12px;\n",
              "    }\n",
              "\n",
              "    .colab-df-convert {\n",
              "      background-color: #E8F0FE;\n",
              "      border: none;\n",
              "      border-radius: 50%;\n",
              "      cursor: pointer;\n",
              "      display: none;\n",
              "      fill: #1967D2;\n",
              "      height: 32px;\n",
              "      padding: 0 0 0 0;\n",
              "      width: 32px;\n",
              "    }\n",
              "\n",
              "    .colab-df-convert:hover {\n",
              "      background-color: #E2EBFA;\n",
              "      box-shadow: 0px 1px 2px rgba(60, 64, 67, 0.3), 0px 1px 3px 1px rgba(60, 64, 67, 0.15);\n",
              "      fill: #174EA6;\n",
              "    }\n",
              "\n",
              "    .colab-df-buttons div {\n",
              "      margin-bottom: 4px;\n",
              "    }\n",
              "\n",
              "    [theme=dark] .colab-df-convert {\n",
              "      background-color: #3B4455;\n",
              "      fill: #D2E3FC;\n",
              "    }\n",
              "\n",
              "    [theme=dark] .colab-df-convert:hover {\n",
              "      background-color: #434B5C;\n",
              "      box-shadow: 0px 1px 3px 1px rgba(0, 0, 0, 0.15);\n",
              "      filter: drop-shadow(0px 1px 2px rgba(0, 0, 0, 0.3));\n",
              "      fill: #FFFFFF;\n",
              "    }\n",
              "  </style>\n",
              "\n",
              "    <script>\n",
              "      const buttonEl =\n",
              "        document.querySelector('#df-aeb5a321-853b-4587-93ca-34369739325d button.colab-df-convert');\n",
              "      buttonEl.style.display =\n",
              "        google.colab.kernel.accessAllowed ? 'block' : 'none';\n",
              "\n",
              "      async function convertToInteractive(key) {\n",
              "        const element = document.querySelector('#df-aeb5a321-853b-4587-93ca-34369739325d');\n",
              "        const dataTable =\n",
              "          await google.colab.kernel.invokeFunction('convertToInteractive',\n",
              "                                                    [key], {});\n",
              "        if (!dataTable) return;\n",
              "\n",
              "        const docLinkHtml = 'Like what you see? Visit the ' +\n",
              "          '<a target=\"_blank\" href=https://colab.research.google.com/notebooks/data_table.ipynb>data table notebook</a>'\n",
              "          + ' to learn more about interactive tables.';\n",
              "        element.innerHTML = '';\n",
              "        dataTable['output_type'] = 'display_data';\n",
              "        await google.colab.output.renderOutput(dataTable, element);\n",
              "        const docLink = document.createElement('div');\n",
              "        docLink.innerHTML = docLinkHtml;\n",
              "        element.appendChild(docLink);\n",
              "      }\n",
              "    </script>\n",
              "  </div>\n",
              "\n",
              "\n",
              "<div id=\"df-a25465c5-8b98-4b90-b98f-0a4efd121d11\">\n",
              "  <button class=\"colab-df-quickchart\" onclick=\"quickchart('df-a25465c5-8b98-4b90-b98f-0a4efd121d11')\"\n",
              "            title=\"Suggest charts\"\n",
              "            style=\"display:none;\">\n",
              "\n",
              "<svg xmlns=\"http://www.w3.org/2000/svg\" height=\"24px\"viewBox=\"0 0 24 24\"\n",
              "     width=\"24px\">\n",
              "    <g>\n",
              "        <path d=\"M19 3H5c-1.1 0-2 .9-2 2v14c0 1.1.9 2 2 2h14c1.1 0 2-.9 2-2V5c0-1.1-.9-2-2-2zM9 17H7v-7h2v7zm4 0h-2V7h2v10zm4 0h-2v-4h2v4z\"/>\n",
              "    </g>\n",
              "</svg>\n",
              "  </button>\n",
              "\n",
              "<style>\n",
              "  .colab-df-quickchart {\n",
              "      --bg-color: #E8F0FE;\n",
              "      --fill-color: #1967D2;\n",
              "      --hover-bg-color: #E2EBFA;\n",
              "      --hover-fill-color: #174EA6;\n",
              "      --disabled-fill-color: #AAA;\n",
              "      --disabled-bg-color: #DDD;\n",
              "  }\n",
              "\n",
              "  [theme=dark] .colab-df-quickchart {\n",
              "      --bg-color: #3B4455;\n",
              "      --fill-color: #D2E3FC;\n",
              "      --hover-bg-color: #434B5C;\n",
              "      --hover-fill-color: #FFFFFF;\n",
              "      --disabled-bg-color: #3B4455;\n",
              "      --disabled-fill-color: #666;\n",
              "  }\n",
              "\n",
              "  .colab-df-quickchart {\n",
              "    background-color: var(--bg-color);\n",
              "    border: none;\n",
              "    border-radius: 50%;\n",
              "    cursor: pointer;\n",
              "    display: none;\n",
              "    fill: var(--fill-color);\n",
              "    height: 32px;\n",
              "    padding: 0;\n",
              "    width: 32px;\n",
              "  }\n",
              "\n",
              "  .colab-df-quickchart:hover {\n",
              "    background-color: var(--hover-bg-color);\n",
              "    box-shadow: 0 1px 2px rgba(60, 64, 67, 0.3), 0 1px 3px 1px rgba(60, 64, 67, 0.15);\n",
              "    fill: var(--button-hover-fill-color);\n",
              "  }\n",
              "\n",
              "  .colab-df-quickchart-complete:disabled,\n",
              "  .colab-df-quickchart-complete:disabled:hover {\n",
              "    background-color: var(--disabled-bg-color);\n",
              "    fill: var(--disabled-fill-color);\n",
              "    box-shadow: none;\n",
              "  }\n",
              "\n",
              "  .colab-df-spinner {\n",
              "    border: 2px solid var(--fill-color);\n",
              "    border-color: transparent;\n",
              "    border-bottom-color: var(--fill-color);\n",
              "    animation:\n",
              "      spin 1s steps(1) infinite;\n",
              "  }\n",
              "\n",
              "  @keyframes spin {\n",
              "    0% {\n",
              "      border-color: transparent;\n",
              "      border-bottom-color: var(--fill-color);\n",
              "      border-left-color: var(--fill-color);\n",
              "    }\n",
              "    20% {\n",
              "      border-color: transparent;\n",
              "      border-left-color: var(--fill-color);\n",
              "      border-top-color: var(--fill-color);\n",
              "    }\n",
              "    30% {\n",
              "      border-color: transparent;\n",
              "      border-left-color: var(--fill-color);\n",
              "      border-top-color: var(--fill-color);\n",
              "      border-right-color: var(--fill-color);\n",
              "    }\n",
              "    40% {\n",
              "      border-color: transparent;\n",
              "      border-right-color: var(--fill-color);\n",
              "      border-top-color: var(--fill-color);\n",
              "    }\n",
              "    60% {\n",
              "      border-color: transparent;\n",
              "      border-right-color: var(--fill-color);\n",
              "    }\n",
              "    80% {\n",
              "      border-color: transparent;\n",
              "      border-right-color: var(--fill-color);\n",
              "      border-bottom-color: var(--fill-color);\n",
              "    }\n",
              "    90% {\n",
              "      border-color: transparent;\n",
              "      border-bottom-color: var(--fill-color);\n",
              "    }\n",
              "  }\n",
              "</style>\n",
              "\n",
              "  <script>\n",
              "    async function quickchart(key) {\n",
              "      const quickchartButtonEl =\n",
              "        document.querySelector('#' + key + ' button');\n",
              "      quickchartButtonEl.disabled = true;  // To prevent multiple clicks.\n",
              "      quickchartButtonEl.classList.add('colab-df-spinner');\n",
              "      try {\n",
              "        const charts = await google.colab.kernel.invokeFunction(\n",
              "            'suggestCharts', [key], {});\n",
              "      } catch (error) {\n",
              "        console.error('Error during call to suggestCharts:', error);\n",
              "      }\n",
              "      quickchartButtonEl.classList.remove('colab-df-spinner');\n",
              "      quickchartButtonEl.classList.add('colab-df-quickchart-complete');\n",
              "    }\n",
              "    (() => {\n",
              "      let quickchartButtonEl =\n",
              "        document.querySelector('#df-a25465c5-8b98-4b90-b98f-0a4efd121d11 button');\n",
              "      quickchartButtonEl.style.display =\n",
              "        google.colab.kernel.accessAllowed ? 'block' : 'none';\n",
              "    })();\n",
              "  </script>\n",
              "</div>\n",
              "\n",
              "    </div>\n",
              "  </div>\n"
            ],
            "application/vnd.google.colaboratory.intrinsic+json": {
              "type": "dataframe",
              "variable_name": "df",
              "summary": "{\n  \"name\": \"df\",\n  \"rows\": 81086,\n  \"fields\": [\n    {\n      \"column\": \"product_id\",\n      \"properties\": {\n        \"dtype\": \"number\",\n        \"std\": 0.002407534934451771,\n        \"min\": 1.2332585156500506e-05,\n        \"max\": 0.013960486397158573,\n        \"num_unique_values\": 153,\n        \"samples\": [\n          0.0009126113015810374,\n          0.007461214019682806,\n          0.0025898428828651063\n        ],\n        \"semantic_type\": \"\",\n        \"description\": \"\"\n      }\n    },\n    {\n      \"column\": \"add_to_cart_order\",\n      \"properties\": {\n        \"dtype\": \"number\",\n        \"std\": 7,\n        \"min\": 1,\n        \"max\": 96,\n        \"num_unique_values\": 71,\n        \"samples\": [\n          32,\n          3,\n          65\n        ],\n        \"semantic_type\": \"\",\n        \"description\": \"\"\n      }\n    },\n    {\n      \"column\": \"reordered\",\n      \"properties\": {\n        \"dtype\": \"number\",\n        \"std\": 0,\n        \"min\": 0,\n        \"max\": 1,\n        \"num_unique_values\": 2,\n        \"samples\": [\n          0,\n          1\n        ],\n        \"semantic_type\": \"\",\n        \"description\": \"\"\n      }\n    },\n    {\n      \"column\": \"order_dow\",\n      \"properties\": {\n        \"dtype\": \"number\",\n        \"std\": 2,\n        \"min\": 0,\n        \"max\": 6,\n        \"num_unique_values\": 7,\n        \"samples\": [\n          6,\n          0\n        ],\n        \"semantic_type\": \"\",\n        \"description\": \"\"\n      }\n    },\n    {\n      \"column\": \"order_hour_of_day\",\n      \"properties\": {\n        \"dtype\": \"number\",\n        \"std\": 4.234366248539415,\n        \"min\": 0.0,\n        \"max\": 23.0,\n        \"num_unique_values\": 24,\n        \"samples\": [\n          0.0,\n          21.0\n        ],\n        \"semantic_type\": \"\",\n        \"description\": \"\"\n      }\n    },\n    {\n      \"column\": \"days_since_prior_order\",\n      \"properties\": {\n        \"dtype\": \"number\",\n        \"std\": 6.458061922887067,\n        \"min\": 0.0,\n        \"max\": 29.0,\n        \"num_unique_values\": 30,\n        \"samples\": [\n          29.0,\n          10.0\n        ],\n        \"semantic_type\": \"\",\n        \"description\": \"\"\n      }\n    },\n    {\n      \"column\": \"aisle_category\",\n      \"properties\": {\n        \"dtype\": \"category\",\n        \"num_unique_values\": 7,\n        \"samples\": [\n          \"Packaged Foods\",\n          \"Other\"\n        ],\n        \"semantic_type\": \"\",\n        \"description\": \"\"\n      }\n    },\n    {\n      \"column\": \"aisle_category_Beverages\",\n      \"properties\": {\n        \"dtype\": \"number\",\n        \"std\": 0.251750672749375,\n        \"min\": 0.0,\n        \"max\": 1.0,\n        \"num_unique_values\": 2,\n        \"samples\": [\n          1.0,\n          0.0\n        ],\n        \"semantic_type\": \"\",\n        \"description\": \"\"\n      }\n    },\n    {\n      \"column\": \"aisle_category_Fresh Foods\",\n      \"properties\": {\n        \"dtype\": \"number\",\n        \"std\": 0.4238995699257558,\n        \"min\": 0.0,\n        \"max\": 1.0,\n        \"num_unique_values\": 2,\n        \"samples\": [\n          1.0,\n          0.0\n        ],\n        \"semantic_type\": \"\",\n        \"description\": \"\"\n      }\n    },\n    {\n      \"column\": \"aisle_category_Frozen & Refrigerated Items\",\n      \"properties\": {\n        \"dtype\": \"number\",\n        \"std\": 0.39087041551753227,\n        \"min\": 0.0,\n        \"max\": 1.0,\n        \"num_unique_values\": 2,\n        \"samples\": [\n          1.0,\n          0.0\n        ],\n        \"semantic_type\": \"\",\n        \"description\": \"\"\n      }\n    },\n    {\n      \"column\": \"aisle_category_Household & Personal Care\",\n      \"properties\": {\n        \"dtype\": \"number\",\n        \"std\": 0.16851560911697439,\n        \"min\": 0.0,\n        \"max\": 1.0,\n        \"num_unique_values\": 2,\n        \"samples\": [\n          1.0,\n          0.0\n        ],\n        \"semantic_type\": \"\",\n        \"description\": \"\"\n      }\n    },\n    {\n      \"column\": \"aisle_category_Other\",\n      \"properties\": {\n        \"dtype\": \"number\",\n        \"std\": 0.4061816590578496,\n        \"min\": 0.0,\n        \"max\": 1.0,\n        \"num_unique_values\": 2,\n        \"samples\": [\n          1.0,\n          0.0\n        ],\n        \"semantic_type\": \"\",\n        \"description\": \"\"\n      }\n    },\n    {\n      \"column\": \"aisle_category_Packaged Foods\",\n      \"properties\": {\n        \"dtype\": \"number\",\n        \"std\": 0.41555169385283336,\n        \"min\": 0.0,\n        \"max\": 1.0,\n        \"num_unique_values\": 2,\n        \"samples\": [\n          0.0,\n          1.0\n        ],\n        \"semantic_type\": \"\",\n        \"description\": \"\"\n      }\n    },\n    {\n      \"column\": \"aisle_category_Unknown\",\n      \"properties\": {\n        \"dtype\": \"number\",\n        \"std\": 0.21660948234089775,\n        \"min\": 0.0,\n        \"max\": 1.0,\n        \"num_unique_values\": 2,\n        \"samples\": [\n          1.0,\n          0.0\n        ],\n        \"semantic_type\": \"\",\n        \"description\": \"\"\n      }\n    }\n  ]\n}"
            }
          },
          "metadata": {},
          "execution_count": 181
        }
      ]
    },
    {
      "cell_type": "markdown",
      "source": [
        "We can also eliminate the unknown category values as they are not very representative"
      ],
      "metadata": {
        "id": "S6AOwOBjbxmv"
      }
    },
    {
      "cell_type": "code",
      "source": [
        "(df['aisle_category_Unknown'] == 1).sum()"
      ],
      "metadata": {
        "colab": {
          "base_uri": "https://localhost:8080/"
        },
        "id": "6xtNL3cGbnIq",
        "outputId": "43cf223f-c373-4aa7-b59f-c272612e6ff6"
      },
      "execution_count": null,
      "outputs": [
        {
          "output_type": "execute_result",
          "data": {
            "text/plain": [
              "4002"
            ]
          },
          "metadata": {},
          "execution_count": 182
        }
      ]
    },
    {
      "cell_type": "code",
      "source": [
        "df.drop(columns=[\"aisle_category_Unknown\", \"aisle_category\"], inplace=True)"
      ],
      "metadata": {
        "id": "Bs-EKS96cOBI"
      },
      "execution_count": null,
      "outputs": []
    },
    {
      "cell_type": "code",
      "source": [
        "print(df.describe())"
      ],
      "metadata": {
        "colab": {
          "base_uri": "https://localhost:8080/"
        },
        "id": "EFFUqEVSbLxI",
        "outputId": "bae69acf-410b-48cd-a448-d36ac5697cae"
      },
      "execution_count": null,
      "outputs": [
        {
          "output_type": "stream",
          "name": "stdout",
          "text": [
            "         product_id  add_to_cart_order     reordered     order_dow  \\\n",
            "count  81086.000000       81086.000000  81086.000000  81086.000000   \n",
            "mean       0.001112           8.373196      0.587142      2.740054   \n",
            "std        0.002408           7.180807      0.492351      2.087572   \n",
            "min        0.000012           1.000000      0.000000      0.000000   \n",
            "25%        0.000062           3.000000      0.000000      1.000000   \n",
            "50%        0.000222           6.000000      1.000000      3.000000   \n",
            "75%        0.000913          12.000000      1.000000      5.000000   \n",
            "max        0.013960          96.000000      1.000000      6.000000   \n",
            "\n",
            "       order_hour_of_day  days_since_prior_order  aisle_category_Beverages  \\\n",
            "count       81086.000000            81086.000000              81086.000000   \n",
            "mean           13.349320                7.913388                  0.068002   \n",
            "std             4.234366                6.458062                  0.251751   \n",
            "min             0.000000                0.000000                  0.000000   \n",
            "25%            10.000000                3.000000                  0.000000   \n",
            "50%            13.000000                7.000000                  0.000000   \n",
            "75%            16.000000               10.000000                  0.000000   \n",
            "max            23.000000               29.000000                  1.000000   \n",
            "\n",
            "       aisle_category_Fresh Foods  aisle_category_Frozen & Refrigerated Items  \\\n",
            "count                81086.000000                                81086.000000   \n",
            "mean                     0.234837                                    0.188195   \n",
            "std                      0.423900                                    0.390870   \n",
            "min                      0.000000                                    0.000000   \n",
            "25%                      0.000000                                    0.000000   \n",
            "50%                      0.000000                                    0.000000   \n",
            "75%                      0.000000                                    0.000000   \n",
            "max                      1.000000                                    1.000000   \n",
            "\n",
            "       aisle_category_Household & Personal Care  aisle_category_Other  \\\n",
            "count                              81086.000000          81086.000000   \n",
            "mean                                   0.029253              0.208421   \n",
            "std                                    0.168516              0.406182   \n",
            "min                                    0.000000              0.000000   \n",
            "25%                                    0.000000              0.000000   \n",
            "50%                                    0.000000              0.000000   \n",
            "75%                                    0.000000              0.000000   \n",
            "max                                    1.000000              1.000000   \n",
            "\n",
            "       aisle_category_Packaged Foods  \n",
            "count                   81086.000000  \n",
            "mean                        0.221937  \n",
            "std                         0.415552  \n",
            "min                         0.000000  \n",
            "25%                         0.000000  \n",
            "50%                         0.000000  \n",
            "75%                         0.000000  \n",
            "max                         1.000000  \n"
          ]
        }
      ]
    },
    {
      "cell_type": "markdown",
      "source": [
        "## Train-test split"
      ],
      "metadata": {
        "id": "0yqzeiGsdYYh"
      }
    },
    {
      "cell_type": "code",
      "source": [
        "# Assuming `df` is your original DataFrame\n",
        "X = df.drop('reordered', axis=1)  # Features (all columns except 'reordered')\n",
        "y = df['reordered']  # Target variable\n",
        "\n",
        "# Split the data (80% for training, 20% for testing)\n",
        "X_train, X_test, y_train, y_test = train_test_split(X, y, test_size=0.2, random_state=42)\n",
        "\n",
        "# Check the shapes of your data after splitting\n",
        "print(f\"X_train shape: {X_train.shape}\")\n",
        "print(f\"X_test shape: {X_test.shape}\")\n"
      ],
      "metadata": {
        "colab": {
          "base_uri": "https://localhost:8080/"
        },
        "id": "huJWcALJdaEI",
        "outputId": "9b4d6b52-44ba-4253-f79b-daf207487354"
      },
      "execution_count": null,
      "outputs": [
        {
          "output_type": "stream",
          "name": "stdout",
          "text": [
            "X_train shape: (64868, 11)\n",
            "X_test shape: (16218, 11)\n"
          ]
        }
      ]
    },
    {
      "cell_type": "markdown",
      "source": [
        "## Training"
      ],
      "metadata": {
        "id": "I29cHmAYeInP"
      }
    },
    {
      "cell_type": "code",
      "source": [
        "# function to create the Keras model with hyperparameters\n",
        "def create_model(optimizer='adam', dropout_rate=0.2, neurons=128):\n",
        "    model = Sequential([\n",
        "        Dense(neurons, input_dim=X_train.shape[1], activation='relu'),  # Input layer for your data\n",
        "        Dropout(dropout_rate),\n",
        "        Dense(128, activation='relu'),\n",
        "        Dropout(dropout_rate),\n",
        "        Dense(1, activation='sigmoid')  # Sigmoid for binary classification\n",
        "    ])\n",
        "\n",
        "    model.compile(optimizer=optimizer, loss='binary_crossentropy', metrics=['accuracy'])\n",
        "    return model\n",
        "\n",
        "# Wrap the model using KerasClassifier\n",
        "model = KerasClassifier(build_fn=create_model, epochs=10, batch_size=32, verbose=0)\n",
        "\n",
        "# Define the hyperparameters grid, using 'model__' prefix for model parameters\n",
        "param_grid = {\n",
        "    'model__optimizer': ['adam', 'rmsprop'],\n",
        "    'model__dropout_rate': [0.2, 0.3],\n",
        "    'model__neurons': [64, 128, 256],\n",
        "    'batch_size': [32, 64],\n",
        "    'epochs': [10, 20]\n",
        "}\n",
        "\n",
        "grid = GridSearchCV(estimator=model, param_grid=param_grid, cv=3, verbose=2, n_jobs=-1)\n",
        "\n",
        "# Fit the grid search to your data\n",
        "grid_result = grid.fit(X_train, y_train)\n",
        "\n",
        "# Print the best parameters and best score\n",
        "print(f\"Best Parameters: {grid_result.best_params_}\")\n",
        "print(f\"Best Score: {grid_result.best_score_}\")"
      ],
      "metadata": {
        "id": "IyQqGi_NhmQs",
        "colab": {
          "base_uri": "https://localhost:8080/"
        },
        "outputId": "aeb5a846-6798-434e-ab24-8f8cc0600edc"
      },
      "execution_count": null,
      "outputs": [
        {
          "output_type": "stream",
          "name": "stdout",
          "text": [
            "Fitting 3 folds for each of 48 candidates, totalling 144 fits\n"
          ]
        },
        {
          "output_type": "stream",
          "name": "stderr",
          "text": [
            "/usr/local/lib/python3.10/dist-packages/joblib/externals/loky/process_executor.py:752: UserWarning: A worker stopped while some jobs were given to the executor. This can be caused by a too short worker timeout or by a memory leak.\n",
            "  warnings.warn(\n",
            "/usr/local/lib/python3.10/dist-packages/scikeras/wrappers.py:925: UserWarning: ``build_fn`` will be renamed to ``model`` in a future release, at which point use of ``build_fn`` will raise an Error instead.\n",
            "  X, y = self._initialize(X, y)\n",
            "/usr/local/lib/python3.10/dist-packages/keras/src/layers/core/dense.py:87: UserWarning: Do not pass an `input_shape`/`input_dim` argument to a layer. When using Sequential models, prefer using an `Input(shape)` object as the first layer in the model instead.\n",
            "  super().__init__(activity_regularizer=activity_regularizer, **kwargs)\n"
          ]
        },
        {
          "output_type": "stream",
          "name": "stdout",
          "text": [
            "Best Parameters: {'batch_size': 32, 'epochs': 20, 'model__dropout_rate': 0.2, 'model__neurons': 256, 'model__optimizer': 'adam'}\n",
            "Best Score: 0.6311894079652863\n"
          ]
        }
      ]
    },
    {
      "cell_type": "code",
      "source": [
        "# Deep learning classification model\n",
        "model = Sequential()\n",
        "model.add(Dense(128, input_dim=X_train.shape[1], activation='relu'))\n",
        "model.add(Dropout(0.2))  # Regularization to prevent overfitting\n",
        "# Hidden layer 1\n",
        "model.add(Dense(64, activation='relu'))\n",
        "model.add(Dropout(0.2))\n",
        "# Hidden layer 2\n",
        "model.add(Dense(32, activation='relu'))\n",
        "# Output layer: For predicting binary values (0 or 1), use a sigmoid activation\n",
        "model.add(Dense(1, activation='sigmoid'))\n",
        "\n",
        "model.compile(optimizer=Adam(), loss='binary_crossentropy', metrics=['accuracy'])\n",
        "\n",
        "# Train the model\n",
        "history = model.fit(X_train, y_train, epochs=50, batch_size=32, validation_data=(X_test, y_test))\n",
        "\n",
        "# Step 6: Evaluate the model\n",
        "loss, accuracy = model.evaluate(X_test, y_test)\n",
        "print(f'Test loss: {loss}')\n",
        "print(f'Test accuracy: {accuracy}')"
      ],
      "metadata": {
        "colab": {
          "base_uri": "https://localhost:8080/"
        },
        "id": "zZpFfjd4eJv_",
        "outputId": "22187003-0375-433b-a33c-601187678509"
      },
      "execution_count": null,
      "outputs": [
        {
          "output_type": "stream",
          "name": "stdout",
          "text": [
            "Epoch 1/50\n"
          ]
        },
        {
          "output_type": "stream",
          "name": "stderr",
          "text": [
            "/usr/local/lib/python3.10/dist-packages/keras/src/layers/core/dense.py:87: UserWarning: Do not pass an `input_shape`/`input_dim` argument to a layer. When using Sequential models, prefer using an `Input(shape)` object as the first layer in the model instead.\n",
            "  super().__init__(activity_regularizer=activity_regularizer, **kwargs)\n"
          ]
        },
        {
          "output_type": "stream",
          "name": "stdout",
          "text": [
            "\u001b[1m2028/2028\u001b[0m \u001b[32m━━━━━━━━━━━━━━━━━━━━\u001b[0m\u001b[37m\u001b[0m \u001b[1m8s\u001b[0m 3ms/step - accuracy: 0.5851 - loss: 0.6883 - val_accuracy: 0.5914 - val_loss: 0.6668\n",
            "Epoch 2/50\n",
            "\u001b[1m2028/2028\u001b[0m \u001b[32m━━━━━━━━━━━━━━━━━━━━\u001b[0m\u001b[37m\u001b[0m \u001b[1m4s\u001b[0m 2ms/step - accuracy: 0.5943 - loss: 0.6688 - val_accuracy: 0.5915 - val_loss: 0.6667\n",
            "Epoch 3/50\n",
            "\u001b[1m2028/2028\u001b[0m \u001b[32m━━━━━━━━━━━━━━━━━━━━\u001b[0m\u001b[37m\u001b[0m \u001b[1m4s\u001b[0m 2ms/step - accuracy: 0.5974 - loss: 0.6647 - val_accuracy: 0.6049 - val_loss: 0.6596\n",
            "Epoch 4/50\n",
            "\u001b[1m2028/2028\u001b[0m \u001b[32m━━━━━━━━━━━━━━━━━━━━\u001b[0m\u001b[37m\u001b[0m \u001b[1m4s\u001b[0m 2ms/step - accuracy: 0.5965 - loss: 0.6633 - val_accuracy: 0.6026 - val_loss: 0.6601\n",
            "Epoch 5/50\n",
            "\u001b[1m2028/2028\u001b[0m \u001b[32m━━━━━━━━━━━━━━━━━━━━\u001b[0m\u001b[37m\u001b[0m \u001b[1m4s\u001b[0m 2ms/step - accuracy: 0.6052 - loss: 0.6599 - val_accuracy: 0.6051 - val_loss: 0.6588\n",
            "Epoch 6/50\n",
            "\u001b[1m2028/2028\u001b[0m \u001b[32m━━━━━━━━━━━━━━━━━━━━\u001b[0m\u001b[37m\u001b[0m \u001b[1m4s\u001b[0m 2ms/step - accuracy: 0.6062 - loss: 0.6581 - val_accuracy: 0.6046 - val_loss: 0.6573\n",
            "Epoch 7/50\n",
            "\u001b[1m2028/2028\u001b[0m \u001b[32m━━━━━━━━━━━━━━━━━━━━\u001b[0m\u001b[37m\u001b[0m \u001b[1m4s\u001b[0m 2ms/step - accuracy: 0.6014 - loss: 0.6599 - val_accuracy: 0.6017 - val_loss: 0.6588\n",
            "Epoch 8/50\n",
            "\u001b[1m2028/2028\u001b[0m \u001b[32m━━━━━━━━━━━━━━━━━━━━\u001b[0m\u001b[37m\u001b[0m \u001b[1m4s\u001b[0m 2ms/step - accuracy: 0.6096 - loss: 0.6567 - val_accuracy: 0.6080 - val_loss: 0.6553\n",
            "Epoch 9/50\n",
            "\u001b[1m2028/2028\u001b[0m \u001b[32m━━━━━━━━━━━━━━━━━━━━\u001b[0m\u001b[37m\u001b[0m \u001b[1m4s\u001b[0m 2ms/step - accuracy: 0.6098 - loss: 0.6556 - val_accuracy: 0.6125 - val_loss: 0.6532\n",
            "Epoch 10/50\n",
            "\u001b[1m2028/2028\u001b[0m \u001b[32m━━━━━━━━━━━━━━━━━━━━\u001b[0m\u001b[37m\u001b[0m \u001b[1m4s\u001b[0m 2ms/step - accuracy: 0.6031 - loss: 0.6579 - val_accuracy: 0.6104 - val_loss: 0.6514\n",
            "Epoch 11/50\n",
            "\u001b[1m2028/2028\u001b[0m \u001b[32m━━━━━━━━━━━━━━━━━━━━\u001b[0m\u001b[37m\u001b[0m \u001b[1m4s\u001b[0m 2ms/step - accuracy: 0.6096 - loss: 0.6551 - val_accuracy: 0.6075 - val_loss: 0.6531\n",
            "Epoch 12/50\n",
            "\u001b[1m2028/2028\u001b[0m \u001b[32m━━━━━━━━━━━━━━━━━━━━\u001b[0m\u001b[37m\u001b[0m \u001b[1m4s\u001b[0m 2ms/step - accuracy: 0.6145 - loss: 0.6512 - val_accuracy: 0.6241 - val_loss: 0.6462\n",
            "Epoch 13/50\n",
            "\u001b[1m2028/2028\u001b[0m \u001b[32m━━━━━━━━━━━━━━━━━━━━\u001b[0m\u001b[37m\u001b[0m \u001b[1m4s\u001b[0m 2ms/step - accuracy: 0.6209 - loss: 0.6494 - val_accuracy: 0.6359 - val_loss: 0.6437\n",
            "Epoch 14/50\n",
            "\u001b[1m2028/2028\u001b[0m \u001b[32m━━━━━━━━━━━━━━━━━━━━\u001b[0m\u001b[37m\u001b[0m \u001b[1m4s\u001b[0m 2ms/step - accuracy: 0.6222 - loss: 0.6474 - val_accuracy: 0.6357 - val_loss: 0.6402\n",
            "Epoch 15/50\n",
            "\u001b[1m2028/2028\u001b[0m \u001b[32m━━━━━━━━━━━━━━━━━━━━\u001b[0m\u001b[37m\u001b[0m \u001b[1m4s\u001b[0m 2ms/step - accuracy: 0.6318 - loss: 0.6445 - val_accuracy: 0.6345 - val_loss: 0.6424\n",
            "Epoch 16/50\n",
            "\u001b[1m2028/2028\u001b[0m \u001b[32m━━━━━━━━━━━━━━━━━━━━\u001b[0m\u001b[37m\u001b[0m \u001b[1m4s\u001b[0m 2ms/step - accuracy: 0.6255 - loss: 0.6479 - val_accuracy: 0.6273 - val_loss: 0.6435\n",
            "Epoch 17/50\n",
            "\u001b[1m2028/2028\u001b[0m \u001b[32m━━━━━━━━━━━━━━━━━━━━\u001b[0m\u001b[37m\u001b[0m \u001b[1m4s\u001b[0m 2ms/step - accuracy: 0.6273 - loss: 0.6464 - val_accuracy: 0.6386 - val_loss: 0.6394\n",
            "Epoch 18/50\n",
            "\u001b[1m2028/2028\u001b[0m \u001b[32m━━━━━━━━━━━━━━━━━━━━\u001b[0m\u001b[37m\u001b[0m \u001b[1m4s\u001b[0m 2ms/step - accuracy: 0.6296 - loss: 0.6449 - val_accuracy: 0.6353 - val_loss: 0.6408\n",
            "Epoch 19/50\n",
            "\u001b[1m2028/2028\u001b[0m \u001b[32m━━━━━━━━━━━━━━━━━━━━\u001b[0m\u001b[37m\u001b[0m \u001b[1m4s\u001b[0m 2ms/step - accuracy: 0.6310 - loss: 0.6424 - val_accuracy: 0.6215 - val_loss: 0.6451\n",
            "Epoch 20/50\n",
            "\u001b[1m2028/2028\u001b[0m \u001b[32m━━━━━━━━━━━━━━━━━━━━\u001b[0m\u001b[37m\u001b[0m \u001b[1m3s\u001b[0m 2ms/step - accuracy: 0.6317 - loss: 0.6432 - val_accuracy: 0.6339 - val_loss: 0.6421\n",
            "Epoch 21/50\n",
            "\u001b[1m2028/2028\u001b[0m \u001b[32m━━━━━━━━━━━━━━━━━━━━\u001b[0m\u001b[37m\u001b[0m \u001b[1m4s\u001b[0m 2ms/step - accuracy: 0.6346 - loss: 0.6432 - val_accuracy: 0.6303 - val_loss: 0.6414\n",
            "Epoch 22/50\n",
            "\u001b[1m2028/2028\u001b[0m \u001b[32m━━━━━━━━━━━━━━━━━━━━\u001b[0m\u001b[37m\u001b[0m \u001b[1m3s\u001b[0m 2ms/step - accuracy: 0.6317 - loss: 0.6443 - val_accuracy: 0.6165 - val_loss: 0.6484\n",
            "Epoch 23/50\n",
            "\u001b[1m2028/2028\u001b[0m \u001b[32m━━━━━━━━━━━━━━━━━━━━\u001b[0m\u001b[37m\u001b[0m \u001b[1m3s\u001b[0m 2ms/step - accuracy: 0.6315 - loss: 0.6434 - val_accuracy: 0.6072 - val_loss: 0.6584\n",
            "Epoch 24/50\n",
            "\u001b[1m2028/2028\u001b[0m \u001b[32m━━━━━━━━━━━━━━━━━━━━\u001b[0m\u001b[37m\u001b[0m \u001b[1m4s\u001b[0m 2ms/step - accuracy: 0.6188 - loss: 0.6520 - val_accuracy: 0.5986 - val_loss: 0.6669\n",
            "Epoch 25/50\n",
            "\u001b[1m2028/2028\u001b[0m \u001b[32m━━━━━━━━━━━━━━━━━━━━\u001b[0m\u001b[37m\u001b[0m \u001b[1m4s\u001b[0m 2ms/step - accuracy: 0.6072 - loss: 0.6561 - val_accuracy: 0.6365 - val_loss: 0.6410\n",
            "Epoch 26/50\n",
            "\u001b[1m2028/2028\u001b[0m \u001b[32m━━━━━━━━━━━━━━━━━━━━\u001b[0m\u001b[37m\u001b[0m \u001b[1m3s\u001b[0m 2ms/step - accuracy: 0.6297 - loss: 0.6449 - val_accuracy: 0.6379 - val_loss: 0.6392\n",
            "Epoch 27/50\n",
            "\u001b[1m2028/2028\u001b[0m \u001b[32m━━━━━━━━━━━━━━━━━━━━\u001b[0m\u001b[37m\u001b[0m \u001b[1m3s\u001b[0m 2ms/step - accuracy: 0.6287 - loss: 0.6441 - val_accuracy: 0.6402 - val_loss: 0.6374\n",
            "Epoch 28/50\n",
            "\u001b[1m2028/2028\u001b[0m \u001b[32m━━━━━━━━━━━━━━━━━━━━\u001b[0m\u001b[37m\u001b[0m \u001b[1m4s\u001b[0m 2ms/step - accuracy: 0.6304 - loss: 0.6437 - val_accuracy: 0.6408 - val_loss: 0.6386\n",
            "Epoch 29/50\n",
            "\u001b[1m2028/2028\u001b[0m \u001b[32m━━━━━━━━━━━━━━━━━━━━\u001b[0m\u001b[37m\u001b[0m \u001b[1m3s\u001b[0m 2ms/step - accuracy: 0.6343 - loss: 0.6412 - val_accuracy: 0.6371 - val_loss: 0.6385\n",
            "Epoch 30/50\n",
            "\u001b[1m2028/2028\u001b[0m \u001b[32m━━━━━━━━━━━━━━━━━━━━\u001b[0m\u001b[37m\u001b[0m \u001b[1m3s\u001b[0m 2ms/step - accuracy: 0.6336 - loss: 0.6419 - val_accuracy: 0.6383 - val_loss: 0.6381\n",
            "Epoch 31/50\n",
            "\u001b[1m2028/2028\u001b[0m \u001b[32m━━━━━━━━━━━━━━━━━━━━\u001b[0m\u001b[37m\u001b[0m \u001b[1m4s\u001b[0m 2ms/step - accuracy: 0.6381 - loss: 0.6407 - val_accuracy: 0.6326 - val_loss: 0.6424\n",
            "Epoch 32/50\n",
            "\u001b[1m2028/2028\u001b[0m \u001b[32m━━━━━━━━━━━━━━━━━━━━\u001b[0m\u001b[37m\u001b[0m \u001b[1m4s\u001b[0m 2ms/step - accuracy: 0.6400 - loss: 0.6387 - val_accuracy: 0.6413 - val_loss: 0.6394\n",
            "Epoch 33/50\n",
            "\u001b[1m2028/2028\u001b[0m \u001b[32m━━━━━━━━━━━━━━━━━━━━\u001b[0m\u001b[37m\u001b[0m \u001b[1m3s\u001b[0m 2ms/step - accuracy: 0.6313 - loss: 0.6439 - val_accuracy: 0.6397 - val_loss: 0.6383\n",
            "Epoch 34/50\n",
            "\u001b[1m2028/2028\u001b[0m \u001b[32m━━━━━━━━━━━━━━━━━━━━\u001b[0m\u001b[37m\u001b[0m \u001b[1m3s\u001b[0m 2ms/step - accuracy: 0.6342 - loss: 0.6422 - val_accuracy: 0.6406 - val_loss: 0.6378\n",
            "Epoch 35/50\n",
            "\u001b[1m2028/2028\u001b[0m \u001b[32m━━━━━━━━━━━━━━━━━━━━\u001b[0m\u001b[37m\u001b[0m \u001b[1m4s\u001b[0m 2ms/step - accuracy: 0.6395 - loss: 0.6384 - val_accuracy: 0.6403 - val_loss: 0.6378\n",
            "Epoch 36/50\n",
            "\u001b[1m2028/2028\u001b[0m \u001b[32m━━━━━━━━━━━━━━━━━━━━\u001b[0m\u001b[37m\u001b[0m \u001b[1m4s\u001b[0m 2ms/step - accuracy: 0.6387 - loss: 0.6384 - val_accuracy: 0.6335 - val_loss: 0.6421\n",
            "Epoch 37/50\n",
            "\u001b[1m2028/2028\u001b[0m \u001b[32m━━━━━━━━━━━━━━━━━━━━\u001b[0m\u001b[37m\u001b[0m \u001b[1m4s\u001b[0m 2ms/step - accuracy: 0.6358 - loss: 0.6409 - val_accuracy: 0.6377 - val_loss: 0.6417\n",
            "Epoch 38/50\n",
            "\u001b[1m2028/2028\u001b[0m \u001b[32m━━━━━━━━━━━━━━━━━━━━\u001b[0m\u001b[37m\u001b[0m \u001b[1m4s\u001b[0m 2ms/step - accuracy: 0.6266 - loss: 0.6459 - val_accuracy: 0.6367 - val_loss: 0.6393\n",
            "Epoch 39/50\n",
            "\u001b[1m2028/2028\u001b[0m \u001b[32m━━━━━━━━━━━━━━━━━━━━\u001b[0m\u001b[37m\u001b[0m \u001b[1m4s\u001b[0m 2ms/step - accuracy: 0.6354 - loss: 0.6417 - val_accuracy: 0.6132 - val_loss: 0.6523\n",
            "Epoch 40/50\n",
            "\u001b[1m2028/2028\u001b[0m \u001b[32m━━━━━━━━━━━━━━━━━━━━\u001b[0m\u001b[37m\u001b[0m \u001b[1m3s\u001b[0m 2ms/step - accuracy: 0.6342 - loss: 0.6428 - val_accuracy: 0.6368 - val_loss: 0.6393\n",
            "Epoch 41/50\n",
            "\u001b[1m2028/2028\u001b[0m \u001b[32m━━━━━━━━━━━━━━━━━━━━\u001b[0m\u001b[37m\u001b[0m \u001b[1m4s\u001b[0m 2ms/step - accuracy: 0.6350 - loss: 0.6413 - val_accuracy: 0.6365 - val_loss: 0.6400\n",
            "Epoch 42/50\n",
            "\u001b[1m2028/2028\u001b[0m \u001b[32m━━━━━━━━━━━━━━━━━━━━\u001b[0m\u001b[37m\u001b[0m \u001b[1m4s\u001b[0m 2ms/step - accuracy: 0.6315 - loss: 0.6415 - val_accuracy: 0.6395 - val_loss: 0.6387\n",
            "Epoch 43/50\n",
            "\u001b[1m2028/2028\u001b[0m \u001b[32m━━━━━━━━━━━━━━━━━━━━\u001b[0m\u001b[37m\u001b[0m \u001b[1m3s\u001b[0m 2ms/step - accuracy: 0.6341 - loss: 0.6410 - val_accuracy: 0.6379 - val_loss: 0.6411\n",
            "Epoch 44/50\n",
            "\u001b[1m2028/2028\u001b[0m \u001b[32m━━━━━━━━━━━━━━━━━━━━\u001b[0m\u001b[37m\u001b[0m \u001b[1m3s\u001b[0m 2ms/step - accuracy: 0.6333 - loss: 0.6419 - val_accuracy: 0.6379 - val_loss: 0.6392\n",
            "Epoch 45/50\n",
            "\u001b[1m2028/2028\u001b[0m \u001b[32m━━━━━━━━━━━━━━━━━━━━\u001b[0m\u001b[37m\u001b[0m \u001b[1m3s\u001b[0m 2ms/step - accuracy: 0.6344 - loss: 0.6402 - val_accuracy: 0.6332 - val_loss: 0.6419\n",
            "Epoch 46/50\n",
            "\u001b[1m2028/2028\u001b[0m \u001b[32m━━━━━━━━━━━━━━━━━━━━\u001b[0m\u001b[37m\u001b[0m \u001b[1m4s\u001b[0m 2ms/step - accuracy: 0.6340 - loss: 0.6405 - val_accuracy: 0.6316 - val_loss: 0.6412\n",
            "Epoch 47/50\n",
            "\u001b[1m2028/2028\u001b[0m \u001b[32m━━━━━━━━━━━━━━━━━━━━\u001b[0m\u001b[37m\u001b[0m \u001b[1m4s\u001b[0m 2ms/step - accuracy: 0.6360 - loss: 0.6396 - val_accuracy: 0.6397 - val_loss: 0.6369\n",
            "Epoch 48/50\n",
            "\u001b[1m2028/2028\u001b[0m \u001b[32m━━━━━━━━━━━━━━━━━━━━\u001b[0m\u001b[37m\u001b[0m \u001b[1m3s\u001b[0m 2ms/step - accuracy: 0.6359 - loss: 0.6384 - val_accuracy: 0.6379 - val_loss: 0.6377\n",
            "Epoch 49/50\n",
            "\u001b[1m2028/2028\u001b[0m \u001b[32m━━━━━━━━━━━━━━━━━━━━\u001b[0m\u001b[37m\u001b[0m \u001b[1m4s\u001b[0m 2ms/step - accuracy: 0.6291 - loss: 0.6426 - val_accuracy: 0.6379 - val_loss: 0.6387\n",
            "Epoch 50/50\n",
            "\u001b[1m2028/2028\u001b[0m \u001b[32m━━━━━━━━━━━━━━━━━━━━\u001b[0m\u001b[37m\u001b[0m \u001b[1m4s\u001b[0m 2ms/step - accuracy: 0.6326 - loss: 0.6412 - val_accuracy: 0.6325 - val_loss: 0.6428\n",
            "\u001b[1m507/507\u001b[0m \u001b[32m━━━━━━━━━━━━━━━━━━━━\u001b[0m\u001b[37m\u001b[0m \u001b[1m1s\u001b[0m 1ms/step - accuracy: 0.6293 - loss: 0.6449\n",
            "Test loss: 0.6427561640739441\n",
            "Test accuracy: 0.6325070858001709\n"
          ]
        }
      ]
    },
    {
      "cell_type": "markdown",
      "source": [
        "## Evaluation"
      ],
      "metadata": {
        "id": "d0696WWwKOKJ"
      }
    },
    {
      "cell_type": "markdown",
      "source": [
        "Evaluating the results we can see that the model have opportunities to be improved, as both the train and test sets are having an accuracy bellow 70%"
      ],
      "metadata": {
        "id": "oueH7aKil6ZX"
      }
    },
    {
      "cell_type": "markdown",
      "source": [
        "### Visualization of training and validation loss & accuracy"
      ],
      "metadata": {
        "id": "WfVAOYWPeRsb"
      }
    },
    {
      "cell_type": "code",
      "source": [
        "# Plot training & validation loss\n",
        "plt.figure(figsize=(12, 6))\n",
        "plt.subplot(1, 2, 1)\n",
        "plt.plot(history.history['loss'], label='train loss')\n",
        "plt.plot(history.history['val_loss'], label='val loss')\n",
        "plt.title('Training and Validation Loss')\n",
        "plt.legend()\n",
        "\n",
        "# Plot training & validation accuracy\n",
        "plt.subplot(1, 2, 2)\n",
        "plt.plot(history.history['accuracy'], label='train accuracy')\n",
        "plt.plot(history.history['val_accuracy'], label='val accuracy')\n",
        "plt.title('Training and Validation Accuracy')\n",
        "plt.legend()\n",
        "\n",
        "plt.show()"
      ],
      "metadata": {
        "colab": {
          "base_uri": "https://localhost:8080/",
          "height": 545
        },
        "id": "i4pnTzi-eMQc",
        "outputId": "824fe25d-be1b-4c13-8d01-7e7e319242b5"
      },
      "execution_count": null,
      "outputs": [
        {
          "output_type": "display_data",
          "data": {
            "text/plain": [
              "<Figure size 1200x600 with 2 Axes>"
            ],
            "image/png": "[encoded data removed]"
          },
          "metadata": {}
        }
      ]
    },
    {
      "cell_type": "code",
      "source": [
        "!pip install scikeras"
      ],
      "metadata": {
        "colab": {
          "base_uri": "https://localhost:8080/"
        },
        "id": "_aTzj0UfiGsK",
        "outputId": "2a8684e1-bebf-4d51-fc2c-331cbbac4e75"
      },
      "execution_count": null,
      "outputs": [
        {
          "output_type": "stream",
          "name": "stdout",
          "text": [
            "Collecting scikeras\n",
            "  Downloading scikeras-0.13.0-py3-none-any.whl.metadata (3.1 kB)\n",
            "Requirement already satisfied: keras>=3.2.0 in /usr/local/lib/python3.10/dist-packages (from scikeras) (3.5.0)\n",
            "Requirement already satisfied: scikit-learn>=1.4.2 in /usr/local/lib/python3.10/dist-packages (from scikeras) (1.5.2)\n",
            "Requirement already satisfied: absl-py in /usr/local/lib/python3.10/dist-packages (from keras>=3.2.0->scikeras) (1.4.0)\n",
            "Requirement already satisfied: numpy in /usr/local/lib/python3.10/dist-packages (from keras>=3.2.0->scikeras) (1.26.4)\n",
            "Requirement already satisfied: rich in /usr/local/lib/python3.10/dist-packages (from keras>=3.2.0->scikeras) (13.9.4)\n",
            "Requirement already satisfied: namex in /usr/local/lib/python3.10/dist-packages (from keras>=3.2.0->scikeras) (0.0.8)\n",
            "Requirement already satisfied: h5py in /usr/local/lib/python3.10/dist-packages (from keras>=3.2.0->scikeras) (3.12.1)\n",
            "Requirement already satisfied: optree in /usr/local/lib/python3.10/dist-packages (from keras>=3.2.0->scikeras) (0.13.1)\n",
            "Requirement already satisfied: ml-dtypes in /usr/local/lib/python3.10/dist-packages (from keras>=3.2.0->scikeras) (0.4.1)\n",
            "Requirement already satisfied: packaging in /usr/local/lib/python3.10/dist-packages (from keras>=3.2.0->scikeras) (24.2)\n",
            "Requirement already satisfied: scipy>=1.6.0 in /usr/local/lib/python3.10/dist-packages (from scikit-learn>=1.4.2->scikeras) (1.13.1)\n",
            "Requirement already satisfied: joblib>=1.2.0 in /usr/local/lib/python3.10/dist-packages (from scikit-learn>=1.4.2->scikeras) (1.4.2)\n",
            "Requirement already satisfied: threadpoolctl>=3.1.0 in /usr/local/lib/python3.10/dist-packages (from scikit-learn>=1.4.2->scikeras) (3.5.0)\n",
            "Requirement already satisfied: typing-extensions>=4.5.0 in /usr/local/lib/python3.10/dist-packages (from optree->keras>=3.2.0->scikeras) (4.12.2)\n",
            "Requirement already satisfied: markdown-it-py>=2.2.0 in /usr/local/lib/python3.10/dist-packages (from rich->keras>=3.2.0->scikeras) (3.0.0)\n",
            "Requirement already satisfied: pygments<3.0.0,>=2.13.0 in /usr/local/lib/python3.10/dist-packages (from rich->keras>=3.2.0->scikeras) (2.18.0)\n",
            "Requirement already satisfied: mdurl~=0.1 in /usr/local/lib/python3.10/dist-packages (from markdown-it-py>=2.2.0->rich->keras>=3.2.0->scikeras) (0.1.2)\n",
            "Downloading scikeras-0.13.0-py3-none-any.whl (26 kB)\n",
            "Installing collected packages: scikeras\n",
            "Successfully installed scikeras-0.13.0\n"
          ]
        }
      ]
    },
    {
      "cell_type": "code",
      "source": [
        "# Evaluate the model on the test set with the best parameters\n",
        "best_model = grid_result.best_estimator_\n",
        "y_pred = best_model.predict(X_test)\n",
        "\n",
        "# Convert predictions to binary\n",
        "y_pred_binary = (y_pred > 0.5).astype(int)\n",
        "\n",
        "# Step 8: Generate the classification report\n",
        "print(\"Classification Report:\")\n",
        "print(classification_report(y_test, y_pred_binary))"
      ],
      "metadata": {
        "id": "kH9jrtA6h9AF",
        "colab": {
          "base_uri": "https://localhost:8080/"
        },
        "outputId": "a4d274ba-02ed-4755-8251-031ba018694e"
      },
      "execution_count": null,
      "outputs": [
        {
          "output_type": "stream",
          "name": "stdout",
          "text": [
            "Classification Report:\n",
            "              precision    recall  f1-score   support\n",
            "\n",
            "           0       0.61      0.36      0.45      6739\n",
            "           1       0.65      0.84      0.73      9479\n",
            "\n",
            "    accuracy                           0.64     16218\n",
            "   macro avg       0.63      0.60      0.59     16218\n",
            "weighted avg       0.63      0.64      0.61     16218\n",
            "\n"
          ]
        }
      ]
    },
    {
      "cell_type": "code",
      "source": [
        "# Step 1: Make predictions on the test set\n",
        "y_pred = model.predict(X_test)\n",
        "y_pred_binary = (y_pred > 0.5).astype(int)  # Convert probabilities to binary (0 or 1)\n",
        "\n",
        "# Step 2: Generate the confusion matrix\n",
        "cm = confusion_matrix(y_test, y_pred_binary)\n",
        "\n",
        "# Step 3: Plot the confusion matrix using Seaborn heatmap for better visualization\n",
        "plt.figure(figsize=(6, 6))\n",
        "sns.heatmap(cm, annot=True, fmt='d', cmap='Blues', cbar=False,\n",
        "            xticklabels=['Not Reordered', 'Reordered'],\n",
        "            yticklabels=['Not Reordered', 'Reordered'])\n",
        "plt.title('Confusion Matrix')\n",
        "plt.xlabel('Predicted')\n",
        "plt.ylabel('True')\n",
        "plt.show()"
      ],
      "metadata": {
        "id": "c1am1jGMKNQu",
        "colab": {
          "base_uri": "https://localhost:8080/",
          "height": 581
        },
        "outputId": "433111a8-a57e-43f7-d5f9-469da7c35619"
      },
      "execution_count": null,
      "outputs": [
        {
          "output_type": "stream",
          "name": "stdout",
          "text": [
            "\u001b[1m507/507\u001b[0m \u001b[32m━━━━━━━━━━━━━━━━━━━━\u001b[0m\u001b[37m\u001b[0m \u001b[1m1s\u001b[0m 2ms/step\n"
          ]
        },
        {
          "output_type": "display_data",
          "data": {
            "text/plain": [
              "<Figure size 600x600 with 1 Axes>"
            ],
            "image/png": "[encoded data removed]"
          },
          "metadata": {}
        }
      ]
    }
  ],
  "metadata": {
    "accelerator": "GPU",
    "colab": {
      "gpuType": "T4",
      "provenance": []
    },
    "kernelspec": {
      "display_name": "base",
      "language": "python",
      "name": "python3"
    },
    "language_info": {
      "codemirror_mode": {
        "name": "ipython",
        "version": 3
      },
      "file_extension": ".py",
      "mimetype": "text/x-python",
      "name": "python",
      "nbconvert_exporter": "python",
      "pygments_lexer": "ipython3",
      "version": "3.12.2"
    }
  },
  "nbformat": 4,
  "nbformat_minor": 0
}